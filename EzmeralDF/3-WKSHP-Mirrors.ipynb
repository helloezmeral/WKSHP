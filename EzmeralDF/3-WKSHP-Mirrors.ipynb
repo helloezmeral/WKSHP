{
 "cells": [
  {
   "cell_type": "markdown",
   "metadata": {},
   "source": [
    "\n",
    "# Lab 3: Using Mirror's Features\n",
    "## Using Mirror feature on volumes for disaster recovery or development use.\n",
    "\n",
    "### With Data Fabric Mirroring you can:\n",
    "\n",
    "- Mirror data from one cluster to another for disaster recovery (not showcased here today)\n",
    "- Mirror data localy on one cluster for recovery, development, testing or data validation needs.\n",
    "- Schedules mirrors or run them on demand.\n",
    "- Promote mirrors out of read-only mode to read-write\n",
    "\n",
    "<p align=\"center\">\n",
    "  <img src=\"Pictures/edf-mirror-overview.png\" width=\"600\" height=\"400\" alt=\"Data Fabric Snapshots\">                                                    \n",
    "  \n",
    "</p>"
   ]
  },
  {
   "cell_type": "code",
   "execution_count": 1,
   "metadata": {},
   "outputs": [
    {
     "name": "stdout",
     "output_type": "stream",
     "text": [
      "[ssh] Login to 16.31.86.198...\n",
      "[ssh] host=16.31.86.198 hostname=16.31.86.198 other_conf={'user': None, 'port': None, 'keyfile': None, 'load_system_ssh_config': False, 'missing_host_policy': <paramiko.client.WarningPolicy object at 0x7fdbf0158520>}\n",
      "[ssh] Successfully logged in.\n",
      "[ssh] host = 16.31.86.198, cwd = /student/student1222\n",
      "We are now connected to the appliance\n",
      "your operation context is: student1222 with Password: qcpx0k4u\n"
     ]
    }
   ],
   "source": [
    "%login 16.31.86.198\n",
    "\n",
    "echo \"We are now connected to the appliance\"\n",
    "\n",
    "#Variables used by scripts\n",
    "#password=\"qcpx0k4u\" # your Data Fabric login credentials - password - \n",
    "#apiserver_host=\"16.31.85.156\" # API Server for the Data Fabric Cluster\n",
    "#ad_group=\"data-fabric-users\" # LDAP Domain Group for Data Fabric users\n",
    "#vol_name=\"vol1\" # suffix for student volume name\n",
    "#snapvol_name=\"snapvol1\" # suffix for student snap volume name\n",
    "#cluster_name=\"mapr-cluster2.etc.fr.comm.hpecorp.net\" # Data Fabric Cluster Name\n",
    "#src_vol_name=\"src-mirrvol1\" # suffix for student source mirror volume name\n",
    "#dst_vol_name=\"dst-mirrvol1\"  # suffix for student destination mirror volume name\n",
    "#secvol_name=\"sec-vol1\"  # suffix for student volume name used for security comparison / user access \n",
    "#sec_policy=\"student1222-policy\" #security policy to allow r/w access to volumes\n",
    "\n",
    "echo \"your operation context is:\" student1222 \"with Password:\" qcpx0k4u"
   ]
  },
  {
   "cell_type": "markdown",
   "metadata": {},
   "source": [
    "## 1. Creating a source volume that we will use to mirror from.\n",
    "\n",
    "#### Background:\n",
    "\n",
    "You have been given a user that is allowed to create and modify volumes on the cluster.  Data Fabric volumes can be mounted so they are accessable from NFS, HDFS or POSIX commands (like the bash kernel shell in these labs).  For security reasons, you can only mount volumes in the /user directory.\n",
    "\n",
    "Fist let's create a volume to create mirror's on:"
   ]
  },
  {
   "cell_type": "code",
   "execution_count": 2,
   "metadata": {},
   "outputs": [
    {
     "name": "stdout",
     "output_type": "stream",
     "text": [
      "[ssh] host = 16.31.86.198, cwd = /student/student1222\n",
      "  % Total    % Received % Xferd  Average Speed   Time    Time     Time  Current\n",
      "                                 Dload  Upload   Total   Spent    Left  Speed\n",
      "100   182  100   182    0     0     73      0  0:00:02  0:00:02 --:--:--    73\n",
      "{\"timestamp\":1624511577959,\"timeofday\":\"2021-06-24 07:12:57.959 GMT+0200 AM\",\"status\":\"OK\",\"total\":0,\"data\":[],\"messages\":[\"Successfully created volume: 'student1222-src-mirrvol1'\"]}"
     ]
    }
   ],
   "source": [
    "source ~/.bashrc\n",
    "\n",
    "curl -k -X POST 'https://'$apiserver_host':8443/rest/volume/create?name='$username-$src_vol_name'&path=/user/'$username-$src_vol_name'' --user $username:$password"
   ]
  },
  {
   "cell_type": "markdown",
   "metadata": {},
   "source": [
    "## 2. Create a mirror volume from your source volume.\n",
    "\n",
    "Now let's create a local mirror volume from our source volume we made in the previous step:"
   ]
  },
  {
   "cell_type": "code",
   "execution_count": 3,
   "metadata": {},
   "outputs": [
    {
     "name": "stdout",
     "output_type": "stream",
     "text": [
      "[ssh] host = 16.31.86.198, cwd = /student/student1222\n",
      "  % Total    % Received % Xferd  Average Speed   Time    Time     Time  Current\n",
      "                                 Dload  Upload   Total   Spent    Left  Speed\n",
      "100   182  100   182    0     0    409      0 --:--:-- --:--:-- --:--:--   410\n",
      "{\"timestamp\":1624511578491,\"timeofday\":\"2021-06-24 07:12:58.491 GMT+0200 AM\",\"status\":\"OK\",\"total\":0,\"data\":[],\"messages\":[\"Successfully created volume: 'student1222-dst-mirrvol1'\"]}"
     ]
    }
   ],
   "source": [
    "source ~/.bashrc\n",
    "\n",
    "curl -k -X POST 'https://'$apiserver_host':8443/rest/volume/create?name='$username-$dst_vol_name'&path=/user/'$username-$dst_vol_name'&type=mirror&source='$username-$src_vol_name'@'$cluster_name'' --user $username:$password"
   ]
  },
  {
   "cell_type": "markdown",
   "metadata": {},
   "source": [
    "## 3. Create data within your source volume\n",
    "\n",
    "Now let's create some data in our source volume so we can verify that the mirror operation worked:"
   ]
  },
  {
   "cell_type": "code",
   "execution_count": 4,
   "metadata": {},
   "outputs": [
    {
     "name": "stdout",
     "output_type": "stream",
     "text": [
      "[ssh] host = 16.31.86.198, cwd = /student/student1222\n",
      "## Create a file in your source volume that we will mirror/replicate in a later step.##\n",
      "## Verify the file you created in in your directory.##\n",
      "student1222-source-volume-file1\n",
      "## Verify the file has the contents you added.##\n",
      "student1222-vol1 source volume update Thu Jun 24 07:12:23 CEST 2021\n"
     ]
    }
   ],
   "source": [
    "source ~/.bashrc\n",
    "echo \"## Create a file in your source volume that we will mirror/replicate in a later step.##\"\n",
    "echo \"$username-$vol_name source volume update $(date)\" >> /mapr/$cluster_name/user/$username-$src_vol_name/$username-source-volume-file1\n",
    "echo \"## Verify the file you created in in your directory.##\"\n",
    "ls /mapr/$cluster_name/user/$username-$src_vol_name\n",
    "echo \"## Verify the file has the contents you added.##\"\n",
    "cat /mapr/$cluster_name/user/$username-$src_vol_name/$username'-'source-volume-file1"
   ]
  },
  {
   "cell_type": "markdown",
   "metadata": {},
   "source": [
    "## 4. Start the mirroring process\n",
    "\n",
    "By default a target or destination mirror volume is mounted as read-only (ro).  Also by default the mirror is not started until you manually start it or apply a schedule to the mirror.  In this example we will be starting it manually.\n",
    "\n",
    "**Use `CTRL+Enter` on this cell to run it again in case mirroring not done yet.**"
   ]
  },
  {
   "cell_type": "code",
   "execution_count": 5,
   "metadata": {},
   "outputs": [
    {
     "name": "stdout",
     "output_type": "stream",
     "text": [
      "[ssh] host = 16.31.86.198, cwd = /student/student1222\n",
      "  % Total    % Received % Xferd  Average Speed   Time    Time     Time  Current\n",
      "                                 Dload  Upload   Total   Spent    Left  Speed\n",
      "100   192  100   192    0     0    692      0 --:--:-- --:--:-- --:--:--   693\n",
      "{\"timestamp\":1624511578968,\"timeofday\":\"2021-06-24 07:12:58.968 GMT+0200 AM\",\"status\":\"OK\",\"total\":1,\"data\":[{\"messages\":\"Started mirror operation for volume(s) 'student1222-dst-mirrvol1' \"}]}"
     ]
    }
   ],
   "source": [
    "source ~/.bashrc\n",
    "\n",
    "curl -k -X POST 'https://'$apiserver_host':8443/rest/volume/mirror/start?name='$username-$dst_vol_name'' --user $username:$password"
   ]
  },
  {
   "cell_type": "markdown",
   "metadata": {},
   "source": [
    "This lab is a short term setup of managing data so we will not cover setting up schedules and applying them to snapshot's or to mirrors.  For more details on creating schedules see: [Creating Schedules on Ezmeral Data Fabric](https://docs.datafabric.hpe.com/62/ReferenceGuide/schedule.html)"
   ]
  },
  {
   "cell_type": "markdown",
   "metadata": {},
   "source": [
    "## 5. Verify your source data is now within your destination volume\n",
    "\n",
    "Now let's verify the data we wrote in our previous steps in our source volume is now in the destination volume and that our mirror operation we started worked:"
   ]
  },
  {
   "cell_type": "code",
   "execution_count": 6,
   "metadata": {},
   "outputs": [
    {
     "name": "stdout",
     "output_type": "stream",
     "text": [
      "[ssh] host = 16.31.86.198, cwd = /student/student1222\n",
      "## List out the directory contents on our destination volume.##\n"
     ]
    }
   ],
   "source": [
    "source ~/.bashrc\n",
    "echo \"## List out the directory contents on our destination volume.##\"\n",
    "ls /mapr/$cluster_name/user/$username-$dst_vol_name"
   ]
  },
  {
   "cell_type": "markdown",
   "metadata": {},
   "source": [
    "Now let's write some data to your new destination volume that was mirrored from the source volume:\n"
   ]
  },
  {
   "cell_type": "code",
   "execution_count": 7,
   "metadata": {},
   "outputs": [
    {
     "name": "stdout",
     "output_type": "stream",
     "text": [
      "[ssh] host = 16.31.86.198, cwd = /student/student1222\n",
      "##Let's try and write some data to our destination volume...##\n",
      "/usr/bin/bash: line 3: /mapr/mapr-cluster2.etc.fr.comm.hpecorp.net/user/student1222-dst-mirrvol1/student1222-source-volume-file1: Read-only file system\n",
      "##List out the destination volume directory.##\n",
      "##Verify the file we wrote is on the destination volume directory.##\n",
      "cat: /mapr/mapr-cluster2.etc.fr.comm.hpecorp.net/user/student1222-dst-mirrvol1/student1222-source-volume-file1: No such file or directory\n"
     ]
    },
    {
     "ename": "abnormal exit code",
     "evalue": "1",
     "output_type": "error",
     "traceback": [
      ""
     ]
    }
   ],
   "source": [
    "source ~/.bashrc\n",
    "echo \"##Let's try and write some data to our destination volume...##\"\n",
    "echo \"$username-$vol_name destination volume update $(date)\" >> /mapr/$cluster_name/user/$username-$dst_vol_name/$username-source-volume-file1\n",
    "echo \"##List out the destination volume directory.##\"\n",
    "ls /mapr/$cluster_name/user/$username-$dst_vol_name\n",
    "echo \"##Verify the file we wrote is on the destination volume directory.##\"\n",
    "cat /mapr/$cluster_name/user/$username-$dst_vol_name/$username-source-volume-file1"
   ]
  },
  {
   "cell_type": "markdown",
   "metadata": {},
   "source": [
    "**Notice the update to the file did not have the “destination volume update” appended to the file.** This error is to be expected as by default destination volumes that are currently being mirrored are mounted in read-only mode (ro). Let's break the mirror and mount the volume in read-write (rw) mode:"
   ]
  },
  {
   "cell_type": "markdown",
   "metadata": {},
   "source": [
    "## 6. Promoting destination volumes to read-write\n",
    "\n",
    "First let's ensure the mirror process has stoped:"
   ]
  },
  {
   "cell_type": "code",
   "execution_count": 8,
   "metadata": {},
   "outputs": [
    {
     "name": "stdout",
     "output_type": "stream",
     "text": [
      "[ssh] host = 16.31.86.198, cwd = /student/student1222\n",
      "  % Total    % Received % Xferd  Average Speed   Time    Time     Time  Current\n",
      "                                 Dload  Upload   Total   Spent    Left  Speed\n",
      "100   182  100   182    0     0    558      0 --:--:-- --:--:-- --:--:--   558\n",
      "{\"timestamp\":1624511580203,\"timeofday\":\"2021-06-24 07:13:00.203 GMT+0200 AM\",\"status\":\"OK\",\"total\":1,\"data\":[{\"messages\":\"Stopped mirror operation for 'student1222-dst-mirrvol1' \"}]}"
     ]
    }
   ],
   "source": [
    "source ~/.bashrc\n",
    "\n",
    "curl -k -X POST 'https://'$apiserver_host':8443/rest/volume/mirror/stop?name='$username-$dst_vol_name'' --user $username:$password"
   ]
  },
  {
   "cell_type": "markdown",
   "metadata": {},
   "source": [
    "Now we can change the volume mount to read-write:"
   ]
  },
  {
   "cell_type": "code",
   "execution_count": 9,
   "metadata": {},
   "outputs": [
    {
     "name": "stdout",
     "output_type": "stream",
     "text": [
      "[ssh] host = 16.31.86.198, cwd = /student/student1222\n",
      "  % Total    % Received % Xferd  Average Speed   Time    Time     Time  Current\n",
      "                                 Dload  Upload   Total   Spent    Left  Speed\n",
      "100   111  100   111    0     0    379      0 --:--:-- --:--:-- --:--:--   380\n",
      "{\"timestamp\":1624511580733,\"timeofday\":\"2021-06-24 07:13:00.733 GMT+0200 AM\",\"status\":\"OK\",\"total\":0,\"data\":[]}"
     ]
    }
   ],
   "source": [
    "source ~/.bashrc\n",
    "\n",
    "curl -k -X POST 'https://'$apiserver_host':8443/rest/volume/modify?name='$username-$dst_vol_name'&type=rw' --user $username:$password"
   ]
  },
  {
   "cell_type": "markdown",
   "metadata": {},
   "source": [
    "Finally we can verify that the new destination volume has been mounted read-write (rw) by writing new data to it:"
   ]
  },
  {
   "cell_type": "code",
   "execution_count": 10,
   "metadata": {},
   "outputs": [
    {
     "name": "stdout",
     "output_type": "stream",
     "text": [
      "[ssh] host = 16.31.86.198, cwd = /student/student1222\n",
      "##Now let's try and write some data to our destination volume...##\n",
      "/usr/bin/bash: line 3: /mapr/mapr-cluster2.etc.fr.comm.hpecorp.net/user/student1222-dst-mirrvol1/student1222-source-volume-file1: Read-only file system\n",
      "##List out the destination volume directory.##\n",
      "##Verify the file we wrote is on the destination volume directory.##\n",
      "cat: /mapr/mapr-cluster2.etc.fr.comm.hpecorp.net/user/student1222-dst-mirrvol1/student1222-source-volume-file1: No such file or directory\n"
     ]
    },
    {
     "ename": "abnormal exit code",
     "evalue": "1",
     "output_type": "error",
     "traceback": [
      ""
     ]
    }
   ],
   "source": [
    "source ~/.bashrc\n",
    "echo \"##Now let's try and write some data to our destination volume...##\"\n",
    "echo \"$username-$vol_name destination volume update $(date)\" >> /mapr/$cluster_name/user/$username-$dst_vol_name/$username-source-volume-file1\n",
    "echo \"##List out the destination volume directory.##\"\n",
    "ls /mapr/$cluster_name/user/$username-$dst_vol_name\n",
    "echo \"##Verify the file we wrote is on the destination volume directory.##\"\n",
    "cat /mapr/$cluster_name/user/$username-$dst_vol_name/$username-source-volume-file1"
   ]
  },
  {
   "cell_type": "markdown",
   "metadata": {},
   "source": [
    "You will notice that our file now has the “destination volume update” appended to the file.  This confirms that the destination mirror volume is mounted and working in read-write (rw) mode.\n",
    "\n",
    "For additional information on using HPE Ezmeral Data Fabric Mirror's Features see: [Mirror Volumes](https://docs.datafabric.hpe.com/62/AdministratorGuide/MirrorVolumes-Mirroring.html)"
   ]
  },
  {
   "cell_type": "markdown",
   "metadata": {},
   "source": [
    "## 7. Removing mirrors\n",
    "### Let's cleanup now\n",
    "\n",
    " 1. Remove the Mirror  volumes\n",
    " 2. Remove the Source Volume\n",
    " \n",
    " **Note the `&force=1 here`.  Because Mirror volumes actually use snapshots. It will error out saying there are snapshots you need to remove first. This will just force a removal so we don’t have to remove the snapshots**"
   ]
  },
  {
   "cell_type": "code",
   "execution_count": 11,
   "metadata": {},
   "outputs": [
    {
     "name": "stdout",
     "output_type": "stream",
     "text": [
      "[ssh] host = 16.31.86.198, cwd = /student/student1222\n",
      "Deleting dstmirror snapshot\n",
      "  % Total    % Received % Xferd  Average Speed   Time    Time     Time  Current\n",
      "                                 Dload  Upload   Total   Spent    Left  Speed\n",
      "100   696  100   696    0     0   2343      0 --:--:-- --:--:-- --:--:--  2351\n",
      "\n",
      "  % Total    % Received % Xferd  Average Speed   Time    Time     Time  Current\n",
      "                                 Dload  Upload   Total   Spent    Left  Speed\n",
      "100   151  100   151    0     0    576      0 --:--:-- --:--:-- --:--:--   578\n",
      "{\"timestamp\":1624511583700,\"timeofday\":\"2021-06-24 07:13:03.700 GMT+0200 AM\",\"status\":\"ERROR\",\"errors\":[{\"id\":22,\"desc\":\"Error parsing snapshot IDs\"}]}Deleting srcmirror snapshot\n",
      "  % Total    % Received % Xferd  Average Speed   Time    Time     Time  Current\n",
      "                                 Dload  Upload   Total   Spent    Left  Speed\n",
      "100   696  100   696    0     0   2282      0 --:--:-- --:--:-- --:--:--  2281\n",
      "256000074\n",
      "  % Total    % Received % Xferd  Average Speed   Time    Time     Time  Current\n",
      "                                 Dload  Upload   Total   Spent    Left  Speed\n",
      "100   111  100   111    0     0    406      0 --:--:-- --:--:-- --:--:--   408\n",
      "{\"timestamp\":1624511584302,\"timeofday\":\"2021-06-24 07:13:04.302 GMT+0200 AM\",\"status\":\"OK\",\"total\":0,\"data\":[]}Removing the Mirror Volume\n",
      "  % Total    % Received % Xferd  Average Speed   Time    Time     Time  Current\n",
      "                                 Dload  Upload   Total   Spent    Left  Speed\n",
      "100   111  100   111    0     0     47      0  0:00:02  0:00:02 --:--:--    47\n",
      "Removing the Source Volume\n",
      "  % Total    % Received % Xferd  Average Speed   Time    Time     Time  Current\n",
      "                                 Dload  Upload   Total   Spent    Left  Speed\n",
      "100   111  100   111    0     0     47      0  0:00:02  0:00:02 --:--:--    47\n"
     ]
    }
   ],
   "source": [
    "source ~/.bashrc\n",
    "\n",
    "echo \"Deleting dstmirror snapshot\"\n",
    "snapiddstmirror=$(curl -k --user $username:$password -X POST 'https://'$apiserver_host':8443/rest/volume/snapshot/list'| jq -r | grep -B 12 -A 2 ''$username-$dst_vol_name'' | grep snapshotid | cut -c22-30)\n",
    "echo $snapiddstmirror\n",
    "curl -k --user $username:$password -X POST 'https://'$apiserver_host':8443/rest/volume/snapshot/remove?snapshots='$snapiddstmirror\n",
    "\n",
    "echo \"Deleting srcmirror snapshot\"\n",
    "snapidsrcmirror=$(curl -k --user $username:$password -X POST 'https://'$apiserver_host':8443/rest/volume/snapshot/list'| jq -r | grep -B 12 -A 2 ''$username-$src_vol_name'' | grep snapshotid | cut -c22-30)\n",
    "echo $snapidsrcmirror\n",
    "curl -k --user $username:$password -X POST 'https://'$apiserver_host':8443/rest/volume/snapshot/remove?snapshots='$snapidsrcmirror\n",
    "\n",
    "echo \"Removing the Mirror Volume\"\n",
    "curl -k --user $username:$password -X POST 'https://'$apiserver_host':8443/rest/volume/remove?name='$username-$dst_vol_name -force\n",
    "\n",
    "echo \"Removing the Source Volume\"\n",
    "curl -k --user $username:$password -X POST 'https://'$apiserver_host':8443/rest/volume/remove?name='$username-$src_vol_name -force\n"
   ]
  },
  {
   "cell_type": "code",
   "execution_count": 12,
   "metadata": {},
   "outputs": [
    {
     "name": "stdout",
     "output_type": "stream",
     "text": [
      "[ssh] Closing existing connection.\n",
      "[ssh] Successfully logged out.\n"
     ]
    }
   ],
   "source": [
    "%logout "
   ]
  },
  {
   "cell_type": "markdown",
   "metadata": {},
   "source": [
    "## Mirror's Summary\n",
    "\n",
    "In this example we:\n",
    "\n",
    "1. Created a new source volume\n",
    "2. Wrote data to it\n",
    "3. Setup a new destination mirror volume\n",
    "4. Started the mirror process on the destination volume.\n",
    "5. And then promoted that mirror to be it's own volume and wrote new data to it.\n",
    "\n",
    "# Using Access Security Settings and Policies  on your data\n",
    "You can now move to the conclusion of this workshop !\n",
    "\n",
    "* [Lab 4 - Using Access Security Settings and Policies](4-WKSHP-App-Security-Policies.ipynb)"
   ]
  },
  {
   "cell_type": "code",
   "execution_count": null,
   "metadata": {},
   "outputs": [],
   "source": []
  }
 ],
 "metadata": {
  "kernelspec": {
   "display_name": "SSH",
   "language": "bash",
   "name": "ssh"
  },
  "language_info": {
   "codemirror_mode": "shell",
   "file_extension": ".sh",
   "mimetype": "text/x-sh",
   "name": "ssh"
  }
 },
 "nbformat": 4,
 "nbformat_minor": 4
}
