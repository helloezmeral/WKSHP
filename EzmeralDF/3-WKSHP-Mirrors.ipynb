{
 "cells": [
  {
   "cell_type": "markdown",
   "metadata": {},
   "source": [
    "\n",
    "# Lab 3: Using Mirror's Features\n",
    "## Using Mirror feature on volumes for disaster recovery or development use.\n",
    "\n",
    "### With Data Fabric Mirroring you can:\n",
    "\n",
    "- Mirror data from one cluster to another for disaster recovery (not showcased here today)\n",
    "- Mirror data localy on one cluster for recovery, development, testing or data validation needs.\n",
    "- Schedules mirrors or run them on demand.\n",
    "- Promote mirrors out of read-only mode to read-write\n",
    "\n",
    "<p align=\"center\">\n",
    "  <img src=\"Pictures/edf-mirror-overview.png\" width=\"600\" height=\"400\" alt=\"Data Fabric Snapshots\">                                                    \n",
    "  \n",
    "</p>"
   ]
  },
  {
   "cell_type": "code",
   "execution_count": null,
   "metadata": {},
   "outputs": [],
   "source": [
    "%login 16.31.86.198\n",
    "\n",
    "echo \"We are now connected to the appliance\"\n",
    "\n",
    "#Variables used by scripts\n",
    "#password=\"qcpx0k4u\" # your Data Fabric login credentials - password - \n",
    "#apiserver_host=\"16.31.85.156\" # API Server for the Data Fabric Cluster\n",
    "#ad_group=\"data-fabric-users\" # LDAP Domain Group for Data Fabric users\n",
    "#vol_name=\"vol1\" # suffix for student volume name\n",
    "#snapvol_name=\"snapvol1\" # suffix for student snap volume name\n",
    "#cluster_name=\"mapr-cluster2.etc.fr.comm.hpecorp.net\" # Data Fabric Cluster Name\n",
    "#src_vol_name=\"src-mirrvol1\" # suffix for student source mirror volume name\n",
    "#dst_vol_name=\"dst-mirrvol1\"  # suffix for student destination mirror volume name\n",
    "#secvol_name=\"sec-vol1\"  # suffix for student volume name used for security comparison / user access \n",
    "#sec_policy=\"student1222-policy\" #security policy to allow r/w access to volumes\n",
    "\n",
    "echo \"your operation context is:\" student1222 \"with Password:\" qcpx0k4u"
   ]
  },
  {
   "cell_type": "markdown",
   "metadata": {},
   "source": [
    "## 1. Creating a source volume that we will use to mirror from.\n",
    "\n",
    "#### Background:\n",
    "\n",
    "You have been given a user that is allowed to create and modify volumes on the cluster.  Data Fabric volumes can be mounted so they are accessable from NFS, HDFS or POSIX commands (like the bash kernel shell in these labs).  For security reasons, you can only mount volumes in the /user directory.\n",
    "\n",
    "Fist let's create a volume to create mirror's on:"
   ]
  },
  {
   "cell_type": "code",
   "execution_count": null,
   "metadata": {},
   "outputs": [],
   "source": [
    "source ~/.bashrc\n",
    "\n",
    "curl -k -X POST 'https://'$apiserver_host':8443/rest/volume/create?name='$username-$src_vol_name'&path=/user/'$username-$src_vol_name'' --user $username:$password"
   ]
  },
  {
   "cell_type": "markdown",
   "metadata": {},
   "source": [
    "## 2. Create a mirror volume from your source volume.\n",
    "\n",
    "Now let's create a local mirror volume from our source volume we made in the previous step:"
   ]
  },
  {
   "cell_type": "code",
   "execution_count": null,
   "metadata": {},
   "outputs": [],
   "source": [
    "source ~/.bashrc\n",
    "\n",
    "curl -k -X POST 'https://'$apiserver_host':8443/rest/volume/create?name='$username-$dst_vol_name'&path=/user/'$username-$dst_vol_name'&type=mirror&source='$username-$src_vol_name'@'$cluster_name'' --user $username:$password"
   ]
  },
  {
   "cell_type": "markdown",
   "metadata": {},
   "source": [
    "## 3. Create data within your source volume\n",
    "\n",
    "Now let's create some data in our source volume so we can verify that the mirror operation worked:"
   ]
  },
  {
   "cell_type": "code",
   "execution_count": null,
   "metadata": {},
   "outputs": [],
   "source": [
    "source ~/.bashrc\n",
    "echo \"## Create a file in your source volume that we will mirror/replicate in a later step.##\"\n",
    "echo \"$username-$vol_name source volume update $(date)\" >> /mapr/$cluster_name/user/$username-$src_vol_name/$username-source-volume-file1\n",
    "echo \"## Verify the file you created in in your directory.##\"\n",
    "ls /mapr/$cluster_name/user/$username-$src_vol_name\n",
    "echo \"## Verify the file has the contents you added.##\"\n",
    "cat /mapr/$cluster_name/user/$username-$src_vol_name/$username'-'source-volume-file1"
   ]
  },
  {
   "cell_type": "markdown",
   "metadata": {},
   "source": [
    "## 4. Start the mirroring process\n",
    "\n",
    "By default a target or destination mirror volume is mounted as read-only (ro).  Also by default the mirror is not started until you manually start it or apply a schedule to the mirror.  In this example we will be starting it manually.\n",
    "\n",
    "**Use `CTRL+Enter` on this cell to run it again in case mirroring not done yet.**"
   ]
  },
  {
   "cell_type": "code",
   "execution_count": null,
   "metadata": {},
   "outputs": [],
   "source": [
    "source ~/.bashrc\n",
    "\n",
    "curl -k -X POST 'https://'$apiserver_host':8443/rest/volume/mirror/start?name='$username-$dst_vol_name'' --user $username:$password"
   ]
  },
  {
   "cell_type": "markdown",
   "metadata": {},
   "source": [
    "This lab is a short term setup of managing data so we will not cover setting up schedules and applying them to snapshot's or to mirrors.  For more details on creating schedules see: [Creating Schedules on Ezmeral Data Fabric](https://docs.datafabric.hpe.com/62/ReferenceGuide/schedule.html)"
   ]
  },
  {
   "cell_type": "markdown",
   "metadata": {},
   "source": [
    "## 5. Verify your source data is now within your destination volume\n",
    "\n",
    "Now let's verify the data we wrote in our previous steps in our source volume is now in the destination volume and that our mirror operation we started worked:"
   ]
  },
  {
   "cell_type": "code",
   "execution_count": null,
   "metadata": {},
   "outputs": [],
   "source": [
    "source ~/.bashrc\n",
    "echo \"## List out the directory contents on our destination volume.##\"\n",
    "ls /mapr/$cluster_name/user/$username-$dst_vol_name"
   ]
  },
  {
   "cell_type": "markdown",
   "metadata": {},
   "source": [
    "Now let's write some data to your new destination volume that was mirrored from the source volume:\n"
   ]
  },
  {
   "cell_type": "code",
   "execution_count": null,
   "metadata": {},
   "outputs": [],
   "source": [
    "source ~/.bashrc\n",
    "echo \"##Let's try and write some data to our destination volume...##\"\n",
    "echo \"$username-$vol_name destination volume update $(date)\" >> /mapr/$cluster_name/user/$username-$dst_vol_name/$username-source-volume-file1\n",
    "echo \"##List out the destination volume directory.##\"\n",
    "ls /mapr/$cluster_name/user/$username-$dst_vol_name\n",
    "echo \"##Verify the file we wrote is on the destination volume directory.##\"\n",
    "cat /mapr/$cluster_name/user/$username-$dst_vol_name/$username-source-volume-file1"
   ]
  },
  {
   "cell_type": "markdown",
   "metadata": {},
   "source": [
    "**Notice the update to the file did not have the “destination volume update” appended to the file.** This error is to be expected as by default destination volumes that are currently being mirrored are mounted in read-only mode (ro). Let's break the mirror and mount the volume in read-write (rw) mode:"
   ]
  },
  {
   "cell_type": "markdown",
   "metadata": {},
   "source": [
    "## 6. Promoting destination volumes to read-write\n",
    "\n",
    "First let's ensure the mirror process has stoped:"
   ]
  },
  {
   "cell_type": "code",
   "execution_count": null,
   "metadata": {},
   "outputs": [],
   "source": [
    "source ~/.bashrc\n",
    "\n",
    "curl -k -X POST 'https://'$apiserver_host':8443/rest/volume/mirror/stop?name='$username-$dst_vol_name'' --user $username:$password"
   ]
  },
  {
   "cell_type": "markdown",
   "metadata": {},
   "source": [
    "Now we can change the volume mount to read-write:"
   ]
  },
  {
   "cell_type": "code",
   "execution_count": null,
   "metadata": {},
   "outputs": [],
   "source": [
    "source ~/.bashrc\n",
    "\n",
    "curl -k -X POST 'https://'$apiserver_host':8443/rest/volume/modify?name='$username-$dst_vol_name'&type=rw' --user $username:$password"
   ]
  },
  {
   "cell_type": "markdown",
   "metadata": {},
   "source": [
    "Finally we can verify that the new destination volume has been mounted read-write (rw) by writing new data to it:"
   ]
  },
  {
   "cell_type": "code",
   "execution_count": null,
   "metadata": {},
   "outputs": [],
   "source": [
    "source ~/.bashrc\n",
    "echo \"##Now let's try and write some data to our destination volume...##\"\n",
    "echo \"$username-$vol_name destination volume update $(date)\" >> /mapr/$cluster_name/user/$username-$dst_vol_name/$username-source-volume-file1\n",
    "echo \"##List out the destination volume directory.##\"\n",
    "ls /mapr/$cluster_name/user/$username-$dst_vol_name\n",
    "echo \"##Verify the file we wrote is on the destination volume directory.##\"\n",
    "cat /mapr/$cluster_name/user/$username-$dst_vol_name/$username-source-volume-file1"
   ]
  },
  {
   "cell_type": "markdown",
   "metadata": {},
   "source": [
    "You will notice that our file now has the “destination volume update” appended to the file.  This confirms that the destination mirror volume is mounted and working in read-write (rw) mode.\n",
    "\n",
    "For additional information on using HPE Ezmeral Data Fabric Mirror's Features see: [Mirror Volumes](https://docs.datafabric.hpe.com/62/AdministratorGuide/MirrorVolumes-Mirroring.html)"
   ]
  },
  {
   "cell_type": "markdown",
   "metadata": {},
   "source": [
    "## 7. Removing mirrors\n",
    "### Let's cleanup now\n",
    "\n",
    " 1. Remove the Mirror  volumes\n",
    " 2. Remove the Source Volume\n",
    " \n",
    " **Note the `&force=1 here`.  Because Mirror volumes actually use snapshots. It will error out saying there are snapshots you need to remove first. This will just force a removal so we don’t have to remove the snapshots**"
   ]
  },
  {
   "cell_type": "code",
   "execution_count": null,
   "metadata": {},
   "outputs": [],
   "source": [
    "source ~/.bashrc\n",
    "\n",
    "echo \"Deleting dstmirror snapshot\"\n",
    "snapiddstmirror=$(curl -k --user $username:$password -X POST 'https://'$apiserver_host':8443/rest/volume/snapshot/list'| jq -r | grep -B 12 -A 2 ''$username-$dst_vol_name'' | grep snapshotid | cut -c22-30)\n",
    "echo $snapiddstmirror\n",
    "curl -k --user $username:$password -X POST 'https://'$apiserver_host':8443/rest/volume/snapshot/remove?snapshots='$snapiddstmirror\n",
    "\n",
    "echo \"Deleting srcmirror snapshot\"\n",
    "snapidsrcmirror=$(curl -k --user $username:$password -X POST 'https://'$apiserver_host':8443/rest/volume/snapshot/list'| jq -r | grep -B 12 -A 2 ''$username-$src_vol_name'' | grep snapshotid | cut -c22-30)\n",
    "echo $snapidsrcmirror\n",
    "curl -k --user $username:$password -X POST 'https://'$apiserver_host':8443/rest/volume/snapshot/remove?snapshots='$snapidsrcmirror\n",
    "\n",
    "echo \"Removing the Mirror Volume\"\n",
    "curl -k --user $username:$password -X POST 'https://'$apiserver_host':8443/rest/volume/remove?name='$username-$dst_vol_name -force\n",
    "\n",
    "echo \"Removing the Source Volume\"\n",
    "curl -k --user $username:$password -X POST 'https://'$apiserver_host':8443/rest/volume/remove?name='$username-$src_vol_name -force\n"
   ]
  },
  {
   "cell_type": "code",
   "execution_count": null,
   "metadata": {},
   "outputs": [],
   "source": [
    "%logout "
   ]
  },
  {
   "cell_type": "markdown",
   "metadata": {},
   "source": [
    "## Mirror's Summary\n",
    "\n",
    "In this example we:\n",
    "\n",
    "1. Created a new source volume\n",
    "2. Wrote data to it\n",
    "3. Setup a new destination mirror volume\n",
    "4. Started the mirror process on the destination volume.\n",
    "5. And then promoted that mirror to be it's own volume and wrote new data to it.\n",
    "\n",
    "# Using Access Security Settings and Policies  on your data\n",
    "You can now move to the conclusion of this workshop !\n",
    "\n",
    "* [Lab 4 - Using Access Security Settings and Policies](4-WKSHP-App-Security-Policies.ipynb)"
   ]
  },
  {
   "cell_type": "code",
   "execution_count": null,
   "metadata": {},
   "outputs": [],
   "source": []
  }
 ],
 "metadata": {
  "kernelspec": {
   "display_name": "SSH",
   "language": "bash",
   "name": "ssh"
  },
  "language_info": {
   "codemirror_mode": "shell",
   "file_extension": ".sh",
   "mimetype": "text/x-sh",
   "name": "ssh"
  }
 },
 "nbformat": 4,
 "nbformat_minor": 4
}
