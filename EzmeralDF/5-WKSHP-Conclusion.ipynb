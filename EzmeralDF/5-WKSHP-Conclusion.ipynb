{
 "cells": [
  {
   "cell_type": "markdown",
   "metadata": {},
   "source": [
    "![HPEDEVlogo](Pictures/hpedevlogo-NB.JPG)                                        ![Ezmeral DataFabricLogo](https://hpe-dev-portal.netlify.app/img/platforms/EzmeralDataFabric.svg)\n",
    "\n",
    "# Thank you for visiting the Hack Shack\n",
    "\n",
    "Powered by [HPE DEV Team](hpedev.io)\n",
    "\n",
    "\n",
    "# Conclusion\n",
    "\n",
    "In the following workshop, you have learned about the HPE EZmeral Data Fabric Filesystem Basics. \n",
    "You have created, deleted, and updated volumes while discovering their features. You also setup snapshots for business continuity. \n",
    "You also put in place mirrors for disaster recovery. Finally, you have created and deployed security policies and applied them to your data.\n",
    "\n",
    "\n",
    "For more information on the HPE Ezmeral Data Fabric see [HPE Ezmeral Data Fabric](https://www.hpe.com/us/en/software/data-fabric.html?chatsrc=ot-en&jumpid=ps_3tup2rmc7k_aid-520042861&ef_id=Cj0KCQjwp86EBhD7ARIsAFkgakgF0B6gxAhT5bRTuzZfHjWMDUH8hknQU13yYFhmiTyuuraM6l9FYQgaAgJGEALw_wcB:G:s&s_kwcid=AL!13472!3!449316381827!e!!g!!hpe%20ezmeral%20data%20fabric!10380038589!103217944503&gclsrc=aw.ds&&gclid=Cj0KCQjwp86EBhD7ARIsAFkgakgF0B6gxAhT5bRTuzZfHjWMDUH8hknQU13yYFhmiTyuuraM6l9FYQgaAgJGEALw_wcB)\n",
    "For futher documenataion on HPE Ezmeral Data Fabric see [HPE Ezmeral Data Fabric Doc Page](https://docs.datafabric.hpe.com/62/index.html)\n",
    "\n",
    "\n",
    "Congratulations and Thank you for your time in learning about the HPE Ezmeral Data Fabric!\n",
    "\n",
    "# Final steps\n",
    "Please take a moment to fill out our [survey](http://bit.ly/hackshack-survey).\n",
    "\n",
    "And make sure you use `File -> Log Out menu` to terminate your workshop session.\n",
    "\n",
    "# Thank you\n",
    "![ThankYou](Pictures/grommet.JPG)"
   ]
  },
  {
   "cell_type": "code",
   "execution_count": null,
   "metadata": {},
   "outputs": [],
   "source": []
  }
 ],
 "metadata": {
  "kernelspec": {
   "display_name": "Bash",
   "language": "bash",
   "name": "bash"
  },
  "language_info": {
   "codemirror_mode": "shell",
   "file_extension": ".sh",
   "mimetype": "text/x-sh",
   "name": "bash"
  }
 },
 "nbformat": 4,
 "nbformat_minor": 4
}
