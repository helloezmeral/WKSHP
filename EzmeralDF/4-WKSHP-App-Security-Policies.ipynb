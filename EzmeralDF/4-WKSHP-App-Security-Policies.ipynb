{
 "cells": [
  {
   "cell_type": "markdown",
   "metadata": {},
   "source": [
    "\n",
    "# Lab 4: Using Access Security Settings and Policies \n",
    "## Applying Access Control Expressions (ACE) to Volumes Using ACE's and Global Security Policies \n",
    "\n",
    "## Security on Ezmeral Data Fabric.\n",
    "\n",
    "Security on the Ezmearl Data Fabric is applied at the Volume which can be applied to:\n",
    "\n",
    "- Directories and files\n",
    "- Tables (if you have the full features Ezmeral Data Fabric)\n",
    "- Streams (if you have the full features Ezmeral Data Fabric)\n",
    "\n",
    "Security can be applied in two ways:\n",
    "\n",
    "- On-demand per data type by creating an Access Control Experssion (ACE) and then applying that ACE as a security tag to the volume.\n",
    "- Or through a local or global policy management which creates a catalog of security tags that can then be applied to any data type.\n",
    "\n",
    "Below is an example we will be running through for this lab:\n",
    "\n",
    "<p align=\"center\">\n",
    "  <img src=\"Pictures/edf-sec-ace-example.png\" width=\"800\" height=\"600\" alt=\"Data Fabric Snapshots\">                                                    \n",
    "  \n",
    "</p>\n",
    "\n",
    "For more information on security features within the Ezmeral Data Fabric please see [Managing Security Policies](https://docs.datafabric.hpe.com/62/SecurityGuide/ManagingSecurityPolicies.html)"
   ]
  },
  {
   "cell_type": "code",
   "execution_count": 1,
   "metadata": {},
   "outputs": [
    {
     "name": "stdout",
     "output_type": "stream",
     "text": [
      "[ssh] Login to 16.31.86.198...\n",
      "[ssh] host=16.31.86.198 hostname=16.31.86.198 other_conf={'user': None, 'port': None, 'keyfile': None, 'load_system_ssh_config': False, 'missing_host_policy': <paramiko.client.WarningPolicy object at 0x7f48f02de490>}\n",
      "[ssh] Successfully logged in.\n",
      "[ssh] host = 16.31.86.198, cwd = /student/student1222\n",
      "We are now connected to the appliance\n",
      "your operation context is: student1222 with Password: qcpx0k4u\n",
      "----\n",
      "your test user for applying security policy context is: sec-student1222 with Password: qcpx0k4u\n"
     ]
    }
   ],
   "source": [
    "%login 16.31.86.198\n",
    "\n",
    "echo \"We are now connected to the appliance\"\n",
    "\n",
    "#Variables used by scripts\n",
    "#password=\"qcpx0k4u\" # your Data Fabric login credentials - password - \n",
    "#apiserver_host=\"16.31.85.156\" # API Server for the Data Fabric Cluster\n",
    "#ad_group=\"data-fabric-users\" # LDAP Domain Group for Data Fabric users\n",
    "#vol_name=\"vol1\" # suffix for student volume name\n",
    "#snapvol_name=\"snapvol1\" # suffix for student snap volume name\n",
    "#cluster_name=\"mapr-cluster2.etc.fr.comm.hpecorp.net\" # Data Fabric Cluster Name\n",
    "#src_vol_name=\"src-mirrvol1\" # suffix for student source mirror volume name\n",
    "#dst_vol_name=\"dst-mirrvol1\"  # suffix for student destination mirror volume name\n",
    "#secvol_name=\"sec-vol1\"  # suffix for student volume name used for security comparison / user access \n",
    "#sec_policy=\"student1222-policy\" #security policy to allow r/w access to volumes\n",
    "\n",
    "echo \"your operation context is:\" student1222 \"with Password:\" qcpx0k4u\n",
    "echo \"----\"\n",
    "echo \"your test user for applying security policy context is:\" sec-student1222 \"with Password:\" qcpx0k4u"
   ]
  },
  {
   "cell_type": "markdown",
   "metadata": {},
   "source": [
    "## 1. Create a volume that we can apply security policies.\n",
    "\n",
    "#### Background:\n",
    "\n",
    "You have been given a user that is allowed to create and modify volumes on the cluster and another user to test your security policies. Data Fabric volumes can be mounted so they are accessible from NFS, HDFS or POSIX commands (like the bash kernel shell in these labs). For security reasons, you can only mount volumes in the /user directory.\n",
    "\n",
    "In this lab example we will:\n",
    "\n",
    "1.\tCreated a new volume\n",
    "2.\tTested writing and reading data to it from multiple users.\n",
    "3.\tApplied a ‘read only’ Access Control Expression to the volume.\n",
    "4.\tTested writing and reading data to it from the sec-studentXXXX user.\n",
    "5.\tCreated a security policy with read and write Access Control Expression’s.\n",
    "6.\tApply the security policy to the volume.\n",
    "7.\tTested writing and reading data to it from the sec-studentXXXX user.\n",
    "\n",
    "To understand how an ACE works on a volume with files and directories first let's create a volume that all users can write files to:\n"
   ]
  },
  {
   "cell_type": "code",
   "execution_count": 2,
   "metadata": {},
   "outputs": [
    {
     "name": "stdout",
     "output_type": "stream",
     "text": [
      "[ssh] host = 16.31.86.198, cwd = /student/student1222\n",
      "  % Total    % Received % Xferd  Average Speed   Time    Time     Time  Current\n",
      "                                 Dload  Upload   Total   Spent    Left  Speed\n",
      "100   178  100   178    0     0     69      0  0:00:02  0:00:02 --:--:--    70\n",
      "{\"timestamp\":1624511635061,\"timeofday\":\"2021-06-24 07:13:55.061 GMT+0200 AM\",\"status\":\"OK\",\"total\":0,\"data\":[],\"messages\":[\"Successfully created volume: 'student1222-sec-vol1'\"]}"
     ]
    }
   ],
   "source": [
    "source ~/.bashrc\n",
    "\n",
    "curl -k -X POST 'https://'$apiserver_host':8443/rest/volume/create?name='$username-$secvol_name'&path=/user/'$username-$secvol_name'&rootdirgroup=Data-Fabric-Users&rootdirperms=777' --user $username:$password"
   ]
  },
  {
   "cell_type": "markdown",
   "metadata": {},
   "source": [
    "## 2. Test that both users can read/write data to the created volume\n",
    "\n",
    "- We will list out the files and create/append data to a file as the username:\n",
    "\n",
    "You are logging in as the user:\n",
    "<p align=\"center\">\n",
    "  <img src=\"Pictures/studentxxxx.png\" alt=\"studentxxx-Admin\">                                                    \n",
    "  \n",
    "</p>"
   ]
  },
  {
   "cell_type": "code",
   "execution_count": 3,
   "metadata": {},
   "outputs": [
    {
     "name": "stdout",
     "output_type": "stream",
     "text": [
      "[ssh] host = 16.31.86.198, cwd = /student/student1222\n",
      "##Verify which user we are curently logged in as.##\n",
      "student1222\n"
     ]
    }
   ],
   "source": [
    "source ~/.bashrc\n",
    "echo \"##Verify which user we are curently logged in as.##\"\n",
    "echo $username"
   ]
  },
  {
   "cell_type": "code",
   "execution_count": 4,
   "metadata": {},
   "outputs": [
    {
     "name": "stdout",
     "output_type": "stream",
     "text": [
      "[ssh] host = 16.31.86.198, cwd = /student/student1222\n",
      "##Create a new file on our security volume.##\n",
      "##List out the volume directory.##\n",
      "student1222-security-volume-test1\n",
      "##Verify the file contents we just wrote.##\n",
      "student1222-sec-vol1 security volume update Thu Jun 24 07:13:22 CEST 2021\n"
     ]
    }
   ],
   "source": [
    "source ~/.bashrc\n",
    "echo \"##Create a new file on our security volume.##\"\n",
    "echo \"$username-$secvol_name security volume update $(date)\" >> /mapr/$cluster_name/user/$username-$secvol_name/$username-security-volume-test1\n",
    "echo \"##List out the volume directory.##\"\n",
    "ls /mapr/$cluster_name/user/$username-$secvol_name\n",
    "echo \"##Verify the file contents we just wrote.##\"\n",
    "cat /mapr/$cluster_name/user/$username-$secvol_name/$username-security-volume-test1"
   ]
  },
  {
   "cell_type": "code",
   "execution_count": 5,
   "metadata": {},
   "outputs": [
    {
     "name": "stdout",
     "output_type": "stream",
     "text": [
      "[ssh] Closing existing connection.\n",
      "[ssh] Successfully logged out.\n"
     ]
    }
   ],
   "source": [
    "%logout"
   ]
  },
  {
   "cell_type": "markdown",
   "metadata": {},
   "source": [
    "- Next we will verify that another user can list out the files and create/append data to a file as the username:\n",
    "\n",
    "You are logging in as the user:\n",
    "<p align=\"center\">\n",
    "  <img src=\"Pictures/sec-studentxxxx.png\" alt=\"studentxxx-Dev\">                                                    \n",
    "  \n",
    "</p>"
   ]
  },
  {
   "cell_type": "code",
   "execution_count": 6,
   "metadata": {},
   "outputs": [
    {
     "name": "stdout",
     "output_type": "stream",
     "text": [
      "[ssh] Login to sec-appliance...\n",
      "[ssh] host=sec-appliance hostname=16.31.86.198 other_conf={'user': 'sec-student1222', 'port': None, 'keyfile': None, 'load_system_ssh_config': False, 'missing_host_policy': <paramiko.client.WarningPolicy object at 0x7f48f02de550>}\n",
      "[ssh] Successfully logged in.\n",
      "[ssh] host = sec-appliance, cwd = /student/sec-student1222\n",
      "login as sec-student1222\n",
      "uid=15222(sec-student1222) gid=14222(sec-student1222) groups=14222(sec-student1222),36000(Data-Fabric-Users) context=unconfined_u:unconfined_r:unconfined_t:s0-s0:c0.c1023\n",
      "sec-student1222\n"
     ]
    }
   ],
   "source": [
    "%login sec-appliance\n",
    "\n",
    "cat > $HOME/.bashrc << EOF\n",
    "username=\"student1222\" # your Data Fabric login credentials - username  \n",
    "password=\"qcpx0k4u\" # your Data Fabric login credentials - password - \n",
    "sec_username=\"sec-student1222\" # your Data Fabric login credentials - sec username  \n",
    "sec_password=\"stuDISCO2020\" # your Data Fabric login credentials - sec password - \n",
    "apiserver_host=\"16.31.85.156\" # API Server for the Data Fabric Cluster\n",
    "ad_group=\"data-fabric-users\" # LDAP Domain Group for Data Fabric users\n",
    "vol_name=\"vol1\" # suffix for student volume name\n",
    "snapvol_name=\"snapvol1\" # suffix for student snap volume name\n",
    "cluster_name=\"mapr-cluster2.etc.fr.comm.hpecorp.net\" # Data Fabric Cluster Name\n",
    "src_mirrvol1=\"src-mirrvol1\" # suffix for student source mirror volume name\n",
    "dst_mirrvol1=\"dst-mirrvol1\"  # suffix for student destination mirror volume name\n",
    "secvol_name=\"sec-vol1\"  # suffix for student volume name used for security comparison / user access \n",
    "\n",
    "EOF\n",
    "\n",
    "\n",
    "source ~/.bashrc\n",
    "echo \"login as sec-student1222\"\n",
    "id\n",
    "echo $sec_username"
   ]
  },
  {
   "cell_type": "code",
   "execution_count": 7,
   "metadata": {},
   "outputs": [
    {
     "name": "stdout",
     "output_type": "stream",
     "text": [
      "[ssh] host = sec-appliance, cwd = /student/sec-student1222\n",
      "##Create a new file as a different user on our security volume.##\n",
      "##List out the volume directory.##\n",
      "student1222-security-volume-secuser-test1\n",
      "student1222-security-volume-test1\n",
      "##Verify the file contents we just wrote as a new user.##\n",
      "sec-student1222-sec-vol1 security volume sec user update Thu Jun 24 07:13:27 CEST 2021\n"
     ]
    }
   ],
   "source": [
    "source ~/.bashrc\n",
    "echo \"##Create a new file as a different user on our security volume.##\"\n",
    "echo \"$sec_username-$secvol_name security volume sec user update $(date)\" >> /mapr/$cluster_name/user/$username-$secvol_name/$username-security-volume-secuser-test1\n",
    "echo \"##List out the volume directory.##\"\n",
    "ls /mapr/$cluster_name/user/$username-$secvol_name/\n",
    "echo \"##Verify the file contents we just wrote as a new user.##\"\n",
    "cat /mapr/$cluster_name/user/$username-$secvol_name/$username-security-volume-secuser-test1\n"
   ]
  },
  {
   "cell_type": "code",
   "execution_count": 8,
   "metadata": {},
   "outputs": [
    {
     "name": "stdout",
     "output_type": "stream",
     "text": [
      "[ssh] Closing existing connection.\n",
      "[ssh] Successfully logged out.\n"
     ]
    }
   ],
   "source": [
    "%logout"
   ]
  },
  {
   "cell_type": "markdown",
   "metadata": {},
   "source": [
    "## 3. Modify a volume and apply a read Access Control Expression (ACE)\n",
    "\n",
    "A valid user or group must be present on your cluster or in your directory services.  In this case we will use the following user to apply a read only ACE to the volume:\n",
    "\n",
    "You are logging in as the user:\n",
    "<p align=\"center\">\n",
    "  <img src=\"Pictures/studentxxxx.png\" alt=\"studentxxx-Admin\">                                                    \n",
    "  \n",
    "</p>\n"
   ]
  },
  {
   "cell_type": "code",
   "execution_count": 9,
   "metadata": {},
   "outputs": [
    {
     "name": "stdout",
     "output_type": "stream",
     "text": [
      "[ssh] Login to 16.31.86.198...\n",
      "[ssh] host=16.31.86.198 hostname=16.31.86.198 other_conf={'user': None, 'port': None, 'keyfile': None, 'load_system_ssh_config': False, 'missing_host_policy': <paramiko.client.WarningPolicy object at 0x7f48f0239a60>}\n",
      "[ssh] Successfully logged in.\n",
      "[ssh] host = 16.31.86.198, cwd = /student/student1222\n",
      "We are now connected to the appliance\n",
      "your operation context is: student1222 with Password: qcpx0k4u\n"
     ]
    }
   ],
   "source": [
    "%login 16.31.86.198\n",
    "\n",
    "echo \"We are now connected to the appliance\"\n",
    "\n",
    "#Variables used by scripts\n",
    "#password=\"qcpx0k4u\" # your Data Fabric login credentials - password - \n",
    "#apiserver_host=\"16.31.85.156\" # API Server for the Data Fabric Cluster\n",
    "#ad_group=\"data-fabric-users\" # LDAP Domain Group for Data Fabric users\n",
    "#vol_name=\"vol1\" # suffix for student volume name\n",
    "#snapvol_name=\"snapvol1\" # suffix for student snap volume name\n",
    "#cluster_name=\"mapr-cluster2.etc.fr.comm.hpecorp.net\" # Data Fabric Cluster Name\n",
    "#src_vol_name=\"src-mirrvol1\" # suffix for student source mirror volume name\n",
    "#dst_vol_name=\"dst-mirrvol1\"  # suffix for student destination mirror volume name\n",
    "#secvol_name=\"sec-vol1\"  # suffix for student volume name used for security comparison / user access \n",
    "#sec_policy=\"student1222-policy\" #security policy to allow r/w access to volumes\n",
    "\n",
    "echo \"your operation context is:\" student1222 \"with Password:\" qcpx0k4u"
   ]
  },
  {
   "cell_type": "code",
   "execution_count": 10,
   "metadata": {},
   "outputs": [
    {
     "name": "stdout",
     "output_type": "stream",
     "text": [
      "[ssh] host = 16.31.86.198, cwd = /student/student1222\n",
      "## We will now apply an ACE to the security volume, in this example the new user will only be allowed 'Read Only' access. ##\n",
      "  % Total    % Received % Xferd  Average Speed   Time    Time     Time  Current\n",
      "                                 Dload  Upload   Total   Spent    Left  Speed\n",
      "100   111  100   111    0     0    352      0 --:--:-- --:--:-- --:--:--   353\n",
      "{\"timestamp\":1624511647096,\"timeofday\":\"2021-06-24 07:14:07.096 GMT+0200 AM\",\"status\":\"OK\",\"total\":0,\"data\":[]}"
     ]
    }
   ],
   "source": [
    "source ~/.bashrc\n",
    "echo \"## We will now apply an ACE to the security volume, in this example the new user will only be allowed 'Read Only' access. ##\"\n",
    "curl -k -X POST 'https://'$apiserver_host':8443/rest/volume/modify?name='$username-$secvol_name'&writeAce=u%3A'$username'&readAce=u%3A'$sec_username'' --user $username:$password"
   ]
  },
  {
   "cell_type": "code",
   "execution_count": 11,
   "metadata": {},
   "outputs": [
    {
     "name": "stdout",
     "output_type": "stream",
     "text": [
      "[ssh] Closing existing connection.\n",
      "[ssh] Successfully logged out.\n"
     ]
    }
   ],
   "source": [
    "%logout"
   ]
  },
  {
   "cell_type": "markdown",
   "metadata": {},
   "source": [
    "## 4. Verify the security policy change.\n",
    "\n",
    "We will now verify that the previous step we applied only has read-only access and is unable to write any data to the directory or file for the user:\n",
    "\n",
    "You are logging in as the user:\n",
    "<p align=\"center\">\n",
    "  <img src=\"Pictures/sec-studentxxxx.png\" alt=\"studentxxx-Dev\">                                                    \n",
    "  \n",
    "</p>"
   ]
  },
  {
   "cell_type": "code",
   "execution_count": 12,
   "metadata": {},
   "outputs": [
    {
     "name": "stdout",
     "output_type": "stream",
     "text": [
      "[ssh] Login to sec-appliance...\n",
      "[ssh] host=sec-appliance hostname=16.31.86.198 other_conf={'user': 'sec-student1222', 'port': None, 'keyfile': None, 'load_system_ssh_config': False, 'missing_host_policy': <paramiko.client.WarningPolicy object at 0x7f48f01f8040>}\n",
      "[ssh] Successfully logged in.\n",
      "[ssh] host = sec-appliance, cwd = /student/sec-student1222\n",
      "login as sec-student1222\n",
      "uid=15222(sec-student1222) gid=14222(sec-student1222) groups=14222(sec-student1222),36000(Data-Fabric-Users) context=unconfined_u:unconfined_r:unconfined_t:s0-s0:c0.c1023\n"
     ]
    }
   ],
   "source": [
    "%login sec-appliance\n",
    "\n",
    "cat > $HOME/.bashrc << EOF\n",
    "username=\"student1222\" # your Data Fabric login credentials - username  \n",
    "password=\"qcpx0k4u\" # your Data Fabric login credentials - password - \n",
    "sec_username=\"sec-student1222\" # your Data Fabric login credentials - sec username  \n",
    "sec_password=\"stuDISCO2020\" # your Data Fabric login credentials - sec password - \n",
    "apiserver_host=\"16.31.85.156\" # API Server for the Data Fabric Cluster\n",
    "ad_group=\"data-fabric-users\" # LDAP Domain Group for Data Fabric users\n",
    "vol_name=\"vol1\" # suffix for student volume name\n",
    "snapvol_name=\"snapvol1\" # suffix for student snap volume name\n",
    "cluster_name=\"mapr-cluster2.etc.fr.comm.hpecorp.net\" # Data Fabric Cluster Name\n",
    "src_mirrvol1=\"src-mirrvol1\" # suffix for student source mirror volume name\n",
    "dst_mirrvol1=\"dst-mirrvol1\"  # suffix for student destination mirror volume name\n",
    "secvol_name=\"sec-vol1\"  # suffix for student volume name used for security comparison / user access \n",
    "sec_policy=\"student1222-policy\" #security policy to allow r/w access to volumes\n",
    "EOF\n",
    "\n",
    "echo \"login as sec-student1222\"\n",
    "id"
   ]
  },
  {
   "cell_type": "code",
   "execution_count": 13,
   "metadata": {},
   "outputs": [
    {
     "name": "stdout",
     "output_type": "stream",
     "text": [
      "[ssh] host = sec-appliance, cwd = /student/sec-student1222\n",
      "## Make an update to the file as the new user. ##\n",
      "## List out the volume diretory to the files. ##\n",
      "/usr/bin/bash: line 3: /mapr/mapr-cluster2.etc.fr.comm.hpecorp.net/user/student1222-sec-vol1/student1222-security-volume-secuser-test1: Permission denied\n",
      "student1222-security-volume-secuser-test1\n",
      "student1222-security-volume-test1\n",
      "## Verify the update to the file as the new user. ##\n",
      "sec-student1222-sec-vol1 security volume sec user update Thu Jun 24 07:13:27 CEST 2021\n",
      "##\n",
      "## You should have recieved a 'Pemission denied', this is expected as the new user only has 'Read only' access now to the volume. ##\n"
     ]
    }
   ],
   "source": [
    "source ~/.bashrc\n",
    "echo \"## Make an update to the file as the new user. ##\"\n",
    "echo \"$sec_username-$secvol_name security volume sec user update $(date)\" >> /mapr/$cluster_name/user/$username-$secvol_name/$username-security-volume-secuser-test1\n",
    "echo \"## List out the volume diretory to the files. ##\"\n",
    "ls /mapr/$cluster_name/user/$username-$secvol_name/\n",
    "echo \"## Verify the update to the file as the new user. ##\"\n",
    "cat /mapr/$cluster_name/user/$username-$secvol_name/$username-security-volume-secuser-test1\n",
    "echo \"##\"\n",
    "echo \"## You should have recieved a 'Pemission denied', this is expected as the new user only has 'Read only' access now to the volume. ##\"\n"
   ]
  },
  {
   "cell_type": "code",
   "execution_count": 14,
   "metadata": {},
   "outputs": [
    {
     "name": "stdout",
     "output_type": "stream",
     "text": [
      "[ssh] Closing existing connection.\n",
      "[ssh] Successfully logged out.\n"
     ]
    }
   ],
   "source": [
    "%logout"
   ]
  },
  {
   "cell_type": "markdown",
   "metadata": {},
   "source": [
    "## 5. Creating Security Policies\n",
    "\n",
    "#### Background\n",
    "\n",
    "Security polices allow you to create a central policy that can then be applied to multiple data objects.  In this case a policy can have an Access Control Expression (ACE) for a set of users or groups and you then apply that policy as a \"tag\" to your volume.\n",
    "\n",
    "We will first create a security policy for the authentication services group that has all of our students in ito the directory or file for the user:\n",
    "\n",
    "\n",
    "You are logging in as the user:\n",
    "<p align=\"center\">\n",
    "  <img src=\"Pictures/studentxxxx.png\" alt=\"studentxxx-Admin\">                                                    \n",
    "  \n",
    "</p>\n",
    "\n"
   ]
  },
  {
   "cell_type": "code",
   "execution_count": 15,
   "metadata": {},
   "outputs": [
    {
     "name": "stdout",
     "output_type": "stream",
     "text": [
      "[ssh] Login to 16.31.86.198...\n",
      "[ssh] host=16.31.86.198 hostname=16.31.86.198 other_conf={'user': None, 'port': None, 'keyfile': None, 'load_system_ssh_config': False, 'missing_host_policy': <paramiko.client.WarningPolicy object at 0x7f48f0270d90>}\n",
      "[ssh] Successfully logged in.\n"
     ]
    }
   ],
   "source": [
    "%login 16.31.86.198"
   ]
  },
  {
   "cell_type": "code",
   "execution_count": 16,
   "metadata": {},
   "outputs": [
    {
     "name": "stdout",
     "output_type": "stream",
     "text": [
      "[ssh] host = 16.31.86.198, cwd = /student/student1222\n",
      "## Create a new security policy with write and read access and add the new user to it. ##\n",
      "  % Total    % Received % Xferd  Average Speed   Time    Time     Time  Current\n",
      "                                 Dload  Upload   Total   Spent    Left  Speed\n",
      "100   203  100   203    0     0    376      0 --:--:-- --:--:-- --:--:--   377\n",
      "{\"timestamp\":1624511653267,\"timeofday\":\"2021-06-24 07:14:13.267 GMT+0200 AM\",\"status\":\"OK\",\"total\":0,\"data\":[],\"messages\":[\"Successfully created security policy 'student1222-secpol-43f2b52b-a550-476c'\"]}## Reset the individual ACE on the volume. ##\n",
      "  % Total    % Received % Xferd  Average Speed   Time    Time     Time  Current\n",
      "                                 Dload  Upload   Total   Spent    Left  Speed\n",
      "100   111  100   111    0     0    373      0 --:--:-- --:--:-- --:--:--   375\n",
      "{\"timestamp\":1624511653577,\"timeofday\":\"2021-06-24 07:14:13.577 GMT+0200 AM\",\"status\":\"OK\",\"total\":0,\"data\":[]}"
     ]
    }
   ],
   "source": [
    "source ~/.bashrc\n",
    "echo \"## Create a new security policy with write and read access and add the new user to it. ##\"\n",
    "curl -k -X POST 'https://'$apiserver_host':8443/rest/security/policy/create?name='$sec_policy'&allowtagging=true&accesscontrol=Armed&wiresecurityenabled=true&readaces=g%3A'$ad_group'&writeaces=u%3A'$sec_username'' --user $username:$password\n",
    "echo \"## Reset the individual ACE on the volume. ##\"\n",
    "curl -k -X POST 'https://'$apiserver_host':8443/rest/volume/modify?name='$username-$secvol_name'&writeAce=u%3A'$sec_username'' --user $username:$password"
   ]
  },
  {
   "cell_type": "markdown",
   "metadata": {},
   "source": [
    "Now let's apply our policy we created to the volume:"
   ]
  },
  {
   "cell_type": "code",
   "execution_count": 17,
   "metadata": {},
   "outputs": [
    {
     "name": "stdout",
     "output_type": "stream",
     "text": [
      "[ssh] host = 16.31.86.198, cwd = /student/student1222\n",
      "## Apply the new security policy to your volume. ##\n",
      "  % Total    % Received % Xferd  Average Speed   Time    Time     Time  Current\n",
      "                                 Dload  Upload   Total   Spent    Left  Speed\n",
      "100   167  100   167    0     0    636      0 --:--:-- --:--:-- --:--:--   637\n",
      "{\"timestamp\":1624511653928,\"timeofday\":\"2021-06-24 07:14:13.928 GMT+0200 AM\",\"status\":\"ERROR\",\"errors\":[{\"id\":22,\"desc\":\"non-existent or untaggable security policy\"}]}"
     ]
    }
   ],
   "source": [
    "source ~/.bashrc\n",
    "echo \"## Apply the new security policy to your volume. ##\"\n",
    "curl -k -X POST 'https://'$apiserver_host':8443/rest/volume/modify?name='$username-$secvol_name'&securitypolicy='$sec_policy'' --user $username:$password"
   ]
  },
  {
   "cell_type": "code",
   "execution_count": 18,
   "metadata": {},
   "outputs": [
    {
     "name": "stdout",
     "output_type": "stream",
     "text": [
      "[ssh] Closing existing connection.\n",
      "[ssh] Successfully logged out.\n"
     ]
    }
   ],
   "source": [
    "%logout"
   ]
  },
  {
   "cell_type": "markdown",
   "metadata": {},
   "source": [
    "Now let's test that our other users can write files to the volume now:\n",
    "\n",
    "You are logging in as the user:\n",
    "<p align=\"center\">\n",
    "  <img src=\"Pictures/sec-studentxxxx.png\" alt=\"studentxxx-Dev\">                                                    \n",
    "  \n",
    "</p>"
   ]
  },
  {
   "cell_type": "code",
   "execution_count": 19,
   "metadata": {},
   "outputs": [
    {
     "name": "stdout",
     "output_type": "stream",
     "text": [
      "[ssh] Login to sec-appliance...\n",
      "[ssh] host=sec-appliance hostname=16.31.86.198 other_conf={'user': 'sec-student1222', 'port': None, 'keyfile': None, 'load_system_ssh_config': False, 'missing_host_policy': <paramiko.client.WarningPolicy object at 0x7f48f02d10d0>}\n",
      "[ssh] Successfully logged in.\n"
     ]
    }
   ],
   "source": [
    "%login sec-appliance"
   ]
  },
  {
   "cell_type": "code",
   "execution_count": 20,
   "metadata": {},
   "outputs": [
    {
     "name": "stdout",
     "output_type": "stream",
     "text": [
      "[ssh] host = sec-appliance, cwd = /student/sec-student1222\n",
      "## Make an update to the file as the new user. ##\n",
      "## List out the volume diretory to the files. ##\n",
      "/usr/bin/bash: line 3: /mapr/mapr-cluster2.etc.fr.comm.hpecorp.net/user/student1222-sec-vol1/student1222-security-volume-secuser-test1: Permission denied\n",
      "student1222-security-volume-secuser-test1\n",
      "student1222-security-volume-test1\n",
      "## Verify the update to the file as the new user. ##\n",
      "sec-student1222-sec-vol1 security volume sec user update Thu Jun 24 07:13:27 CEST 2021\n"
     ]
    }
   ],
   "source": [
    "source ~/.bashrc\n",
    "echo \"## Make an update to the file as the new user. ##\"\n",
    "echo \"$sec_username-$secvol_name security volume sec user update $(date)\" >> /mapr/$cluster_name/user/$username-$secvol_name/$username-security-volume-secuser-test1\n",
    "echo \"## List out the volume diretory to the files. ##\"\n",
    "ls /mapr/$cluster_name/user/$username-$secvol_name/\n",
    "echo \"## Verify the update to the file as the new user. ##\"\n",
    "cat /mapr/$cluster_name/user/$username-$secvol_name/$username-security-volume-secuser-test1\n",
    "\n"
   ]
  },
  {
   "cell_type": "code",
   "execution_count": 21,
   "metadata": {},
   "outputs": [
    {
     "name": "stdout",
     "output_type": "stream",
     "text": [
      "[ssh] Closing existing connection.\n",
      "[ssh] Successfully logged out.\n"
     ]
    }
   ],
   "source": [
    "%logout"
   ]
  },
  {
   "cell_type": "markdown",
   "metadata": {},
   "source": [
    "### Let's cleanup now\n",
    "\n",
    " 1. Remove Security Policies\n",
    " 2. Remove Volumes"
   ]
  },
  {
   "cell_type": "code",
   "execution_count": 22,
   "metadata": {},
   "outputs": [
    {
     "name": "stdout",
     "output_type": "stream",
     "text": [
      "[ssh] Login to 16.31.86.198...\n",
      "[ssh] host=16.31.86.198 hostname=16.31.86.198 other_conf={'user': None, 'port': None, 'keyfile': None, 'load_system_ssh_config': False, 'missing_host_policy': <paramiko.client.WarningPolicy object at 0x7f48f02d1820>}\n",
      "[ssh] Successfully logged in.\n"
     ]
    }
   ],
   "source": [
    "%login 16.31.86.198\n"
   ]
  },
  {
   "cell_type": "code",
   "execution_count": 23,
   "metadata": {},
   "outputs": [
    {
     "name": "stdout",
     "output_type": "stream",
     "text": [
      "[ssh] host = 16.31.86.198, cwd = /student/student1222\n",
      "  % Total    % Received % Xferd  Average Speed   Time    Time     Time  Current\n",
      "                                 Dload  Upload   Total   Spent    Left  Speed\n",
      "100   111  100   111    0     0     47      0  0:00:02  0:00:02 --:--:--    47\n",
      "{\"timestamp\":1624511665326,\"timeofday\":\"2021-06-24 07:14:25.326 GMT+0200 AM\",\"status\":\"OK\",\"total\":0,\"data\":[]}"
     ]
    }
   ],
   "source": [
    "source ~/.bashrc\n",
    "\n",
    "#Remove Volume\n",
    "curl -k -X POST 'https://'$apiserver_host':8443/rest/volume/remove?name='$username-$secvol_name'' --user $username:$password"
   ]
  },
  {
   "cell_type": "code",
   "execution_count": 24,
   "metadata": {},
   "outputs": [
    {
     "name": "stdout",
     "output_type": "stream",
     "text": [
      "[ssh] Closing existing connection.\n",
      "[ssh] Successfully logged out.\n"
     ]
    }
   ],
   "source": [
    "%logout "
   ]
  },
  {
   "cell_type": "markdown",
   "metadata": {},
   "source": [
    "For more information on creating security policies please see [Creating Security Policies](https://docs.datafabric.hpe.com/62/SecurityGuide/CreatingSecurityPolicies.html) and [Managing File and Directory ACE's](https://docs.datafabric.hpe.com/62/SecurityGuide/FileDirACE.html)"
   ]
  },
  {
   "cell_type": "markdown",
   "metadata": {},
   "source": [
    "## Using Access Security Settings and Policies Summary\n",
    "\n",
    "In this example we:\n",
    "\n",
    "1.\tCreated a new volume\n",
    "2.\tTested writing and reading data to it from multiple users.\n",
    "3.\tApplied a ‘read only’ Access Control Expression to the volume.\n",
    "4.\tTested writing and reading data to it from the sec-studentXXXX user.\n",
    "5.\tCreated a security policy with read and write Access Control Expression’s.\n",
    "6.\tApplied the security policy to the volume.\n",
    "7.\tTested writing and reading data to it from the sec-studentXXXX user.\n",
    "\n",
    "\n",
    "# Time to wrap up\n",
    "You can now move to the conclusion of this workshop !\n",
    "\n",
    "* [Conclusion](5-WKSHP-Conclusion.ipynb)"
   ]
  },
  {
   "cell_type": "code",
   "execution_count": null,
   "metadata": {},
   "outputs": [],
   "source": []
  }
 ],
 "metadata": {
  "kernelspec": {
   "display_name": "SSH",
   "language": "bash",
   "name": "ssh"
  },
  "language_info": {
   "codemirror_mode": "shell",
   "file_extension": ".sh",
   "mimetype": "text/x-sh",
   "name": "ssh"
  }
 },
 "nbformat": 4,
 "nbformat_minor": 4
}
