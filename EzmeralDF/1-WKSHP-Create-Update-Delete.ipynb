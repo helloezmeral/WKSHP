{
 "cells": [
  {
   "cell_type": "markdown",
   "metadata": {},
   "source": [
    "# Ezmeral Data Fabric\n",
    "\n",
    "## Create, delete and update volumes Demonstration\n",
    "\n",
    "<p align=\"center\">\n",
    "  <img src=\"Pictures/edf-volumes-overview.png\" width=\"600\" height=\"400\" alt=\"Data Fabric Snapshots\">                                                    \n",
    "  \n",
    "</p>\n",
    "\n",
    "#### Let's review what volumes on a Data Fabric cluster allow for; they allow for management of:\n",
    "\n",
    "- Security Policies for data in a volume\n",
    "- Volume administration controls on the volume\n",
    "- Tiering Policies\n",
    "- Media placement for data using storage labels\n",
    "- Business continuity settings using Snapshots\n",
    "- Disaster recover settings using Mirrors\n",
    "- Creating schedules for business continuity and disaster recovery\n",
    "- Audit tracking of data within a volume\n",
    "- Data at rest encryption (DARE)\n",
    "- Encryptiong over the wire\n",
    "\n",
    "#### Within this Ezmeral Data Fabric system your user has been given rights to create/modify volumes.  There are 3 different types of permissions:\n",
    "\n",
    "1. Is allowing users/groups to make changes to the cluster.\n",
    "2. Is allowing users/groups to make changes to volumes.\n",
    "3. Is allowing a user/group to create/modify security polices.\n",
    "\n",
    "There are many different rights to administrating a cluster, volumes and security policy.  For a full listing please see the [ACL documentation](https://docs.datafabric.hpe.com/62/ReferenceGuide/acl.html?hl=acl)."
   ]
  },
  {
   "cell_type": "markdown",
   "metadata": {},
   "source": [
    "# Creating Volumes on Ezmeral Data Fabric\n",
    "\n",
    "## 1. Let's setup the user you will use for this lab and connect to a dedicated appliance allowing us to interact freely with the Data Fabric Environment"
   ]
  },
  {
   "cell_type": "code",
   "execution_count": null,
   "metadata": {},
   "outputs": [],
   "source": [
    "%login 16.31.86.198\n",
    "\n",
    "echo \"We are now connected to the appliance\"\n",
    "\n",
    "cat > $HOME/.bashrc << EOF\n",
    "username=\"student1222\" # your Data Fabric login credentials - username  \n",
    "password=\"qcpx0k4u\" # your Data Fabric login credentials - password - \n",
    "sec_username=\"sec-student1222\" # your Data Fabric login credentials - sec username  \n",
    "sec_password=\"stuDISCO2020\" # your Data Fabric login credentials - sec password - \n",
    "apiserver_host=\"16.31.85.156\" # API Server for the Data Fabric Cluster\n",
    "ad_group=\"data-fabric-users\" # LDAP Domain Group for Data Fabric users\n",
    "vol_name=\"vol1\" # suffix for student volume name\n",
    "snapvol_name=\"snapvol1\" # suffix for student snap volume name\n",
    "cluster_name=\"mapr-cluster2.etc.fr.comm.hpecorp.net\" # Data Fabric Cluster Name\n",
    "src_vol_name=\"src-mirrvol1\" # suffix for student source mirror volume name\n",
    "dst_vol_name=\"dst-mirrvol1\"  # suffix for student destination mirror volume name\n",
    "secvol_name=\"sec-vol1\"  # suffix for student volume name used for security comparison / user access \n",
    "sec_policy=\"student1222-secpol-$(uuidgen |cut -c 1-18)\" #security policy to allow r/w access to volumes\n",
    "\n",
    "EOF\n",
    "\n",
    "echo \"your operation context is:\" student1222 \"with Password:\" qcpx0k4u"
   ]
  },
  {
   "cell_type": "markdown",
   "metadata": {},
   "source": [
    "## 2. Let's start by creating a volume\n",
    "\n",
    "#### Background:\n",
    "\n",
    "You have been given a user that is allowed to create and modify volumes on the cluster.  Data Fabric volumes can be mounted so they are accessable from NFS, HDFS or POSIX commands (like the bash kernel shell in these labs).  For security reasons, you can only mount volumes in the /user directory.\n",
    "\n",
    "#### The following command will create a new volume on the Data Fabric with:"
   ]
  },
  {
   "cell_type": "code",
   "execution_count": null,
   "metadata": {},
   "outputs": [],
   "source": [
    "echo \"Volume Name: student1222-vol1\"\n",
    "echo \"Mounted At: /user/student1222-vol1\"\n",
    "echo \"The Accountable Entity Is Your User: student1222\""
   ]
  },
  {
   "cell_type": "code",
   "execution_count": null,
   "metadata": {},
   "outputs": [],
   "source": [
    "source ~/.bashrc\n",
    "\n",
    "curl -k -X POST 'https://'$apiserver_host':8443/rest/volume/create?name='$username-$vol_name'&path=/user/'$username-$vol_name'' --user $username':'$password"
   ]
  },
  {
   "cell_type": "markdown",
   "metadata": {},
   "source": [
    "## 3. With the volume created we can now list out details on the volume\n"
   ]
  },
  {
   "cell_type": "code",
   "execution_count": null,
   "metadata": {},
   "outputs": [],
   "source": [
    "source ~/.bashrc\n",
    "\n",
    "curl -k -X GET 'https://'$apiserver_host':8443/rest/volume/list?' --user $username:$password | jq -r | grep -B 6 -A 6 ''$username-$vol_name''"
   ]
  },
  {
   "cell_type": "markdown",
   "metadata": {},
   "source": [
    "There are many volume attributes that can be set either on creation or after it is created by modifying the properties.  For a full listing of the attributes pleaess see:\n",
    "[Volume Create Attributes](https://docs.datafabric.hpe.com/62/ReferenceGuide/volume-create.html)\n",
    "\n",
    "Let's make a change to the volume you just created"
   ]
  },
  {
   "cell_type": "markdown",
   "metadata": {},
   "source": [
    "## 4. Updating/change a property on volumes already created"
   ]
  },
  {
   "cell_type": "code",
   "execution_count": null,
   "metadata": {},
   "outputs": [],
   "source": [
    "source ~/.bashrc\n",
    "\n",
    "curl -k -X POST 'https://'$apiserver_host':8443/rest/volume/modify?name='$username-$vol_name'&securitypolicy=all-students' --user $username:$password"
   ]
  },
  {
   "cell_type": "markdown",
   "metadata": {},
   "source": [
    "In this example we just applied an already created security policy called 'all-students' to this volume. We will cover security policies in a future lab section. \n",
    "\n",
    "For a full listing of attributes you can change see the [Volume Modify documentation](https://docs.datafabric.hpe.com/62/ReferenceGuide/volume-modify.html)"
   ]
  },
  {
   "cell_type": "markdown",
   "metadata": {},
   "source": [
    "## 5. Deleting volumes\n",
    "\n",
    "Deleting volumes from a REST call is a very powerful command.  This can not be un-done, so use caution in a production environment."
   ]
  },
  {
   "cell_type": "code",
   "execution_count": null,
   "metadata": {},
   "outputs": [],
   "source": [
    "source ~/.bashrc\n",
    "\n",
    "curl -k -X POST 'https://'$apiserver_host':8443/rest/volume/remove?name='$username-$vol_name'' --user $username:$password"
   ]
  },
  {
   "cell_type": "code",
   "execution_count": null,
   "metadata": {},
   "outputs": [],
   "source": [
    "%logout "
   ]
  },
  {
   "cell_type": "markdown",
   "metadata": {},
   "source": [
    "## Creating, Updating, Deleting Summary\n",
    "\n",
    "With a simple one line REST call you can manage your Ezmeral Data Fabric for all of your DevOps or DevSecOps needs for:\n",
    "\n",
    "- Creating volumes\n",
    "- Applying settings by modifying/editing volumes\n",
    "- Deleting volumes "
   ]
  },
  {
   "cell_type": "markdown",
   "metadata": {},
   "source": [
    "## Next we are going to talk about protecting the data on the Ezmeral Data Fabric cluster.\n",
    "\n",
    "* [Lab 2- Using Snapshots for Business Continuity](2-WKSHP-Snapshots.ipynb)\n"
   ]
  },
  {
   "cell_type": "code",
   "execution_count": null,
   "metadata": {},
   "outputs": [],
   "source": []
  }
 ],
 "metadata": {
  "kernelspec": {
   "display_name": "SSH",
   "language": "bash",
   "name": "ssh"
  },
  "language_info": {
   "codemirror_mode": "shell",
   "file_extension": ".sh",
   "mimetype": "text/x-sh",
   "name": "ssh"
  }
 },
 "nbformat": 4,
 "nbformat_minor": 4
}
