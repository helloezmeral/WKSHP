{
 "cells": [
  {
   "cell_type": "markdown",
   "metadata": {},
   "source": [
    "# Snapshots\n",
    "## Using Snapshots to enable business continuty for your data\n",
    "\n",
    "Snapshots are zero space copies of what the data on your volume looked like for a particluar point in time.\n",
    "\n",
    "<p align=\"center\">\n",
    "  <img src=\"Pictures/edf-snapshots-overview.png\" width=\"600\" height=\"400\" alt=\"Data Fabric Snapshots\">                                                    \n",
    "  \n",
    "</p>\n",
    "\n",
    "### Features of Ezmeral Data Fabric Snapshots:\n",
    "\n",
    "- Consistent, Point-In-Time image of a volume\n",
    "- Can be created on-demand or scheduled\n",
    "- Lightning fast creation, even at 1PB of data\n",
    "- Stores incremental changes\n",
    "- Uses Redirect on-write technology, which saves space on changes\n",
    "- Zero performance loss on writing to original data\n",
    "- Proven and battle-tested technology in the storage industry\n"
   ]
  },
  {
   "cell_type": "code",
   "execution_count": null,
   "metadata": {},
   "outputs": [],
   "source": [
    "%login 16.31.86.198\n",
    "\n",
    "echo \"We are now connected to the appliance\"\n",
    "\n",
    "#Variables used by scripts\n",
    "#password=\"qcpx0k4u\" # your Data Fabric login credentials - password - \n",
    "#apiserver_host=\"16.31.85.156\" # API Server for the Data Fabric Cluster\n",
    "#ad_group=\"data-fabric-users\" # LDAP Domain Group for Data Fabric users\n",
    "#vol_name=\"vol1\" # suffix for student volume name\n",
    "#snapvol_name=\"snapvol1\" # suffix for student snap volume name\n",
    "#cluster_name=\"mapr-cluster2.etc.fr.comm.hpecorp.net\" # Data Fabric Cluster Name\n",
    "#src_mirrvol1=\"src-mirrvol1\" # suffix for student source mirror volume name\n",
    "#dst_mirrvol1=\"dst-mirrvol1\"  # suffix for student destination mirror volume name\n",
    "#secvol_name=\"sec-vol1\"  # suffix for student volume name used for security comparison / user access \n",
    "#sec_policy=\"student1222-policy\" #security policy to allow r/w access to volumes\n",
    "\n",
    "echo \"your operation context is:\" student1222 \"with Password:\" qcpx0k4u"
   ]
  },
  {
   "cell_type": "markdown",
   "metadata": {},
   "source": [
    "## 1. Creating a snapshot\n",
    "\n",
    "#### Background:\n",
    "\n",
    "You have been given a user that is allowed to create and modify volumes on the cluster.  Data Fabric volumes can be mounted so they are accessable from NFS, HDFS or POSIX commands (like the bash kernel shell in these labs).  For security reasons, you can only mount volumes in the /user directory.\n",
    "\n",
    "First, let's create a volume to work with and create snapshots on:"
   ]
  },
  {
   "cell_type": "code",
   "execution_count": null,
   "metadata": {},
   "outputs": [],
   "source": [
    "source ~/.bashrc\n",
    "\n",
    "curl -k -X POST 'https://'$apiserver_host':8443/rest/volume/create?name='$username-$snapvol_name'&path=/user/'$username-$snapvol_name'' --user $username:$password"
   ]
  },
  {
   "cell_type": "markdown",
   "metadata": {},
   "source": [
    "In order to use and demonstrate snapshots effectively we need to write some data to our volume and then verify the data was created."
   ]
  },
  {
   "cell_type": "code",
   "execution_count": null,
   "metadata": {},
   "outputs": [],
   "source": [
    "source ~/.bashrc\n",
    "echo \"## Creating a file before we take a snapshot.##\"\n",
    "echo \"$username-$snapvol_name snapshot volume update $(date)\" >> /mapr/$cluster_name/user/$username-$snapvol_name/$username-pre-snapshot-file1\n",
    "echo \"## Listing out our directory to view the file we just created.##\"\n",
    "ls /mapr/$cluster_name/user/$username-$snapvol_name\n",
    "echo \"## Verify the file we just wrote has the correct contents.##\"\n",
    "cat /mapr/$cluster_name/user/$username-$snapvol_name/$username-pre-snapshot-file1"
   ]
  },
  {
   "cell_type": "markdown",
   "metadata": {},
   "source": [
    "Now that we have created the volume and created data within it we can create an \"On-demand\" snapshot:"
   ]
  },
  {
   "cell_type": "code",
   "execution_count": null,
   "metadata": {},
   "outputs": [],
   "source": [
    "source ~/.bashrc\n",
    "\n",
    "curl -k -X POST 'https://'$apiserver_host':8443/rest/volume/snapshot/create?volume='$username-$snapvol_name'&snapshotname='$username-snapshot1'' --user $username:$password"
   ]
  },
  {
   "cell_type": "markdown",
   "metadata": {},
   "source": [
    "Lastly, let's create another file to showcase the difference in file listing of the snapshot in a future step."
   ]
  },
  {
   "cell_type": "code",
   "execution_count": null,
   "metadata": {},
   "outputs": [],
   "source": [
    "source ~/.bashrc\n",
    "echo \"## Creating a file after we took a snapshot.##\"\n",
    "echo \"$username-$snapvol_name snapshot volume update $(date)\" >> /mapr/$cluster_name/user/$username-$snapvol_name/$username-post-snapshot-file1\n",
    "echo \"## Listing out our directory to view the file we just created.##\"\n",
    "ls /mapr/$cluster_name/user/$username-$snapvol_name\n",
    "echo \"## Verify the file we just wrote has the correct contents.##\"\n",
    "cat /mapr/$cluster_name/user/$username-$snapvol_name/$username-post-snapshot-file1"
   ]
  },
  {
   "cell_type": "markdown",
   "metadata": {},
   "source": [
    "## 2. Listing the snapshot you just created:"
   ]
  },
  {
   "cell_type": "code",
   "execution_count": null,
   "metadata": {},
   "outputs": [],
   "source": [
    "source ~/.bashrc\n",
    "\n",
    "curl -k -X POST 'https://'$apiserver_host':8443/rest/volume/snapshot/list' --user $username:$password | jq -r | grep -B 12 -A 2 ''$username-$snapvol_name''"
   ]
  },
  {
   "cell_type": "markdown",
   "metadata": {},
   "source": [
    "## 3. Viewing data within a snapshot"
   ]
  },
  {
   "cell_type": "markdown",
   "metadata": {},
   "source": [
    "By default all Snapshots, when created, can be viewed by looking within an explicit hidden directory at the top level within the volume.\n",
    "For example if you try and list the contents of the top level directory you will not see the hidden dirctory\n",
    "\n",
    "Example:"
   ]
  },
  {
   "cell_type": "code",
   "execution_count": null,
   "metadata": {},
   "outputs": [],
   "source": [
    "source ~/.bashrc\n",
    "\n",
    "ls -la /mapr/$cluster_name/user/$username-$snapvol_name/"
   ]
  },
  {
   "cell_type": "markdown",
   "metadata": {},
   "source": [
    "But if we explicitly set the '.snapshot' directory in our listing we will see our snapshot.\n",
    "\n",
    "Example:"
   ]
  },
  {
   "cell_type": "code",
   "execution_count": null,
   "metadata": {},
   "outputs": [],
   "source": [
    "source ~/.bashrc\n",
    "\n",
    "ls /mapr/$cluster_name/user/$username-$snapvol_name/.snapshot"
   ]
  },
  {
   "cell_type": "markdown",
   "metadata": {},
   "source": [
    "The above listing is your manual snapshot you created in step 1.  Now let's look at the contents within this .snapshot directory\n",
    "\n",
    "Example:\n"
   ]
  },
  {
   "cell_type": "code",
   "execution_count": null,
   "metadata": {},
   "outputs": [],
   "source": [
    "source ~/.bashrc\n",
    "\n",
    "ls /mapr/$cluster_name/user/$username-$snapvol_name/.snapshot/$username-snapshot1"
   ]
  },
  {
   "cell_type": "code",
   "execution_count": null,
   "metadata": {},
   "outputs": [],
   "source": [
    "source ~/.bashrc\n",
    "\n",
    "echo \"If this section was successful you should see your test file you created called:\"\n",
    "echo \"$username-pre-snapshot-file1\""
   ]
  },
  {
   "cell_type": "markdown",
   "metadata": {},
   "source": [
    "## 4. Recovery specific data within a snapshot"
   ]
  },
  {
   "cell_type": "markdown",
   "metadata": {},
   "source": [
    "Now let's delete some data!\n"
   ]
  },
  {
   "cell_type": "code",
   "execution_count": null,
   "metadata": {},
   "outputs": [],
   "source": [
    "source ~/.bashrc\n",
    "\n",
    "rm /mapr/$cluster_name/user/$username-$snapvol_name/$username-pre-snapshot-file1"
   ]
  },
  {
   "cell_type": "markdown",
   "metadata": {},
   "source": [
    "Verify the previous test files we created is removed:"
   ]
  },
  {
   "cell_type": "code",
   "execution_count": null,
   "metadata": {},
   "outputs": [],
   "source": [
    "source ~/.bashrc\n",
    "\n",
    "ls /mapr/$cluster_name/user/$username-$snapvol_name/"
   ]
  },
  {
   "cell_type": "markdown",
   "metadata": {},
   "source": [
    "Now let's recovery the specific file from your snapshot, first let's take a look at data within your snapshot."
   ]
  },
  {
   "cell_type": "code",
   "execution_count": null,
   "metadata": {},
   "outputs": [],
   "source": [
    "source ~/.bashrc\n",
    "\n",
    "ls /mapr/$cluster_name/user/$username-$snapvol_name/.snapshot/$username-snapshot1"
   ]
  },
  {
   "cell_type": "markdown",
   "metadata": {},
   "source": [
    "Verify it's the file you want:"
   ]
  },
  {
   "cell_type": "code",
   "execution_count": null,
   "metadata": {},
   "outputs": [],
   "source": [
    "source ~/.bashrc\n",
    "\n",
    "cat /mapr/$cluster_name/user/$username-$snapvol_name/.snapshot/$username-snapshot1/$username-pre-snapshot-file1"
   ]
  },
  {
   "cell_type": "markdown",
   "metadata": {},
   "source": [
    "Recover the individual file from your snapshot to your  volume:"
   ]
  },
  {
   "cell_type": "code",
   "execution_count": null,
   "metadata": {},
   "outputs": [],
   "source": [
    "source ~/.bashrc\n",
    "\n",
    "cp /mapr/$cluster_name/user/$username-$snapvol_name/.snapshot/$username-snapshot1/$username-pre-snapshot-file1 /mapr/$cluster_name/user/$username-$snapvol_name/"
   ]
  },
  {
   "cell_type": "markdown",
   "metadata": {},
   "source": [
    "Verify your file is on your volume:"
   ]
  },
  {
   "cell_type": "code",
   "execution_count": null,
   "metadata": {},
   "outputs": [],
   "source": [
    "source ~/.bashrc\n",
    "echo \"##List out the files in your volume.##\"\n",
    "ls /mapr/$cluster_name/user/$username-$snapvol_name/\n",
    "echo \"##Verify the contents of your file you recovered.##\"\n",
    "cat /mapr/$cluster_name/user/$username-$snapvol_name/$username-pre-snapshot-file1"
   ]
  },
  {
   "cell_type": "markdown",
   "metadata": {},
   "source": [
    "## 5. Roll back your data in a volume using snapshot restore"
   ]
  },
  {
   "cell_type": "markdown",
   "metadata": {},
   "source": [
    "#### Another feature is the abilty to roll your volumes data back to a point-in-time snapshot with Snapshot Restore\n",
    "\n",
    "With Snapshot Restore you need:\n",
    "\n",
    "- A currently created volume.\n",
    "- A volume with a snapshot.\n",
    "- You must unmount and then mount the volume again\n",
    "\n",
    "Snapshot Restore is a disributive process and should only be used when you are declaring a diaster or a business continutity event on your data.\n",
    "\n",
    "First let's unmount our volume:"
   ]
  },
  {
   "cell_type": "code",
   "execution_count": null,
   "metadata": {},
   "outputs": [],
   "source": [
    "source ~/.bashrc\n",
    "\n",
    "curl -k -X POST 'https://'$apiserver_host':8443/rest/volume/unmount?name='$username-$snapvol_name'' --user $username:$password"
   ]
  },
  {
   "cell_type": "markdown",
   "metadata": {},
   "source": [
    "Now you can restore your snapshot to a scheudled or on-demand snapshot"
   ]
  },
  {
   "cell_type": "code",
   "execution_count": null,
   "metadata": {},
   "outputs": [],
   "source": [
    "source ~/.bashrc\n",
    "\n",
    "curl -k -X POST 'https://'$apiserver_host':8443/rest/volume/snapshot/restore?snapshotname='$username-snapshot1'&volume='$username-$snapvol_name'' --user $username:$password"
   ]
  },
  {
   "cell_type": "markdown",
   "metadata": {},
   "source": [
    "And then re-mount your volume"
   ]
  },
  {
   "cell_type": "code",
   "execution_count": null,
   "metadata": {},
   "outputs": [],
   "source": [
    "source ~/.bashrc\n",
    "\n",
    "curl -k -X POST 'https://'$apiserver_host':8443/rest/volume/mount?name='$username-$snapvol_name'&path=/user/'$username-$snapvol_name'' --user $username:$password"
   ]
  },
  {
   "cell_type": "markdown",
   "metadata": {},
   "source": [
    "Now, verify your files are restored to your snapshot restore time:"
   ]
  },
  {
   "cell_type": "code",
   "execution_count": null,
   "metadata": {},
   "outputs": [],
   "source": [
    "source ~/.bashrc\n",
    "echo \"##List out the files in your volume.##\"\n",
    "ls /mapr/$cluster_name/user/$username-$snapvol_name/\n",
    "echo \"##Verify the contents of your file you recovered.##\"\n",
    "cat /mapr/$cluster_name/user/$username-$snapvol_name/$username-pre-snapshot-file1"
   ]
  },
  {
   "cell_type": "markdown",
   "metadata": {},
   "source": [
    "For more information on the Snapshot restore feature please see [Ezmeral Data Fabric: Snapshot Restore](https://docs.datafabric.hpe.com/62/AdministratorGuide/Snapshots-Restoring-new.html?hl=snapshot%2Crestore)"
   ]
  },
  {
   "cell_type": "markdown",
   "metadata": {},
   "source": [
    "## 6. Deleting Snapshots \n",
    "### Let's cleanup now\n",
    "\n",
    " 1. Remove volumes\n",
    " 2. Remove snapshots"
   ]
  },
  {
   "cell_type": "code",
   "execution_count": null,
   "metadata": {},
   "outputs": [],
   "source": [
    "source ~/.bashrc\n",
    "echo \"Deleting Lab2 snapshots\"\n",
    "echo \"Listing Student snapshot and extracting right one with associated snapshot id\"\n",
    "snapid=$(curl -k --user $username:$password -X POST 'https://'$apiserver_host':8443/rest/volume/snapshot/list'| jq -r | grep -B 12 -A 2 ''$username-$snapvol_name'' | grep snapshotid | cut -c22-30)\n",
    "\n",
    "echo \"Deleting LAB2 Snapshot using its id\"\n",
    "curl -k --user $username:$password -X POST 'https://'$apiserver_host':8443/rest/volume/snapshot/remove?snapshots='$snapid\n",
    "\n",
    "echo \"Deleting LAB2 student Snapvol volume\"\n",
    "curl -k -X POST 'https://'$apiserver_host':8443/rest/volume/remove?name='$username-$snapvol_name'' --user $username:$password\n"
   ]
  },
  {
   "cell_type": "code",
   "execution_count": null,
   "metadata": {},
   "outputs": [],
   "source": [
    "%logout "
   ]
  },
  {
   "cell_type": "markdown",
   "metadata": {},
   "source": [
    "## Snapshots Summary\n",
    "\n",
    "In this example we:\n",
    "\n",
    "1. Created a volume\n",
    "2. Placed data in that volume\n",
    "3. Created a snapshot and then showed how to recover individual data from a snapshot back to into the volume\n",
    "4. We also showed how to \"Roll Back\" your entire volumes to a particular snapshot point in time by using Snapshot Restore.\n",
    "\n",
    "# Using Mirrror's for Disaster Recovery\n",
    "Let's now showcase how to use the Mirror feature on a volume for disater recovery or for developer tasks.\n",
    "\n",
    "* [Lab 3 - Using Mirror's for Disaster Recovery](3-WKSHP-Mirrors.ipynb)"
   ]
  }
 ],
 "metadata": {
  "kernelspec": {
   "display_name": "SSH",
   "language": "bash",
   "name": "ssh"
  },
  "language_info": {
   "codemirror_mode": "shell",
   "file_extension": ".sh",
   "mimetype": "text/x-sh",
   "name": "ssh"
  }
 },
 "nbformat": 4,
 "nbformat_minor": 4
}
