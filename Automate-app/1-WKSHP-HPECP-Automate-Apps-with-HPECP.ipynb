{
 "cells": [
  {
   "cell_type": "markdown",
   "metadata": {},
   "source": [
    "# HPE Container Platform (HPECP) Automate Splunk Application Deployments with HPECP  - Lab 1\n",
    "## Deploying cloud native and non-cloud native applications, programmatically on Kubernetes clusters managed by the HPE Container Platform.\n",
    "\n",
    "\n",
    "**Requirements:**\n",
    "- This workshop builds off of HackShack W479 but is not required to use this workshop\n",
    "- HPE Container Platform deployment with a managed Kubernetes cluster\n",
    "- IP address or FQDN of the HPE Container Platform's controller host and Gateway host\n",
    "- a Kubernetes tenant user account   \n",
    "\n",
    "**Utilities:**   \n",
    "- cURL  \n",
    "- Jupyter Notebook server with bash kernel installed\n",
    "- kubectl\n"
   ]
  },
  {
   "cell_type": "markdown",
   "metadata": {},
   "source": [
    "**Lab workflow:**\n",
    "\n",
    "In this lab we will cover:\n",
    "\n",
    "1. As tenant user, you will first establish a valid login session with HPECP using the HPECP REST API.\n",
    "\n",
    "2. You will then fetch the Kubeconfig file for your tenant working context using the HPECP REST API.\n",
    ">Note: A kubeconfig file is used to access the Kubernetes cluster for your tenant working context\n",
    "\n",
    "3. Deploy the Splunk Operator for Kubernetes which leverages as well as a Splunk stand alone application.\n",
    ">Note: A kubeconfig file is used to access the Kubernetes cluster for your tenant working context\n",
    "\n",
    "4. Interact with your Splunk application using cURL.\n",
    "\n",
    "**Definitions:**\n",
    "\n",
    "- *Cloud native application:* Also known as the 12 Factor app, a modern application that leverages microservices architecture with loosely coupled services.\n",
    "\n",
    "- *Non-cloud native application:* a multi-tier application with tightly coupled and interdependent services. \n",
    "\n",
    "- *Stateless application:* A stateless application is an application which does not require persistence of data nor an application state.\n",
    "\n",
    "- *Stateful application:* A stateful application typically requires persistence of certain mountpoints across application cluster nodes rescheduling, restarts, upgrades, rollbacks. A stateful application can also need persistence of network identity (i.e.: hostname). \n",
    "\n",
    "- *Splunk Operator for Kubernets (SOK)* The Splunk Operator for Kubernetes (SOK) makes it easy for Splunk Administrators to deploy and operate Enterprise deployments in a Kubernetes infrastructure. Packaged as a container, it uses the operator pattern to manage Splunk-specific custom resources, following best practices to manage all the underlying Kubernetes objects for you."
   ]
  },
  {
   "cell_type": "markdown",
   "metadata": {},
   "source": [
    "#### -1- Establish A Login Session With The HPE CP Enviroment\n",
    "#### Initialize the environment:\n",
    "\n",
    "Let's first define the environment variables according to your HPE Container Platform user account and tenant name, and the HPE Container Platform API system endpoint:"
   ]
  },
  {
   "cell_type": "code",
   "execution_count": 1,
   "metadata": {},
   "outputs": [
    {
     "name": "stdout",
     "output_type": "stream",
     "text": [
      "your working context is: student921-7eCGtQw1-splunk\n"
     ]
    }
   ],
   "source": [
    "#\n",
    "# environment variables to be adjusted/verified by the student\n",
    "#\n",
    "username=\"student921\" # your HPE ECP tenant login credentials - username\n",
    "password=\"7eCGtQw1\" # your HPE ECP tenant login credentials - password - \n",
    "#\n",
    "# fixed environment variables setup by the HPE ECP Lab administrator - please DO NOT MODIFY!!\n",
    "#\n",
    "controller_endpoint=\"gateway1.hpedevlab.net:8080\"\n",
    "gateway_host=\"gateway1.hpedevlab.net\"\n",
    "tenantname=\"splunk\"\n",
    "tenantlowername=$(echo $tenantname | tr '[A-Z]' '[a-z]')\n",
    "\n",
    "echo \"your working context is:\" $username-$password-$tenantname "
   ]
  },
  {
   "cell_type": "markdown",
   "metadata": {},
   "source": [
    "#### Authenticate as a Tenant user in the specified tenant:"
   ]
  },
  {
   "cell_type": "code",
   "execution_count": 2,
   "metadata": {},
   "outputs": [
    {
     "name": "stdout",
     "output_type": "stream",
     "text": [
      "This is your session location:  /api/v2/session/8ccc29da-06bd-43a0-8b73-e9b0db340904\n",
      "This is your session_Id: 8ccc29da-06bd-43a0-8b73-e9b0db340904\n"
     ]
    }
   ],
   "source": [
    "sessionlocation=$(curl -k -i -s --request POST \"https://${controller_endpoint}/api/v2/session\" \\\n",
    "--header 'Accept: application/json' \\\n",
    "--header 'Content-Type: application/json' \\\n",
    "--data-raw '{\n",
    "\"name\": \"'\"$username\"'\",\n",
    "\"password\": \"'\"$password\"'\",\n",
    "\"tenant_name\": \"'\"$tenantname\"'\"\n",
    "}' | grep Location | awk '{print $2}' | tr -d '\\r') #we remove any cr that might exist\n",
    "echo \"This is your session location: \" $sessionlocation\n",
    "SessionId=$(echo $sessionlocation | cut -d'/' -f 5) # extract sessionId for later, for logout\n",
    "echo \"This is your session_Id:\" $SessionId"
   ]
  },
  {
   "cell_type": "markdown",
   "metadata": {},
   "source": [
    "#### Quickly check to ensure you can make REST API calls within your tenant working context:\n",
    "Here you will fetch information about the session you have just established."
   ]
  },
  {
   "cell_type": "code",
   "execution_count": 3,
   "metadata": {},
   "outputs": [
    {
     "name": "stdout",
     "output_type": "stream",
     "text": [
      "\u001b[1;39m{\n",
      "  \u001b[0m\u001b[34;1m\"_links\"\u001b[0m\u001b[1;39m: \u001b[0m\u001b[1;39m{\n",
      "    \u001b[0m\u001b[34;1m\"self\"\u001b[0m\u001b[1;39m: \u001b[0m\u001b[1;39m{\n",
      "      \u001b[0m\u001b[34;1m\"href\"\u001b[0m\u001b[1;39m: \u001b[0m\u001b[0;32m\"/api/v2/session/8ccc29da-06bd-43a0-8b73-e9b0db340904\"\u001b[0m\u001b[1;39m\n",
      "    \u001b[1;39m}\u001b[0m\u001b[1;39m,\n",
      "    \u001b[0m\u001b[34;1m\"all_sessions\"\u001b[0m\u001b[1;39m: \u001b[0m\u001b[1;39m{\n",
      "      \u001b[0m\u001b[34;1m\"href\"\u001b[0m\u001b[1;39m: \u001b[0m\u001b[0;32m\"/api/v2/session\"\u001b[0m\u001b[1;39m\n",
      "    \u001b[1;39m}\u001b[0m\u001b[1;39m\n",
      "  \u001b[1;39m}\u001b[0m\u001b[1;39m,\n",
      "  \u001b[0m\u001b[34;1m\"user\"\u001b[0m\u001b[1;39m: \u001b[0m\u001b[0;32m\"/api/v1/user/79\"\u001b[0m\u001b[1;39m,\n",
      "  \u001b[0m\u001b[34;1m\"user_name\"\u001b[0m\u001b[1;39m: \u001b[0m\u001b[0;32m\"student921\"\u001b[0m\u001b[1;39m,\n",
      "  \u001b[0m\u001b[34;1m\"tenant\"\u001b[0m\u001b[1;39m: \u001b[0m\u001b[0;32m\"/api/v1/tenant/86\"\u001b[0m\u001b[1;39m,\n",
      "  \u001b[0m\u001b[34;1m\"tenant_name\"\u001b[0m\u001b[1;39m: \u001b[0m\u001b[0;32m\"splunk\"\u001b[0m\u001b[1;39m,\n",
      "  \u001b[0m\u001b[34;1m\"role\"\u001b[0m\u001b[1;39m: \u001b[0m\u001b[0;32m\"/api/v1/role/3\"\u001b[0m\u001b[1;39m,\n",
      "  \u001b[0m\u001b[34;1m\"role_name\"\u001b[0m\u001b[1;39m: \u001b[0m\u001b[0;32m\"Member\"\u001b[0m\u001b[1;39m,\n",
      "  \u001b[0m\u001b[34;1m\"expiry\"\u001b[0m\u001b[1;39m: \u001b[0m\u001b[0;32m\"2021-4-30 08:38:54\"\u001b[0m\u001b[1;39m,\n",
      "  \u001b[0m\u001b[34;1m\"expiry_time\"\u001b[0m\u001b[1;39m: \u001b[0m\u001b[0;39m1619764734\u001b[0m\u001b[1;39m,\n",
      "  \u001b[0m\u001b[34;1m\"is_site_admin_view\"\u001b[0m\u001b[1;39m: \u001b[0m\u001b[0;39mfalse\u001b[0m\u001b[1;39m,\n",
      "  \u001b[0m\u001b[34;1m\"is_cluster_superuser\"\u001b[0m\u001b[1;39m: \u001b[0m\u001b[0;39mfalse\u001b[0m\u001b[1;39m\n",
      "\u001b[1;39m}\u001b[0m\n"
     ]
    }
   ],
   "source": [
    "curl -k -s --request GET \"https://${controller_endpoint}/api/v2/session/${SessionId}\" \\\n",
    "--header \"X-BDS-SESSION: $sessionlocation\" \\\n",
    "--header 'Accept: application/json' \\\n",
    "--header 'Content-Type: application/json' | jq  #using jq to pretty print the JSON reponse of the API call "
   ]
  },
  {
   "cell_type": "markdown",
   "metadata": {},
   "source": [
    "#### Get the Kubeconfig file for your tenant working context:\n",
    "The next step in deploying a containerized application in Kubernetes clusters managed by the HPE Container Platform is to get the kubeconfig file for your tenant working context. \n",
    "\n",
    "The HPECP REST API call below allows you to get the **kubeconfig file** used to access the Kubernetes cluster for your tenant user account based on your assigned role (tenant member) with the same result as if you had downloaded it from the HPECP UI."
   ]
  },
  {
   "cell_type": "code",
   "execution_count": 4,
   "metadata": {},
   "outputs": [],
   "source": [
    "curl -k -s --request GET \"https://${controller_endpoint}/api/v2/k8skubeconfig\" \\\n",
    "--header \"X-BDS-SESSION: $sessionlocation\" \\\n",
    "--header 'Accept: application/json' \\\n",
    "--header 'Content-Type: application/json' > ${username}_kubeconfig"
   ]
  },
  {
   "cell_type": "code",
   "execution_count": 5,
   "metadata": {},
   "outputs": [
    {
     "name": "stdout",
     "output_type": "stream",
     "text": [
      "apiVersion: v1\n",
      "clusters:\n",
      "- cluster:\n",
      "    insecure-skip-tls-verify: true\n",
      "    server: https://hpecpgw1.hp.local:9500\n",
      "  name: k8scluster1\n",
      "contexts:\n",
      "- context:\n",
      "    cluster: k8scluster1\n",
      "    user: HPECP-student921\n",
      "  name: k8scluster1-student921\n",
      "- context:\n",
      "    cluster: k8scluster1\n",
      "    user: HPECP-student921\n",
      "    namespace: k8shacktenant\n",
      "  name: k8scluster1-K8sHackTenant-student921\n",
      "- context:\n",
      "    cluster: k8scluster1\n",
      "    user: HPECP-student921\n",
      "    namespace: splunk\n",
      "  name: k8scluster1-splunk-student921\n",
      "current-context: k8scluster1-splunk-student921\n",
      "kind: Config\n",
      "preferences: {}\n",
      "users:\n",
      "- name: HPECP-student921\n",
      "  user:\n",
      "    exec:\n",
      "      command: kubectl\n",
      "      apiVersion: client.authentication.k8s.io/v1beta1\n",
      "      args:\n",
      "      - hpecp\n",
      "      - authenticate\n",
      "      - hpecpgw1.hp.local:8080\n",
      "      - --hpecp-user=student921\n",
      "      - --hpecp-token=/api/v2/session/8ccc29da-06bd-43a0-8b73-e9b0db340904\n",
      "      - --hpecp-token-expiry=1619764734\n",
      "      - --force-reauth=false\n",
      "      - --insecure-skip-tls-verify=true\n"
     ]
    }
   ],
   "source": [
    "cat ${username}_kubeconfig"
   ]
  },
  {
   "cell_type": "markdown",
   "metadata": {},
   "source": [
    "> Notice the kubeconfig file includes the valid token (session location) for the current session you previously established."
   ]
  },
  {
   "cell_type": "markdown",
   "metadata": {},
   "source": [
    "#### Define the Kubeconfig file as a shell environment variable:\n",
    "The kubectl command-line tool (a K8s API client) uses kubeconfig file to communicate with the Kube API server of a Kubernetes cluster. By default, kubectl looks for a file named **config** in the $HOME/.kube directory. Because our kubeconfig file is not located in a default location, we must specify the path of the kubeconfig file by setting the KUBECONFIG environment variable:"
   ]
  },
  {
   "cell_type": "code",
   "execution_count": 6,
   "metadata": {},
   "outputs": [
    {
     "name": "stdout",
     "output_type": "stream",
     "text": [
      "student921_kubeconfig\n"
     ]
    }
   ],
   "source": [
    "#define the Kubeconfig file as a shell environment variable to tell kubectl where to look for the kubeconfig file\n",
    "export KUBECONFIG=\"${username}_kubeconfig\"\n",
    "echo $KUBECONFIG"
   ]
  },
  {
   "cell_type": "markdown",
   "metadata": {},
   "source": [
    "#### Check your working tenant context:"
   ]
  },
  {
   "cell_type": "code",
   "execution_count": 7,
   "metadata": {},
   "outputs": [
    {
     "name": "stdout",
     "output_type": "stream",
     "text": [
      "apiVersion: v1\n",
      "clusters:\n",
      "- cluster:\n",
      "    insecure-skip-tls-verify: true\n",
      "    server: https://hpecpgw1.hp.local:9500\n",
      "  name: k8scluster1\n",
      "contexts:\n",
      "- context:\n",
      "    cluster: k8scluster1\n",
      "    namespace: k8shacktenant\n",
      "    user: HPECP-student921\n",
      "  name: k8scluster1-K8sHackTenant-student921\n",
      "- context:\n",
      "    cluster: k8scluster1\n",
      "    namespace: splunk\n",
      "    user: HPECP-student921\n",
      "  name: k8scluster1-splunk-student921\n",
      "- context:\n",
      "    cluster: k8scluster1\n",
      "    user: HPECP-student921\n",
      "  name: k8scluster1-student921\n",
      "current-context: k8scluster1-splunk-student921\n",
      "kind: Config\n",
      "preferences: {}\n",
      "users:\n",
      "- name: HPECP-student921\n",
      "  user:\n",
      "    exec:\n",
      "      apiVersion: client.authentication.k8s.io/v1beta1\n",
      "      args:\n",
      "      - hpecp\n",
      "      - authenticate\n",
      "      - hpecpgw1.hp.local:8080\n",
      "      - --hpecp-user=student921\n",
      "      - --hpecp-token=/api/v2/session/8ccc29da-06bd-43a0-8b73-e9b0db340904\n",
      "      - --hpecp-token-expiry=1619764734\n",
      "      - --force-reauth=false\n",
      "      - --insecure-skip-tls-verify=true\n",
      "      command: kubectl\n",
      "      env: null\n",
      "      provideClusterInfo: false\n"
     ]
    }
   ],
   "source": [
    "kubectl config view"
   ]
  },
  {
   "cell_type": "markdown",
   "metadata": {},
   "source": [
    "You can now send Kubernetes API requests using a K8s API client such as **kubectl** to deploy enterprise workloads to the kubernetes cluster using the privileges assigned to your tenant role. \n",
    "\n",
    ">Note: kubectl has been installed in the JupyterHub server by the IT administrator.\n",
    "\n",
    "**Let's see this in action!**"
   ]
  },
  {
   "cell_type": "markdown",
   "metadata": {},
   "source": [
    "## -2- Setup and install Splunk Operator for Kubernetes (SOK) within your pod."
   ]
  },
  {
   "cell_type": "markdown",
   "metadata": {},
   "source": [
    "#### First let's ensure we can talk to our k8s resources by running a kubectl command. We will likely see other pods running from other users on this namespace, but that's ok:"
   ]
  },
  {
   "cell_type": "code",
   "execution_count": 8,
   "metadata": {},
   "outputs": [
    {
     "name": "stdout",
     "output_type": "stream",
     "text": [
      "NAME                               READY   STATUS    RESTARTS   AGE\n",
      "splunk-operator-78bdc844bf-547r9   1/1     Running   0          40d\n"
     ]
    }
   ],
   "source": [
    "kubectl get pod"
   ]
  },
  {
   "cell_type": "markdown",
   "metadata": {},
   "source": [
    "#### Intall the Splunk Operator\n",
    "Note*:  When you see a \"Asterisk\" symbol next to the next action it means your execution step is busy working within the notebook."
   ]
  },
  {
   "cell_type": "code",
   "execution_count": 9,
   "metadata": {},
   "outputs": [
    {
     "name": "stdout",
     "output_type": "stream",
     "text": [
      "customresourcedefinition.apiextensions.k8s.io/clustermasters.enterprise.splunk.com unchanged\n",
      "customresourcedefinition.apiextensions.k8s.io/indexerclusters.enterprise.splunk.com unchanged\n",
      "customresourcedefinition.apiextensions.k8s.io/licensemasters.enterprise.splunk.com unchanged\n",
      "customresourcedefinition.apiextensions.k8s.io/searchheadclusters.enterprise.splunk.com unchanged\n",
      "customresourcedefinition.apiextensions.k8s.io/sparks.enterprise.splunk.com unchanged\n",
      "customresourcedefinition.apiextensions.k8s.io/standalones.enterprise.splunk.com unchanged\n",
      "serviceaccount/splunk-operator unchanged\n",
      "role.rbac.authorization.k8s.io/splunk:operator:namespace-manager unchanged\n",
      "rolebinding.rbac.authorization.k8s.io/splunk:operator:namespace-manager unchanged\n",
      "deployment.apps/splunk-operator unchanged\n"
     ]
    }
   ],
   "source": [
    "kubectl apply -f http://tiny.cc/splunk-operator-install"
   ]
  },
  {
   "cell_type": "code",
   "execution_count": 11,
   "metadata": {},
   "outputs": [
    {
     "name": "stdout",
     "output_type": "stream",
     "text": [
      "NAME                               READY   STATUS    RESTARTS   AGE\n",
      "splunk-operator-78bdc844bf-547r9   1/1     Running   0          40d\n"
     ]
    }
   ],
   "source": [
    "kubectl get pod"
   ]
  },
  {
   "cell_type": "markdown",
   "metadata": {},
   "source": [
    "We should see our Spark Operator running.  It will look like: splunk-operator-(random)-(random)"
   ]
  },
  {
   "cell_type": "markdown",
   "metadata": {},
   "source": [
    "## Launch the Splunk Stand Alone Application\n",
    "\n",
    "First we need to create the YAML file for Splunk stand alone"
   ]
  },
  {
   "cell_type": "code",
   "execution_count": 12,
   "metadata": {},
   "outputs": [],
   "source": [
    "cat > 0_splunkStandAlone.yaml << EOF\n",
    "apiVersion: enterprise.splunk.com/v1beta1\n",
    "kind: Standalone\n",
    "metadata:\n",
    "  name: $username\n",
    "  namespace: $tenantlowername\n",
    "  finalizers:\n",
    "    - enterprise.splunk.com/delete-pvc\n",
    "spec:\n",
    "  storageClassName: \"openebs-hostpath\"\n",
    "EOF"
   ]
  },
  {
   "cell_type": "code",
   "execution_count": 13,
   "metadata": {},
   "outputs": [
    {
     "name": "stdout",
     "output_type": "stream",
     "text": [
      "standalone.enterprise.splunk.com/student921 created\n"
     ]
    }
   ],
   "source": [
    "kubectl apply -f 0_splunkStandAlone.yaml"
   ]
  },
  {
   "cell_type": "code",
   "execution_count": 14,
   "metadata": {},
   "outputs": [
    {
     "name": "stdout",
     "output_type": "stream",
     "text": [
      "NAME                               READY   STATUS    RESTARTS   AGE\n",
      "splunk-operator-78bdc844bf-547r9   1/1     Running   0          40d\n",
      "splunk-student921-standalone-0     0/1     Pending   0          3s\n"
     ]
    }
   ],
   "source": [
    "kubectl get pod"
   ]
  },
  {
   "cell_type": "markdown",
   "metadata": {},
   "source": [
    "Above you will see your application was deployed as 'splunk-user_student_id-standealone-number-increment'"
   ]
  },
  {
   "cell_type": "markdown",
   "metadata": {},
   "source": [
    "Expose your Splunk applications port"
   ]
  },
  {
   "cell_type": "code",
   "execution_count": 15,
   "metadata": {},
   "outputs": [],
   "source": [
    "cat > mySplunkService.yaml << EOF\n",
    "apiVersion: v1\n",
    "kind: Service\n",
    "metadata:\n",
    "  name: splunk-$username-standalone-0\n",
    "  namespace: splunk\n",
    "spec:\n",
    "  ports:\n",
    "  - name: http-splunk \n",
    "    port: 8000\n",
    "    protocol: TCP\n",
    "    targetPort: 8000\n",
    "  selector:\n",
    "    app.kubernetes.io/component: standalone\n",
    "    app.kubernetes.io/instance: splunk-$username-standalone\n",
    "    app.kubernetes.io/managed-by: splunk-operator\n",
    "    app.kubernetes.io/name: standalone\n",
    "    app.kubernetes.io/part-of: splunk-$username-standalone\n",
    "    statefulset.kubernetes.io/pod-name: splunk-$username-standalone-0\n",
    "  sessionAffinity: None\n",
    "  type: NodePort\n",
    "status:\n",
    "  loadBalancer: {}\n",
    "\n",
    "EOF"
   ]
  },
  {
   "cell_type": "code",
   "execution_count": 16,
   "metadata": {},
   "outputs": [
    {
     "name": "stdout",
     "output_type": "stream",
     "text": [
      "service/splunk-student921-standalone-0 created\n"
     ]
    }
   ],
   "source": [
    "kubectl apply -f mySplunkService.yaml"
   ]
  },
  {
   "cell_type": "markdown",
   "metadata": {},
   "source": [
    "## -3- Get the Kubernetes Pod and Service for your deployed application\n",
    "HPE Container Platform automatically maps the **NodePort Service** endpoint to the HPE Container Platform gateway (proxy) host.\n",
    "Access to application services running in containers is proxied via the gateway host on a publicly-accessible IP address and a port number greater than 10000."
   ]
  },
  {
   "cell_type": "code",
   "execution_count": 19,
   "metadata": {},
   "outputs": [
    {
     "name": "stdout",
     "output_type": "stream",
     "text": [
      "Your application service endpoint re-mapped port is: 10128\n",
      "Your Intranet application service endpoint is: https://gateway1.hpedevlab.net:10128\n"
     ]
    }
   ],
   "source": [
    "myservice=\"splunk-${username}-standalone-0\"\n",
    "appURL=$(kubectl describe service/\"${myservice}\" | grep gateway | awk '{print $3}')\n",
    "appPort=$(echo $appURL | cut -d':' -f 2) # extract the gateway re-mapped port value.\n",
    "myapp_endpoint=\"https://$gateway_host:$appPort\"\n",
    "echo \"Your application service endpoint re-mapped port is: \"$appPort\n",
    "echo \"Your Intranet application service endpoint is: \"$myapp_endpoint"
   ]
  },
  {
   "cell_type": "markdown",
   "metadata": {},
   "source": [
    "## -4- Check to see if your application is responding and log in:"
   ]
  },
  {
   "cell_type": "markdown",
   "metadata": {},
   "source": [
    "In order to login to your deployed Splunk application you will need the password:"
   ]
  },
  {
   "cell_type": "code",
   "execution_count": 20,
   "metadata": {},
   "outputs": [
    {
     "name": "stdout",
     "output_type": "stream",
     "text": [
      "1pWyMN6jG1PdnBjA9NSvjKBi\n"
     ]
    }
   ],
   "source": [
    "splunkPW=$(kubectl get secret splunk-${username}-standalone-secret-v1 -o jsonpath='{.data.password}' | base64 --decode)\n",
    "echo $splunkPW"
   ]
  },
  {
   "cell_type": "markdown",
   "metadata": {},
   "source": [
    "**If the below command fails, wait approximately one minute as the service comes up**"
   ]
  },
  {
   "cell_type": "code",
   "execution_count": 21,
   "metadata": {},
   "outputs": [
    {
     "name": "stdout",
     "output_type": "stream",
     "text": [
      "<!doctype html><html><head><meta http-equiv=\"content-type\" content=\"text/html; charset=UTF-8\"><meta http-equiv=\"refresh\" content=\"1;url=http://gateway1.hpedevlab.net:10128/en-US/\"><title>303 See Other</title></head><body><h1>See Other</h1><p>The resource has moved temporarily <a href=\"http://gateway1.hpedevlab.net:10128/en-US/\">here</a>.</p></body></html>\n"
     ]
    }
   ],
   "source": [
    "curl -k ${myapp_endpoint}"
   ]
  },
  {
   "cell_type": "markdown",
   "metadata": {},
   "source": [
    ">Note:  If you see a \"No server is available to handle this request\" retry the previous step a couple of times.\n",
    "\n",
    ">Note:  If you see a message that says \"...The resource has moved temporarily\" your applicaiton is running correctly.  \n",
    "\n",
    "Alternatively: You can also connect to your application from your browser through our Internet NAT firewall:   \n",
    "Open a new tab in your browser and connect to the service endpoint: https://notebooks2.hpedev.io:$appPort where the port number is the re-mapped port you got above for your service endpoint.  (Please note that some browswers have issues with the SSL self signed certificates, try another broweser if you are having issues)\n",
    "\n",
    "Do a copy (CTRL-C) of the URL after execution of the cell code below and paste it (CTRL-V) on a new tab in your browser."
   ]
  },
  {
   "cell_type": "code",
   "execution_count": 22,
   "metadata": {},
   "outputs": [
    {
     "name": "stdout",
     "output_type": "stream",
     "text": [
      "Your application service is also accessible from your browser at: https://notebooks2.hpedev.io:10128\n",
      "User Login: admin\n",
      "Password: 1pWyMN6jG1PdnBjA9NSvjKBi\n"
     ]
    }
   ],
   "source": [
    "echo \"Your application service is also accessible from your browser at:\" \"https://notebooks2.hpedev.io:$appPort\"\n",
    "echo User Login: admin\n",
    "echo Password: $splunkPW"
   ]
  },
  {
   "cell_type": "markdown",
   "metadata": {},
   "source": [
    "## -5- Delete your stateless application deployment:\n",
    "Delete your application deployment and services using the K8s API request below. The K8s API call requires the kubectl operation type (delete) and the application YAML manifest.\n",
    "After a minute or so, you should get the message: deployment deleted and service deleted."
   ]
  },
  {
   "cell_type": "code",
   "execution_count": null,
   "metadata": {},
   "outputs": [],
   "source": [
    "kubectl delete standalone $username\n",
    "kubectl delete -f mySplunkService.yaml"
   ]
  },
  {
   "cell_type": "code",
   "execution_count": null,
   "metadata": {},
   "outputs": [],
   "source": [
    "curl -k -i -s --request DELETE \"https://${controller_endpoint}/api/v2/session/${SessionId}\" \\\n",
    "--header \"X-BDS-SESSION: $sessionlocation\" \\\n",
    "--header 'Accept: application/json' \\\n",
    "--header 'Content-Type: application/json'"
   ]
  },
  {
   "cell_type": "markdown",
   "metadata": {},
   "source": [
    "The status *204 No Content* means the session object has been deleted."
   ]
  },
  {
   "cell_type": "markdown",
   "metadata": {},
   "source": [
    "* Finally, reset your applications YAML files and delete the kubeconfig file"
   ]
  },
  {
   "cell_type": "code",
   "execution_count": null,
   "metadata": {},
   "outputs": [],
   "source": [
    "#reset the application deployment name in the YAML file and delete the kubeconfig file\n",
    "rm ${username}_kubeconfig\n",
    "rm mySplunkService.yaml\n",
    "rm 0_splunkStandAlone.yaml"
   ]
  },
  {
   "cell_type": "markdown",
   "metadata": {},
   "source": [
    "## Summary\n",
    "\n",
    "In this tutorial, we have shown you how to deploy the Splunk Operator for Kubernetes on the HPE Container Platform. More information regarding the SOK can be found here: https://github.com/splunk/splunk-operator/blob/master/docs/README.md.\n",
    "\n",
    "Now, let's look at how to look at a variety of data source generated by the HPECP\n",
    "\n",
    "* [Understanding the Data Provided by the HPECP](2-WKSHP-HPECP-Charge-back-and-reporting.ipynb)"
   ]
  }
 ],
 "metadata": {
  "kernelspec": {
   "display_name": "Bash",
   "language": "bash",
   "name": "bash"
  },
  "language_info": {
   "codemirror_mode": "shell",
   "file_extension": ".sh",
   "mimetype": "text/x-sh",
   "name": "bash"
  }
 },
 "nbformat": 4,
 "nbformat_minor": 4
}
