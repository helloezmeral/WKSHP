{
 "cells": [
  {
   "cell_type": "markdown",
   "metadata": {},
   "source": [
    "# HPE Container Platform (HPECP) Charge Back and Reporting - Lab 2\n",
    "## Reporting with the HPE Container Platform - Usage Reports / Charge Back / Show Back\n",
    "\n",
    "\n",
    "**Requirements:**\n",
    "- HPE Container Platform deployment\n",
    "- IP address or FQDN of the HPE Container Platform's controller host   \n",
    "\n",
    "**Utilities:**   \n",
    "- Tableau Desktop\n",
    "- Elasticsearch / Kibana\n",
    "- Jupyter Notebook server with bash kernel installed\n",
    "\n",
    "**Lab workflow:**\n",
    "\n",
    "In this lab, we will cover:\n",
    "\n",
    "1. Access to the Kibana monitoring dashboard in the HPECP\n",
    "\n",
    "2. How to analyze data retrieved from the HPECP\n",
    "\n",
    "\n",
    "**Definitions:**\n",
    "- *HPE Container Platform* is an enterprise-grade container platform designed to deploy both cloud-native and non-cloud-native applications whether they are on-premises, at the edge, in multiple public clouds, or in a hybrid model. This makes the HPE Container Platform ideal for helping enterprise customers accelerate their application development and deployment via **containers** on-demand through a self-service portal and a RESTful API that surfaces programmable access. To learn more about HPE Container Platform, visit the [HPE DEV portal](https://developer.hpe.com) and check out the blog articles.\n",
    "\n",
    "- *tenant:* A tenant is a group of users created by the platform administrator. A tenant can represent, for example, an office location, a business unit, an organization, or a project. A tenant is allocated a quota of resources (CPU, GPU, memory, storage, and Kubernetes clusters resources) by the platform administrator. All the resources used by a tenant are not shared with other tenants.\n",
    "\n",
    "- *Working tenant context:* A working tenant context establishes the user identity, its tenant name and role (member or admin). Based on this context, tenant users are granted privileges and permissions to create and manage resources for their tenant on Kubernetes clusters managed by HPE CP."
   ]
  },
  {
   "cell_type": "markdown",
   "metadata": {},
   "source": [
    "#### Initialize the environment:\n",
    "   \n",
    "Let's first define the environment variables according to your HPE Container Platform user account and tenant name, and the HPE Container Platform API system endpoint:"
   ]
  },
  {
   "cell_type": "markdown",
   "metadata": {},
   "source": [
    "## -1- Access the Kibana Dashboard"
   ]
  },
  {
   "cell_type": "markdown",
   "metadata": {},
   "source": [
    "The HPECP uses ElasticSearch to capture metrics and data related to the HPECP. The Kibana dashboard is not automatically started when the HPECP is installed, but it easy to set up following the instructions outlined here: http://docs.bluedata.com/50_accessing-kibana-monitoring.\n",
    "\n",
    "**The Kibana Dashboard has already been configured for you**"
   ]
  },
  {
   "cell_type": "markdown",
   "metadata": {},
   "source": [
    "Use the following logon credentials for this secttion:\n",
    "\n",
    ">Username=elastic\n",
    "\n",
    ">Password=\n",
    "\n",
    "Access the Kibana Dashboard here:  http://.hpedev.io:10022/"
   ]
  },
  {
   "cell_type": "markdown",
   "metadata": {},
   "source": [
    "### -1.1- Explore the Data"
   ]
  },
  {
   "cell_type": "markdown",
   "metadata": {},
   "source": [
    "1. Create an index to visualize.  Click the word \"Discover\" at the top of the menu on the left.  You will see this page:\n",
    "\n",
    "![Kibana-1](Pictures/kibana-1.png)\n",
    "\n",
    "2. Enter \"metricbeat*\" in the box for \"Index pattern\", click \"Next Step\".\n",
    "\n",
    "3. Select a filter to analyize.  Select \"@timestamp\" and then click \"Create Index Pattern\":\n",
    "\n",
    "![Kibana-2](Pictures/kibana-2.png)"
   ]
  },
  {
   "cell_type": "markdown",
   "metadata": {},
   "source": [
    "4. You may now analyze data in a time-series manner in Kibana. As seen in the image above, many filters are available to analyze a wide variety of data points in the container platform."
   ]
  },
  {
   "cell_type": "markdown",
   "metadata": {},
   "source": [
    "## -2- Analyze Data For Chargeback / Showback"
   ]
  },
  {
   "cell_type": "markdown",
   "metadata": {},
   "source": [
    "The HPECP Container Platform provides detailed usage reports and statistics. An administrator can pull this data per the instructions here, or it can be done programatically using the scripts provided with an HPECP controller install:  http://docs.bluedata.com/52_downloading-usage-details.  \n",
    "\n",
    "For convenience, these usage details have been pulled from a running cluster for use in this demonstration.\n",
    "\n",
    "Those files can be found here (use Shift+Right Click -> Save Link As) to download the file:\n",
    "* [Usage](Data/usage.csv) \n",
    "* [Stats](Data/stats.csv)\n",
    "\n",
    "Use your favorite BI tool to analyze this data.  This lab will use Tableau Desktop which is available for free here: https://public.tableau.com/en-us/s/download"
   ]
  },
  {
   "cell_type": "markdown",
   "metadata": {},
   "source": [
    "### -2.1- Analyze the Data"
   ]
  },
  {
   "cell_type": "markdown",
   "metadata": {},
   "source": [
    "![tableau](Pictures/tableau.png)"
   ]
  },
  {
   "cell_type": "markdown",
   "metadata": {},
   "source": [
    "## Summary\n",
    "\n",
    "In this tutorial, we have shown you how to analyze data from a variety of sources provided by the HPE Container Platform. \n",
    "\n",
    "Now, let's conclude this lab"
   ]
  },
  {
   "cell_type": "markdown",
   "metadata": {},
   "source": [
    "* [Conclusion](3-WKSHP-Conclusion.ipynb)"
   ]
  }
 ],
 "metadata": {
  "kernelspec": {
   "display_name": "Bash",
   "language": "bash",
   "name": "bash"
  },
  "language_info": {
   "codemirror_mode": "shell",
   "file_extension": ".sh",
   "mimetype": "text/x-sh",
   "name": "bash"
  }
 },
 "nbformat": 4,
 "nbformat_minor": 4
}
