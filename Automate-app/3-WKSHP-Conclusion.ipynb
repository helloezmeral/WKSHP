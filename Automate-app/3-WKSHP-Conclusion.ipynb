{
 "cells": [
  {
   "cell_type": "markdown",
   "metadata": {},
   "source": [
    "![HPEDEVLogo](Pictures/hpe-dev-logo.png)\n",
    "\n",
    "# Thank you for visiting the Hack Shack\n",
    "\n",
    "Powered by [HPE DEV Team](hpedev.io)\n",
    "\n",
    "# Conclusion\n",
    "\n",
    "**Congratulations!**\n",
    "\n",
    "In this workshop, we showed you how to deploy large, complex applications easily using Kubernetes and the HPECP.  We also showed metrics and data provided by the HPECP for administrators to analyze usage patterns, as well as, use chargeback / showback models.\n"
   ]
  },
  {
   "cell_type": "markdown",
   "metadata": {},
   "source": [
    "# Final step\n",
    "\n",
    "### Please take a moment to fill out our [survey](http://bit.ly/hackshack-survey) so we can ensure future workshops meet your needs.\n",
    "\n",
    "### And make sure you use `File->Log Out` to terminate your workshop session.\n",
    "\n",
    "# Thank you\n",
    "![ThankYou](Pictures/grommet.jpg)"
   ]
  },
  {
   "cell_type": "code",
   "execution_count": null,
   "metadata": {},
   "outputs": [],
   "source": []
  },
  {
   "cell_type": "code",
   "execution_count": null,
   "metadata": {},
   "outputs": [],
   "source": []
  }
 ],
 "metadata": {
  "kernelspec": {
   "display_name": "Bash",
   "language": "bash",
   "name": "bash"
  },
  "language_info": {
   "codemirror_mode": "shell",
   "file_extension": ".sh",
   "mimetype": "text/x-sh",
   "name": "bash"
  }
 },
 "nbformat": 4,
 "nbformat_minor": 4
}
