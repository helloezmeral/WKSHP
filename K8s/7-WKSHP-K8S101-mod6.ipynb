{
 "cells": [
  {
   "cell_type": "markdown",
   "metadata": {},
   "source": [
    "# Module 6: Update your app\n",
    "\n",
    "### Objectives\n",
    "\n",
    "* Perform a rolling update using kubectl.\n",
    "\n",
    "### Updating an application\n",
    "\n",
    "Users expect applications to be available all the time and developers are expected to deploy new versions of them several times a day. In Kubernetes this is done with rolling updates. **Rolling updates** allow Deployments' update to take place with zero downtime by incrementally updating Pods instances with new ones. The new Pods will be scheduled on Nodes with available resources.\n",
    "\n",
    "In the previous module we scaled our application to run multiple instances. This is a requirement for performing updates without affecting application availability. By default, the maximum number of Pods that can be unavailable during the update and the maximum number of new Pods that can be created, is one. Both options can be configured to either numbers or percentages (of Pods). In Kubernetes, updates are versioned and any Deployment update can be reverted to a previous (stable) version.\n",
    "\n",
    "> Rolling updates allow Deployments' update to take place with zero downtime by incrementally updating Pods instances with new ones.\n",
    "\n",
    "## Rolling updates overview\n",
    "\n",
    "<div>\n",
    "<img src=\"https://d33wubrfki0l68.cloudfront.net/30f75140a581110443397192d70a4cdb37df7bfc/fa906/docs/tutorials/kubernetes-basics/public/images/module_06_rollingupdates1.svg\" width=400>\n",
    "\n",
    "<img src=\"https://d33wubrfki0l68.cloudfront.net/678bcc3281bfcc588e87c73ffdc73c7a8380aca9/703a2/docs/tutorials/kubernetes-basics/public/images/module_06_rollingupdates2.svg\" width=400>\n",
    "</div>\n",
    "\n",
    "<div>\n",
    "<img src=\"https://d33wubrfki0l68.cloudfront.net/9b57c000ea41aca21842da9e1d596cf22f1b9561/91786/docs/tutorials/kubernetes-basics/public/images/module_06_rollingupdates3.svg\" width=400>\n",
    "\n",
    "<img src=\"https://d33wubrfki0l68.cloudfront.net/6d8bc1ebb4dc67051242bc828d3ae849dbeedb93/fbfa8/docs/tutorials/kubernetes-basics/public/images/module_06_rollingupdates4.svg\" width=400>\n",
    " \n",
    "</div>\n",
    "    \n",
    "\n",
    "\n",
    "Similar to application Scaling, if a Deployment is exposed publicly, the Service will load-balance the traffic only to available Pods during the update. An available Pod is an instance that is available to the users of the application.\n",
    "\n",
    "Rolling updates allow the following actions:\n",
    "\n",
    "* Promote an application from one environment to another (via container image updates)\n",
    "* Rollback to previous versions\n",
    "* Continuous Integration and Continuous Delivery of applications with zero downtime\n",
    "\n",
    "> If a Deployment is exposed publicly, the Service will load-balance the traffic only to available Pods during the update.\n",
    "\n",
    "\n",
    "\n",
    "In the following lab we'll update our application to a new version, and also perform a rollback."
   ]
  },
  {
   "cell_type": "markdown",
   "metadata": {},
   "source": [
    "### Lab 6 - Update your app\n",
    "#### Step 1 of 3: Update the version of the app\n",
    "\n",
    "To list your deployments use the get deployments command: `kubectl get deployments`\n"
   ]
  },
  {
   "cell_type": "code",
   "execution_count": 1,
   "metadata": {},
   "outputs": [
    {
     "name": "stdout",
     "output_type": "stream",
     "text": [
      "NAME                              READY   UP-TO-DATE   AVAILABLE   AGE\n",
      "kubernetes-bootcamp-student1051   4/4     4            4           35m\n",
      "kubernetes-bootcamp-student1052   1/1     1            1           25m\n",
      "kubernetes-bootcamp-student1054   4/4     4            4           35m\n",
      "kubernetes-bootcamp-student1056   1/1     1            1           23m\n",
      "kubernetes-bootcamp-student1058   3/4     2            3           35m\n",
      "kubernetes-bootcamp-student1059   1/1     1            1           33m\n",
      "kubernetes-bootcamp-student1063   4/4     4            4           35m\n",
      "kubernetes-bootcamp-student1065   1/1     1            1           24m\n",
      "kubernetes-bootcamp-student1066   4/4     4            4           34m\n",
      "kubernetes-bootcamp-student1070   4/4     4            4           36m\n",
      "kubernetes-bootcamp-student1073   4/4     4            4           33m\n",
      "kubernetes-bootcamp-student1074   1/1     1            1           25m\n",
      "kubernetes-bootcamp-student1075   4/4     4            4           35m\n",
      "kubernetes-bootcamp-student1078   1/1     1            1           37m\n",
      "kubernetes-bootcamp-student1086   4/4     4            4           35m\n",
      "kubernetes-bootcamp-student1089   1/1     1            1           35m\n",
      "kubernetes-bootcamp-student1090   4/4     4            4           31m\n",
      "kubernetes-bootcamp-student1092   1/1     1            1           31m\n",
      "kubernetes-bootcamp-student1093   4/4     4            4           35m\n",
      "kubernetes-bootcamp-student1094   4/4     4            4           21m\n",
      "kubernetes-bootcamp-student1095   4/4     4            4           36m\n",
      "kubernetes-bootcamp-student1096   1/1     1            1           15m\n",
      "kubernetes-bootcamp-student1104   1/1     1            1           33m\n",
      "kubernetes-bootcamp-student1105   1/1     1            1           29m\n",
      "kubernetes-bootcamp-student1112   1/1     1            1           34m\n",
      "kubernetes-bootcamp-student1113   1/1     1            1           31m\n"
     ]
    }
   ],
   "source": [
    "studentId=$(grep hpecp-user $HOME/.kube/config | cut -d= -f2)\n",
    "POD_NAME=$(kubectl get pods -o go-template --template '{{range .items}}{{.metadata.name}}{{\"\\n\"}}{{end}}' | grep $studentId | head -n 1) \n",
    "port=$(expr $(echo ${studentId} | tr -cd '[[:digit:]]') + 8000)\n",
    "\n",
    "kubectl get deployments \n"
   ]
  },
  {
   "cell_type": "markdown",
   "metadata": {},
   "source": [
    "To list the running Pods use the `get pods` command:"
   ]
  },
  {
   "cell_type": "code",
   "execution_count": 2,
   "metadata": {},
   "outputs": [
    {
     "name": "stdout",
     "output_type": "stream",
     "text": [
      "NAME                                               READY   STATUS    RESTARTS   AGE\n",
      "kubernetes-bootcamp-student1086-859899d75d-5kgk4   1/1     Running   0          8m29s\n",
      "kubernetes-bootcamp-student1086-859899d75d-j8kjh   1/1     Running   0          8m29s\n",
      "kubernetes-bootcamp-student1086-859899d75d-wg7mz   1/1     Running   0          35m\n",
      "kubernetes-bootcamp-student1086-859899d75d-z2bth   1/1     Running   0          8m29s\n"
     ]
    }
   ],
   "source": [
    "kubectl get pods -l app=kubernetes-bootcamp-$studentId"
   ]
  },
  {
   "cell_type": "markdown",
   "metadata": {},
   "source": [
    "To view the current image version of the app, run a `describe` command against the Pods (look at the Image field):"
   ]
  },
  {
   "cell_type": "code",
   "execution_count": 3,
   "metadata": {},
   "outputs": [
    {
     "name": "stdout",
     "output_type": "stream",
     "text": [
      "Name:                   kubernetes-bootcamp-student1086\n",
      "Namespace:              k8shacktenant\n",
      "CreationTimestamp:      Wed, 28 Apr 2021 15:23:47 +0000\n",
      "Labels:                 app=kubernetes-bootcamp-student1086\n",
      "Annotations:            deployment.kubernetes.io/revision: 1\n",
      "Selector:               app=kubernetes-bootcamp-student1086\n",
      "Replicas:               4 desired | 4 updated | 4 total | 4 available | 0 unavailable\n",
      "StrategyType:           RollingUpdate\n",
      "MinReadySeconds:        0\n",
      "RollingUpdateStrategy:  25% max unavailable, 25% max surge\n",
      "Pod Template:\n",
      "  Labels:  app=kubernetes-bootcamp-student1086\n",
      "  Containers:\n",
      "   kubernetes-bootcamp:\n",
      "    Image:        gcr.io/google-samples/kubernetes-bootcamp:v1\n",
      "    Port:         <none>\n",
      "    Host Port:    <none>\n",
      "    Environment:  <none>\n",
      "    Mounts:       <none>\n",
      "  Volumes:        <none>\n",
      "Conditions:\n",
      "  Type           Status  Reason\n",
      "  ----           ------  ------\n",
      "  Progressing    True    NewReplicaSetAvailable\n",
      "  Available      True    MinimumReplicasAvailable\n",
      "OldReplicaSets:  <none>\n",
      "NewReplicaSet:   kubernetes-bootcamp-student1086-859899d75d (4/4 replicas created)\n",
      "Events:\n",
      "  Type    Reason             Age    From                   Message\n",
      "  ----    ------             ----   ----                   -------\n",
      "  Normal  ScalingReplicaSet  32m    deployment-controller  Scaled up replica set kubernetes-bootcamp-student1086-859899d75d to 1\n",
      "  Normal  ScalingReplicaSet  5m31s  deployment-controller  Scaled up replica set kubernetes-bootcamp-student1086-859899d75d to 4\n"
     ]
    }
   ],
   "source": [
    "kubectl describe deployments/kubernetes-bootcamp-$studentId"
   ]
  },
  {
   "cell_type": "markdown",
   "metadata": {},
   "source": [
    "To update the image of the application to version 2, use the `set image` command, followed by the deployment name and the new image version:"
   ]
  },
  {
   "cell_type": "code",
   "execution_count": 4,
   "metadata": {},
   "outputs": [
    {
     "name": "stdout",
     "output_type": "stream",
     "text": [
      "deployment.apps/kubernetes-bootcamp-student1086 image updated\n"
     ]
    }
   ],
   "source": [
    "kubectl set image deployments/kubernetes-bootcamp-$studentId kubernetes-bootcamp=jocatalin/kubernetes-bootcamp:v2"
   ]
  },
  {
   "cell_type": "markdown",
   "metadata": {},
   "source": [
    "The command notified the Deployment to use a different image for your app and initiated a rolling update. Check the status of the new Pods, and view the old one terminating with the `get pods` command:\n",
    "\n",
    "> To execute a multiple times, use CTRL-Enter while positioned on that cell."
   ]
  },
  {
   "cell_type": "code",
   "execution_count": 5,
   "metadata": {},
   "outputs": [
    {
     "name": "stdout",
     "output_type": "stream",
     "text": [
      "NAME                                               READY   STATUS              RESTARTS   AGE\n",
      "kubernetes-bootcamp-student1086-6cddcb6f9b-4zrfk   0/1     ContainerCreating   0          6s\n",
      "kubernetes-bootcamp-student1086-6cddcb6f9b-8hcxz   1/1     Running             0          6s\n",
      "kubernetes-bootcamp-student1086-6cddcb6f9b-msnht   0/1     ContainerCreating   0          0s\n",
      "kubernetes-bootcamp-student1086-859899d75d-5kgk4   1/1     Terminating         0          8m39s\n",
      "kubernetes-bootcamp-student1086-859899d75d-j8kjh   1/1     Running             0          8m39s\n",
      "kubernetes-bootcamp-student1086-859899d75d-wg7mz   1/1     Running             0          35m\n",
      "kubernetes-bootcamp-student1086-859899d75d-z2bth   1/1     Terminating         0          8m39s\n"
     ]
    }
   ],
   "source": [
    "kubectl get pods -l app=kubernetes-bootcamp-$studentId"
   ]
  },
  {
   "cell_type": "markdown",
   "metadata": {},
   "source": [
    "#### Step 2 of 3: Verify an update\n",
    "\n",
    "First, let’s check that the App is running. To find out the exposed IP and Port we can use `describe service`:"
   ]
  },
  {
   "cell_type": "code",
   "execution_count": 6,
   "metadata": {},
   "outputs": [
    {
     "name": "stdout",
     "output_type": "stream",
     "text": [
      "Name:                   kubernetes-bootcamp-student1086\n",
      "Namespace:              k8shacktenant\n",
      "CreationTimestamp:      Wed, 28 Apr 2021 15:23:47 +0000\n",
      "Labels:                 app=kubernetes-bootcamp-student1086\n",
      "Annotations:            deployment.kubernetes.io/revision: 2\n",
      "Selector:               app=kubernetes-bootcamp-student1086\n",
      "Replicas:               4 desired | 3 updated | 5 total | 3 available | 2 unavailable\n",
      "StrategyType:           RollingUpdate\n",
      "MinReadySeconds:        0\n",
      "RollingUpdateStrategy:  25% max unavailable, 25% max surge\n",
      "Pod Template:\n",
      "  Labels:  app=kubernetes-bootcamp-student1086\n",
      "  Containers:\n",
      "   kubernetes-bootcamp:\n",
      "    Image:        jocatalin/kubernetes-bootcamp:v2\n",
      "    Port:         <none>\n",
      "    Host Port:    <none>\n",
      "    Environment:  <none>\n",
      "    Mounts:       <none>\n",
      "  Volumes:        <none>\n",
      "Conditions:\n",
      "  Type           Status  Reason\n",
      "  ----           ------  ------\n",
      "  Available      True    MinimumReplicasAvailable\n",
      "  Progressing    True    ReplicaSetUpdated\n",
      "OldReplicaSets:  kubernetes-bootcamp-student1086-859899d75d (2/2 replicas created)\n",
      "NewReplicaSet:   kubernetes-bootcamp-student1086-6cddcb6f9b (3/3 replicas created)\n",
      "Events:\n",
      "  Type    Reason             Age        From                   Message\n",
      "  ----    ------             ----       ----                   -------\n",
      "  Normal  ScalingReplicaSet  32m        deployment-controller  Scaled up replica set kubernetes-bootcamp-student1086-859899d75d to 1\n",
      "  Normal  ScalingReplicaSet  5m40s      deployment-controller  Scaled up replica set kubernetes-bootcamp-student1086-859899d75d to 4\n",
      "  Normal  ScalingReplicaSet  <invalid>  deployment-controller  Scaled up replica set kubernetes-bootcamp-student1086-6cddcb6f9b to 1\n",
      "  Normal  ScalingReplicaSet  <invalid>  deployment-controller  Scaled down replica set kubernetes-bootcamp-student1086-859899d75d to 3\n",
      "  Normal  ScalingReplicaSet  <invalid>  deployment-controller  Scaled up replica set kubernetes-bootcamp-student1086-6cddcb6f9b to 2\n",
      "  Normal  ScalingReplicaSet  <invalid>  deployment-controller  Scaled down replica set kubernetes-bootcamp-student1086-859899d75d to 2\n",
      "  Normal  ScalingReplicaSet  <invalid>  deployment-controller  Scaled up replica set kubernetes-bootcamp-student1086-6cddcb6f9b to 3\n"
     ]
    }
   ],
   "source": [
    "kubectl describe deployments/kubernetes-bootcamp-$studentId"
   ]
  },
  {
   "cell_type": "markdown",
   "metadata": {},
   "source": [
    "Create an environment variable called NODE_PORT that has the value of the Node port assigned.\n",
    "And another one that compute NODE_NAME from a  `kubectl describe pods ` command. \n",
    "\n",
    "> Before we do so, let's recreate the service we deleted at the end of previous module."
   ]
  },
  {
   "cell_type": "code",
   "execution_count": 7,
   "metadata": {},
   "outputs": [
    {
     "name": "stdout",
     "output_type": "stream",
     "text": [
      "service/kubernetes-bootcamp-student1086 exposed\n"
     ]
    }
   ],
   "source": [
    "kubectl expose deployment/kubernetes-bootcamp-$studentId --type=\"NodePort\" --port 8080"
   ]
  },
  {
   "cell_type": "code",
   "execution_count": 8,
   "metadata": {},
   "outputs": [
    {
     "name": "stdout",
     "output_type": "stream",
     "text": [
      "NODE_PORT=30615\n",
      "NODE_NAME=worker27.etc.fr.comm.hpecorp.net\n"
     ]
    }
   ],
   "source": [
    "NODE_PORT=$(kubectl get services/kubernetes-bootcamp-$studentId -o go-template='{{(index .spec.ports 0).nodePort}}')\n",
    "echo NODE_PORT=$NODE_PORT\n",
    "NODE_NAME=$(kubectl describe pods $POD_NAME | grep Node: | head -n 1)\n",
    "NODE_NAME=${NODE_NAME#Node:} \n",
    "NODE_NAME=${NODE_NAME%/*} \n",
    "NODE_NAME=$(echo $NODE_NAME | xargs)\n",
    "echo NODE_NAME=$NODE_NAME\n"
   ]
  },
  {
   "cell_type": "markdown",
   "metadata": {},
   "source": [
    "Next, we’ll do a `curl` to the the exposed IP and port:"
   ]
  },
  {
   "cell_type": "code",
   "execution_count": 9,
   "metadata": {},
   "outputs": [
    {
     "name": "stdout",
     "output_type": "stream",
     "text": [
      "Hello Kubernetes bootcamp! | Running on: kubernetes-bootcamp-student1086-6cddcb6f9b-nrlhc | v=2\n"
     ]
    }
   ],
   "source": [
    "curl http://$NODE_NAME:$NODE_PORT"
   ]
  },
  {
   "cell_type": "markdown",
   "metadata": {},
   "source": [
    "We hit a different Pod with every request and we see that all Pods are running the latest version (v2).\n",
    "\n",
    "The update can be confirmed also by running a rollout status command:"
   ]
  },
  {
   "cell_type": "code",
   "execution_count": 10,
   "metadata": {},
   "outputs": [
    {
     "name": "stdout",
     "output_type": "stream",
     "text": [
      "deployment \"kubernetes-bootcamp-student1086\" successfully rolled out\n"
     ]
    }
   ],
   "source": [
    "kubectl rollout status deployments/kubernetes-bootcamp-$studentId"
   ]
  },
  {
   "cell_type": "markdown",
   "metadata": {},
   "source": [
    "To view the current image version of the app, run a describe command against the Pods:"
   ]
  },
  {
   "cell_type": "code",
   "execution_count": 11,
   "metadata": {},
   "outputs": [
    {
     "name": "stdout",
     "output_type": "stream",
     "text": [
      "Name:         kubernetes-bootcamp-student1086-6cddcb6f9b-4zrfk\n",
      "Namespace:    k8shacktenant\n",
      "Priority:     0\n",
      "Node:         worker28.etc.fr.comm.hpecorp.net/16.31.84.70\n",
      "Start Time:   Wed, 28 Apr 2021 15:56:20 +0000\n",
      "Labels:       app=kubernetes-bootcamp-student1086\n",
      "              pod-template-hash=6cddcb6f9b\n",
      "Annotations:  cni.projectcalico.org/podIP: 10.192.1.119/32\n",
      "              cni.projectcalico.org/podIPs: 10.192.1.119/32\n",
      "              kubernetes.io/psp: hcp-psp-privileged\n",
      "Status:       Running\n",
      "IP:           10.192.1.119\n",
      "IPs:\n",
      "  IP:           10.192.1.119\n",
      "Controlled By:  ReplicaSet/kubernetes-bootcamp-student1086-6cddcb6f9b\n",
      "Containers:\n",
      "  kubernetes-bootcamp:\n",
      "    Container ID:   docker://f86ba2eb52e41596b6939d72520c3d43d49cb447c1083f64920fa2464ed9af1b\n",
      "    Image:          jocatalin/kubernetes-bootcamp:v2\n",
      "    Image ID:       docker-pullable://jocatalin/kubernetes-bootcamp@sha256:fb1a3ced00cecfc1f83f18ab5cd14199e30adc1b49aa4244f5d65ad3f5feb2a5\n",
      "    Port:           <none>\n",
      "    Host Port:      <none>\n",
      "    State:          Running\n",
      "      Started:      Wed, 28 Apr 2021 15:56:28 +0000\n",
      "    Ready:          True\n",
      "    Restart Count:  0\n",
      "    Environment:    <none>\n",
      "    Mounts:\n",
      "      /var/run/secrets/kubernetes.io/serviceaccount from default-token-zx4gf (ro)\n",
      "Conditions:\n",
      "  Type              Status\n",
      "  Initialized       True \n",
      "  Ready             True \n",
      "  ContainersReady   True \n",
      "  PodScheduled      True \n",
      "Volumes:\n",
      "  default-token-zx4gf:\n",
      "    Type:        Secret (a volume populated by a Secret)\n",
      "    SecretName:  default-token-zx4gf\n",
      "    Optional:    false\n",
      "QoS Class:       BestEffort\n",
      "Node-Selectors:  <none>\n",
      "Tolerations:     node.kubernetes.io/not-ready:NoExecute op=Exists for 300s\n",
      "                 node.kubernetes.io/unreachable:NoExecute op=Exists for 300s\n",
      "Events:\n",
      "  Type    Reason     Age        From               Message\n",
      "  ----    ------     ----       ----               -------\n",
      "  Normal  Pulling    86s        kubelet            Pulling image \"jocatalin/kubernetes-bootcamp:v2\"\n",
      "  Normal  Pulled     79s        kubelet            Successfully pulled image \"jocatalin/kubernetes-bootcamp:v2\"\n",
      "  Normal  Created    79s        kubelet            Created container kubernetes-bootcamp\n",
      "  Normal  Started    79s        kubelet            Started container kubernetes-bootcamp\n",
      "  Normal  Scheduled  <invalid>  default-scheduler  Successfully assigned k8shacktenant/kubernetes-bootcamp-student1086-6cddcb6f9b-4zrfk to worker28.etc.fr.comm.hpecorp.net\n",
      "\n",
      "\n",
      "Name:         kubernetes-bootcamp-student1086-6cddcb6f9b-8hcxz\n",
      "Namespace:    k8shacktenant\n",
      "Priority:     0\n",
      "Node:         worker27.etc.fr.comm.hpecorp.net/16.31.84.69\n",
      "Start Time:   Wed, 28 Apr 2021 15:57:47 +0000\n",
      "Labels:       app=kubernetes-bootcamp-student1086\n",
      "              pod-template-hash=6cddcb6f9b\n",
      "Annotations:  cni.projectcalico.org/podIP: 10.192.1.226/32\n",
      "              cni.projectcalico.org/podIPs: 10.192.1.226/32\n",
      "              kubernetes.io/psp: hcp-psp-privileged\n",
      "Status:       Running\n",
      "IP:           10.192.1.226\n",
      "IPs:\n",
      "  IP:           10.192.1.226\n",
      "Controlled By:  ReplicaSet/kubernetes-bootcamp-student1086-6cddcb6f9b\n",
      "Containers:\n",
      "  kubernetes-bootcamp:\n",
      "    Container ID:   docker://ebde5b07dc4c5742f930b4e4665c17a891c4da27eb14a5d12bb4ab9495f90723\n",
      "    Image:          jocatalin/kubernetes-bootcamp:v2\n",
      "    Image ID:       docker-pullable://jocatalin/kubernetes-bootcamp@sha256:fb1a3ced00cecfc1f83f18ab5cd14199e30adc1b49aa4244f5d65ad3f5feb2a5\n",
      "    Port:           <none>\n",
      "    Host Port:      <none>\n",
      "    State:          Running\n",
      "      Started:      Wed, 28 Apr 2021 15:57:51 +0000\n",
      "    Ready:          True\n",
      "    Restart Count:  0\n",
      "    Environment:    <none>\n",
      "    Mounts:\n",
      "      /var/run/secrets/kubernetes.io/serviceaccount from default-token-zx4gf (ro)\n",
      "Conditions:\n",
      "  Type              Status\n",
      "  Initialized       True \n",
      "  Ready             True \n",
      "  ContainersReady   True \n",
      "  PodScheduled      True \n",
      "Volumes:\n",
      "  default-token-zx4gf:\n",
      "    Type:        Secret (a volume populated by a Secret)\n",
      "    SecretName:  default-token-zx4gf\n",
      "    Optional:    false\n",
      "QoS Class:       BestEffort\n",
      "Node-Selectors:  <none>\n",
      "Tolerations:     node.kubernetes.io/not-ready:NoExecute op=Exists for 300s\n",
      "                 node.kubernetes.io/unreachable:NoExecute op=Exists for 300s\n",
      "Events:\n",
      "  Type    Reason     Age        From               Message\n",
      "  ----    ------     ----       ----               -------\n",
      "  Normal  Pulling    0s         kubelet            Pulling image \"jocatalin/kubernetes-bootcamp:v2\"\n",
      "  Normal  Pulled     <invalid>  kubelet            Successfully pulled image \"jocatalin/kubernetes-bootcamp:v2\"\n",
      "  Normal  Created    <invalid>  kubelet            Created container kubernetes-bootcamp\n",
      "  Normal  Started    <invalid>  kubelet            Started container kubernetes-bootcamp\n",
      "  Normal  Scheduled  <invalid>  default-scheduler  Successfully assigned k8shacktenant/kubernetes-bootcamp-student1086-6cddcb6f9b-8hcxz to worker27.etc.fr.comm.hpecorp.net\n",
      "\n",
      "\n",
      "Name:         kubernetes-bootcamp-student1086-6cddcb6f9b-msnht\n",
      "Namespace:    k8shacktenant\n",
      "Priority:     0\n",
      "Node:         worker27.etc.fr.comm.hpecorp.net/16.31.84.69\n",
      "Start Time:   Wed, 28 Apr 2021 15:57:52 +0000\n",
      "Labels:       app=kubernetes-bootcamp-student1086\n",
      "              pod-template-hash=6cddcb6f9b\n",
      "Annotations:  cni.projectcalico.org/podIP: 10.192.1.227/32\n",
      "              cni.projectcalico.org/podIPs: 10.192.1.227/32\n",
      "              kubernetes.io/psp: hcp-psp-privileged\n",
      "Status:       Running\n",
      "IP:           10.192.1.227\n",
      "IPs:\n",
      "  IP:           10.192.1.227\n",
      "Controlled By:  ReplicaSet/kubernetes-bootcamp-student1086-6cddcb6f9b\n",
      "Containers:\n",
      "  kubernetes-bootcamp:\n",
      "    Container ID:   docker://02cd107de712551b123f6e22c3d1f200cc321a9de9d17e2c2c20ec69e46ab3b4\n",
      "    Image:          jocatalin/kubernetes-bootcamp:v2\n",
      "    Image ID:       docker-pullable://jocatalin/kubernetes-bootcamp@sha256:fb1a3ced00cecfc1f83f18ab5cd14199e30adc1b49aa4244f5d65ad3f5feb2a5\n",
      "    Port:           <none>\n",
      "    Host Port:      <none>\n",
      "    State:          Running\n",
      "      Started:      Wed, 28 Apr 2021 15:57:55 +0000\n",
      "    Ready:          True\n",
      "    Restart Count:  0\n",
      "    Environment:    <none>\n",
      "    Mounts:\n",
      "      /var/run/secrets/kubernetes.io/serviceaccount from default-token-zx4gf (ro)\n",
      "Conditions:\n",
      "  Type              Status\n",
      "  Initialized       True \n",
      "  Ready             True \n",
      "  ContainersReady   True \n",
      "  PodScheduled      True \n",
      "Volumes:\n",
      "  default-token-zx4gf:\n",
      "    Type:        Secret (a volume populated by a Secret)\n",
      "    SecretName:  default-token-zx4gf\n",
      "    Optional:    false\n",
      "QoS Class:       BestEffort\n",
      "Node-Selectors:  <none>\n",
      "Tolerations:     node.kubernetes.io/not-ready:NoExecute op=Exists for 300s\n",
      "                 node.kubernetes.io/unreachable:NoExecute op=Exists for 300s\n",
      "Events:\n",
      "  Type    Reason     Age        From               Message\n",
      "  ----    ------     ----       ----               -------\n",
      "  Normal  Pulling    <invalid>  kubelet            Pulling image \"jocatalin/kubernetes-bootcamp:v2\"\n",
      "  Normal  Pulled     <invalid>  kubelet            Successfully pulled image \"jocatalin/kubernetes-bootcamp:v2\"\n",
      "  Normal  Created    <invalid>  kubelet            Created container kubernetes-bootcamp\n",
      "  Normal  Started    <invalid>  kubelet            Started container kubernetes-bootcamp\n",
      "  Normal  Scheduled  <invalid>  default-scheduler  Successfully assigned k8shacktenant/kubernetes-bootcamp-student1086-6cddcb6f9b-msnht to worker27.etc.fr.comm.hpecorp.net\n",
      "\n",
      "\n",
      "Name:         kubernetes-bootcamp-student1086-6cddcb6f9b-nrlhc\n",
      "Namespace:    k8shacktenant\n",
      "Priority:     0\n",
      "Node:         worker28.etc.fr.comm.hpecorp.net/16.31.84.70\n",
      "Start Time:   Wed, 28 Apr 2021 15:56:29 +0000\n",
      "Labels:       app=kubernetes-bootcamp-student1086\n",
      "              pod-template-hash=6cddcb6f9b\n",
      "Annotations:  cni.projectcalico.org/podIP: 10.192.1.120/32\n",
      "              cni.projectcalico.org/podIPs: 10.192.1.120/32\n",
      "              kubernetes.io/psp: hcp-psp-privileged\n",
      "Status:       Running\n",
      "IP:           10.192.1.120\n",
      "IPs:\n",
      "  IP:           10.192.1.120\n",
      "Controlled By:  ReplicaSet/kubernetes-bootcamp-student1086-6cddcb6f9b\n",
      "Containers:\n",
      "  kubernetes-bootcamp:\n",
      "    Container ID:   docker://34dc9a93853e9e95ad4f432b92c1e39b08894c54b172536d8055845440b0f166\n",
      "    Image:          jocatalin/kubernetes-bootcamp:v2\n",
      "    Image ID:       docker-pullable://jocatalin/kubernetes-bootcamp@sha256:fb1a3ced00cecfc1f83f18ab5cd14199e30adc1b49aa4244f5d65ad3f5feb2a5\n",
      "    Port:           <none>\n",
      "    Host Port:      <none>\n",
      "    State:          Running\n",
      "      Started:      Wed, 28 Apr 2021 15:56:31 +0000\n",
      "    Ready:          True\n",
      "    Restart Count:  0\n",
      "    Environment:    <none>\n",
      "    Mounts:\n",
      "      /var/run/secrets/kubernetes.io/serviceaccount from default-token-zx4gf (ro)\n",
      "Conditions:\n",
      "  Type              Status\n",
      "  Initialized       True \n",
      "  Ready             True \n",
      "  ContainersReady   True \n",
      "  PodScheduled      True \n",
      "Volumes:\n",
      "  default-token-zx4gf:\n",
      "    Type:        Secret (a volume populated by a Secret)\n",
      "    SecretName:  default-token-zx4gf\n",
      "    Optional:    false\n",
      "QoS Class:       BestEffort\n",
      "Node-Selectors:  <none>\n",
      "Tolerations:     node.kubernetes.io/not-ready:NoExecute op=Exists for 300s\n",
      "                 node.kubernetes.io/unreachable:NoExecute op=Exists for 300s\n",
      "Events:\n",
      "  Type    Reason     Age        From               Message\n",
      "  ----    ------     ----       ----               -------\n",
      "  Normal  Pulling    77s        kubelet            Pulling image \"jocatalin/kubernetes-bootcamp:v2\"\n",
      "  Normal  Pulled     76s        kubelet            Successfully pulled image \"jocatalin/kubernetes-bootcamp:v2\"\n",
      "  Normal  Created    76s        kubelet            Created container kubernetes-bootcamp\n",
      "  Normal  Started    76s        kubelet            Started container kubernetes-bootcamp\n",
      "  Normal  Scheduled  <invalid>  default-scheduler  Successfully assigned k8shacktenant/kubernetes-bootcamp-student1086-6cddcb6f9b-nrlhc to worker28.etc.fr.comm.hpecorp.net\n"
     ]
    }
   ],
   "source": [
    "kubectl describe pods -l app=kubernetes-bootcamp-$studentId"
   ]
  },
  {
   "cell_type": "markdown",
   "metadata": {},
   "source": [
    "We run now version 2 of the app (look at the Image field)\n",
    "\n",
    "#### Step 3 of 3: Rollback an update\n",
    "\n",
    "Let’s perform another update, and deploy image tagged as `v10` :"
   ]
  },
  {
   "cell_type": "code",
   "execution_count": 13,
   "metadata": {},
   "outputs": [],
   "source": [
    "kubectl set image deployments/kubernetes-bootcamp-$studentId kubernetes-bootcamp=gcr.io/google-samples/kubernetes-bootcamp:v10"
   ]
  },
  {
   "cell_type": "markdown",
   "metadata": {},
   "source": [
    "Use `get deployments` to see the status of the deployment:"
   ]
  },
  {
   "cell_type": "code",
   "execution_count": 14,
   "metadata": {},
   "outputs": [
    {
     "name": "stdout",
     "output_type": "stream",
     "text": [
      "NAME                              READY   UP-TO-DATE   AVAILABLE   AGE\n",
      "kubernetes-bootcamp-student1051   3/4     2            3           38m\n",
      "kubernetes-bootcamp-student1052   1/1     1            1           27m\n",
      "kubernetes-bootcamp-student1054   4/4     4            4           37m\n",
      "kubernetes-bootcamp-student1056   1/1     1            1           25m\n",
      "kubernetes-bootcamp-student1058   3/4     2            3           38m\n",
      "kubernetes-bootcamp-student1059   1/1     1            1           36m\n",
      "kubernetes-bootcamp-student1063   4/4     4            4           37m\n",
      "kubernetes-bootcamp-student1065   1/1     1            1           26m\n",
      "kubernetes-bootcamp-student1066   4/4     4            4           36m\n",
      "kubernetes-bootcamp-student1070   4/4     4            4           38m\n",
      "kubernetes-bootcamp-student1073   4/4     4            4           36m\n",
      "kubernetes-bootcamp-student1074   1/1     1            1           27m\n",
      "kubernetes-bootcamp-student1075   4/4     4            4           37m\n",
      "kubernetes-bootcamp-student1078   1/1     1            1           40m\n",
      "kubernetes-bootcamp-student1086   3/4     2            3           37m\n",
      "kubernetes-bootcamp-student1089   1/1     1            1           37m\n",
      "kubernetes-bootcamp-student1090   4/4     4            4           33m\n",
      "kubernetes-bootcamp-student1092   1/1     1            1           33m\n",
      "kubernetes-bootcamp-student1093   4/4     4            4           38m\n",
      "kubernetes-bootcamp-student1094   4/4     4            4           24m\n",
      "kubernetes-bootcamp-student1095   4/4     4            4           38m\n",
      "kubernetes-bootcamp-student1096   1/1     1            1           17m\n",
      "kubernetes-bootcamp-student1104   1/1     1            1           36m\n",
      "kubernetes-bootcamp-student1105   1/1     1            1           31m\n",
      "kubernetes-bootcamp-student1112   1/1     1            1           36m\n",
      "kubernetes-bootcamp-student1113   1/1     1            1           34m\n"
     ]
    }
   ],
   "source": [
    "kubectl get deployment"
   ]
  },
  {
   "cell_type": "markdown",
   "metadata": {},
   "source": [
    "And something is wrong… We do not have the desired number of Pods available. List the Pods again:"
   ]
  },
  {
   "cell_type": "code",
   "execution_count": 15,
   "metadata": {},
   "outputs": [
    {
     "name": "stdout",
     "output_type": "stream",
     "text": [
      "NAME                                               READY   STATUS             RESTARTS   AGE\n",
      "kubernetes-bootcamp-student1086-6cddcb6f9b-4zrfk   1/1     Running            0          2m21s\n",
      "kubernetes-bootcamp-student1086-6cddcb6f9b-8hcxz   1/1     Running            0          2m21s\n",
      "kubernetes-bootcamp-student1086-6cddcb6f9b-nrlhc   1/1     Running            0          2m12s\n",
      "kubernetes-bootcamp-student1086-78d8b87cb6-bpgws   0/1     ImagePullBackOff   0          53s\n",
      "kubernetes-bootcamp-student1086-78d8b87cb6-grkmb   0/1     ErrImagePull       0          53s\n"
     ]
    }
   ],
   "source": [
    "kubectl get pods -l app=kubernetes-bootcamp-$studentId"
   ]
  },
  {
   "cell_type": "markdown",
   "metadata": {},
   "source": [
    "A `describe` command on the Pods should give more insights:"
   ]
  },
  {
   "cell_type": "code",
   "execution_count": 16,
   "metadata": {},
   "outputs": [
    {
     "name": "stdout",
     "output_type": "stream",
     "text": [
      "Name:         kubernetes-bootcamp-student1086-6cddcb6f9b-4zrfk\n",
      "Namespace:    k8shacktenant\n",
      "Priority:     0\n",
      "Node:         worker28.etc.fr.comm.hpecorp.net/16.31.84.70\n",
      "Start Time:   Wed, 28 Apr 2021 15:56:20 +0000\n",
      "Labels:       app=kubernetes-bootcamp-student1086\n",
      "              pod-template-hash=6cddcb6f9b\n",
      "Annotations:  cni.projectcalico.org/podIP: 10.192.1.119/32\n",
      "              cni.projectcalico.org/podIPs: 10.192.1.119/32\n",
      "              kubernetes.io/psp: hcp-psp-privileged\n",
      "Status:       Running\n",
      "IP:           10.192.1.119\n",
      "IPs:\n",
      "  IP:           10.192.1.119\n",
      "Controlled By:  ReplicaSet/kubernetes-bootcamp-student1086-6cddcb6f9b\n",
      "Containers:\n",
      "  kubernetes-bootcamp:\n",
      "    Container ID:   docker://f86ba2eb52e41596b6939d72520c3d43d49cb447c1083f64920fa2464ed9af1b\n",
      "    Image:          jocatalin/kubernetes-bootcamp:v2\n",
      "    Image ID:       docker-pullable://jocatalin/kubernetes-bootcamp@sha256:fb1a3ced00cecfc1f83f18ab5cd14199e30adc1b49aa4244f5d65ad3f5feb2a5\n",
      "    Port:           <none>\n",
      "    Host Port:      <none>\n",
      "    State:          Running\n",
      "      Started:      Wed, 28 Apr 2021 15:56:28 +0000\n",
      "    Ready:          True\n",
      "    Restart Count:  0\n",
      "    Environment:    <none>\n",
      "    Mounts:\n",
      "      /var/run/secrets/kubernetes.io/serviceaccount from default-token-zx4gf (ro)\n",
      "Conditions:\n",
      "  Type              Status\n",
      "  Initialized       True \n",
      "  Ready             True \n",
      "  ContainersReady   True \n",
      "  PodScheduled      True \n",
      "Volumes:\n",
      "  default-token-zx4gf:\n",
      "    Type:        Secret (a volume populated by a Secret)\n",
      "    SecretName:  default-token-zx4gf\n",
      "    Optional:    false\n",
      "QoS Class:       BestEffort\n",
      "Node-Selectors:  <none>\n",
      "Tolerations:     node.kubernetes.io/not-ready:NoExecute op=Exists for 300s\n",
      "                 node.kubernetes.io/unreachable:NoExecute op=Exists for 300s\n",
      "Events:\n",
      "  Type    Reason     Age        From               Message\n",
      "  ----    ------     ----       ----               -------\n",
      "  Normal  Pulling    2m22s      kubelet            Pulling image \"jocatalin/kubernetes-bootcamp:v2\"\n",
      "  Normal  Pulled     2m15s      kubelet            Successfully pulled image \"jocatalin/kubernetes-bootcamp:v2\"\n",
      "  Normal  Created    2m15s      kubelet            Created container kubernetes-bootcamp\n",
      "  Normal  Started    2m15s      kubelet            Started container kubernetes-bootcamp\n",
      "  Normal  Scheduled  <invalid>  default-scheduler  Successfully assigned k8shacktenant/kubernetes-bootcamp-student1086-6cddcb6f9b-4zrfk to worker28.etc.fr.comm.hpecorp.net\n",
      "\n",
      "\n",
      "Name:         kubernetes-bootcamp-student1086-6cddcb6f9b-8hcxz\n",
      "Namespace:    k8shacktenant\n",
      "Priority:     0\n",
      "Node:         worker27.etc.fr.comm.hpecorp.net/16.31.84.69\n",
      "Start Time:   Wed, 28 Apr 2021 15:57:47 +0000\n",
      "Labels:       app=kubernetes-bootcamp-student1086\n",
      "              pod-template-hash=6cddcb6f9b\n",
      "Annotations:  cni.projectcalico.org/podIP: 10.192.1.226/32\n",
      "              cni.projectcalico.org/podIPs: 10.192.1.226/32\n",
      "              kubernetes.io/psp: hcp-psp-privileged\n",
      "Status:       Running\n",
      "IP:           10.192.1.226\n",
      "IPs:\n",
      "  IP:           10.192.1.226\n",
      "Controlled By:  ReplicaSet/kubernetes-bootcamp-student1086-6cddcb6f9b\n",
      "Containers:\n",
      "  kubernetes-bootcamp:\n",
      "    Container ID:   docker://ebde5b07dc4c5742f930b4e4665c17a891c4da27eb14a5d12bb4ab9495f90723\n",
      "    Image:          jocatalin/kubernetes-bootcamp:v2\n",
      "    Image ID:       docker-pullable://jocatalin/kubernetes-bootcamp@sha256:fb1a3ced00cecfc1f83f18ab5cd14199e30adc1b49aa4244f5d65ad3f5feb2a5\n",
      "    Port:           <none>\n",
      "    Host Port:      <none>\n",
      "    State:          Running\n",
      "      Started:      Wed, 28 Apr 2021 15:57:51 +0000\n",
      "    Ready:          True\n",
      "    Restart Count:  0\n",
      "    Environment:    <none>\n",
      "    Mounts:\n",
      "      /var/run/secrets/kubernetes.io/serviceaccount from default-token-zx4gf (ro)\n",
      "Conditions:\n",
      "  Type              Status\n",
      "  Initialized       True \n",
      "  Ready             True \n",
      "  ContainersReady   True \n",
      "  PodScheduled      True \n",
      "Volumes:\n",
      "  default-token-zx4gf:\n",
      "    Type:        Secret (a volume populated by a Secret)\n",
      "    SecretName:  default-token-zx4gf\n",
      "    Optional:    false\n",
      "QoS Class:       BestEffort\n",
      "Node-Selectors:  <none>\n",
      "Tolerations:     node.kubernetes.io/not-ready:NoExecute op=Exists for 300s\n",
      "                 node.kubernetes.io/unreachable:NoExecute op=Exists for 300s\n",
      "Events:\n",
      "  Type    Reason     Age        From               Message\n",
      "  ----    ------     ----       ----               -------\n",
      "  Normal  Pulling    55s        kubelet            Pulling image \"jocatalin/kubernetes-bootcamp:v2\"\n",
      "  Normal  Pulled     52s        kubelet            Successfully pulled image \"jocatalin/kubernetes-bootcamp:v2\"\n",
      "  Normal  Created    52s        kubelet            Created container kubernetes-bootcamp\n",
      "  Normal  Started    52s        kubelet            Started container kubernetes-bootcamp\n",
      "  Normal  Scheduled  <invalid>  default-scheduler  Successfully assigned k8shacktenant/kubernetes-bootcamp-student1086-6cddcb6f9b-8hcxz to worker27.etc.fr.comm.hpecorp.net\n",
      "\n",
      "\n",
      "Name:         kubernetes-bootcamp-student1086-6cddcb6f9b-nrlhc\n",
      "Namespace:    k8shacktenant\n",
      "Priority:     0\n",
      "Node:         worker28.etc.fr.comm.hpecorp.net/16.31.84.70\n",
      "Start Time:   Wed, 28 Apr 2021 15:56:29 +0000\n",
      "Labels:       app=kubernetes-bootcamp-student1086\n",
      "              pod-template-hash=6cddcb6f9b\n",
      "Annotations:  cni.projectcalico.org/podIP: 10.192.1.120/32\n",
      "              cni.projectcalico.org/podIPs: 10.192.1.120/32\n",
      "              kubernetes.io/psp: hcp-psp-privileged\n",
      "Status:       Running\n",
      "IP:           10.192.1.120\n",
      "IPs:\n",
      "  IP:           10.192.1.120\n",
      "Controlled By:  ReplicaSet/kubernetes-bootcamp-student1086-6cddcb6f9b\n",
      "Containers:\n",
      "  kubernetes-bootcamp:\n",
      "    Container ID:   docker://34dc9a93853e9e95ad4f432b92c1e39b08894c54b172536d8055845440b0f166\n",
      "    Image:          jocatalin/kubernetes-bootcamp:v2\n",
      "    Image ID:       docker-pullable://jocatalin/kubernetes-bootcamp@sha256:fb1a3ced00cecfc1f83f18ab5cd14199e30adc1b49aa4244f5d65ad3f5feb2a5\n",
      "    Port:           <none>\n",
      "    Host Port:      <none>\n",
      "    State:          Running\n",
      "      Started:      Wed, 28 Apr 2021 15:56:31 +0000\n",
      "    Ready:          True\n",
      "    Restart Count:  0\n",
      "    Environment:    <none>\n",
      "    Mounts:\n",
      "      /var/run/secrets/kubernetes.io/serviceaccount from default-token-zx4gf (ro)\n",
      "Conditions:\n",
      "  Type              Status\n",
      "  Initialized       True \n",
      "  Ready             True \n",
      "  ContainersReady   True \n",
      "  PodScheduled      True \n",
      "Volumes:\n",
      "  default-token-zx4gf:\n",
      "    Type:        Secret (a volume populated by a Secret)\n",
      "    SecretName:  default-token-zx4gf\n",
      "    Optional:    false\n",
      "QoS Class:       BestEffort\n",
      "Node-Selectors:  <none>\n",
      "Tolerations:     node.kubernetes.io/not-ready:NoExecute op=Exists for 300s\n",
      "                 node.kubernetes.io/unreachable:NoExecute op=Exists for 300s\n",
      "Events:\n",
      "  Type    Reason     Age        From               Message\n",
      "  ----    ------     ----       ----               -------\n",
      "  Normal  Pulling    2m13s      kubelet            Pulling image \"jocatalin/kubernetes-bootcamp:v2\"\n",
      "  Normal  Pulled     2m12s      kubelet            Successfully pulled image \"jocatalin/kubernetes-bootcamp:v2\"\n",
      "  Normal  Created    2m12s      kubelet            Created container kubernetes-bootcamp\n",
      "  Normal  Started    2m12s      kubelet            Started container kubernetes-bootcamp\n",
      "  Normal  Scheduled  <invalid>  default-scheduler  Successfully assigned k8shacktenant/kubernetes-bootcamp-student1086-6cddcb6f9b-nrlhc to worker28.etc.fr.comm.hpecorp.net\n",
      "\n",
      "\n",
      "Name:         kubernetes-bootcamp-student1086-78d8b87cb6-bpgws\n",
      "Namespace:    k8shacktenant\n",
      "Priority:     0\n",
      "Node:         worker28.etc.fr.comm.hpecorp.net/16.31.84.70\n",
      "Start Time:   Wed, 28 Apr 2021 15:57:48 +0000\n",
      "Labels:       app=kubernetes-bootcamp-student1086\n",
      "              pod-template-hash=78d8b87cb6\n",
      "Annotations:  cni.projectcalico.org/podIP: 10.192.1.121/32\n",
      "              cni.projectcalico.org/podIPs: 10.192.1.121/32\n",
      "              kubernetes.io/psp: hcp-psp-privileged\n",
      "Status:       Pending\n",
      "IP:           10.192.1.121\n",
      "IPs:\n",
      "  IP:           10.192.1.121\n",
      "Controlled By:  ReplicaSet/kubernetes-bootcamp-student1086-78d8b87cb6\n",
      "Containers:\n",
      "  kubernetes-bootcamp:\n",
      "    Container ID:   \n",
      "    Image:          gcr.io/google-samples/kubernetes-bootcamp:v10\n",
      "    Image ID:       \n",
      "    Port:           <none>\n",
      "    Host Port:      <none>\n",
      "    State:          Waiting\n",
      "      Reason:       ImagePullBackOff\n",
      "    Ready:          False\n",
      "    Restart Count:  0\n",
      "    Environment:    <none>\n",
      "    Mounts:\n",
      "      /var/run/secrets/kubernetes.io/serviceaccount from default-token-zx4gf (ro)\n",
      "Conditions:\n",
      "  Type              Status\n",
      "  Initialized       True \n",
      "  Ready             False \n",
      "  ContainersReady   False \n",
      "  PodScheduled      True \n",
      "Volumes:\n",
      "  default-token-zx4gf:\n",
      "    Type:        Secret (a volume populated by a Secret)\n",
      "    SecretName:  default-token-zx4gf\n",
      "    Optional:    false\n",
      "QoS Class:       BestEffort\n",
      "Node-Selectors:  <none>\n",
      "Tolerations:     node.kubernetes.io/not-ready:NoExecute op=Exists for 300s\n",
      "                 node.kubernetes.io/unreachable:NoExecute op=Exists for 300s\n",
      "Events:\n",
      "  Type     Reason     Age                From               Message\n",
      "  ----     ------     ----               ----               -------\n",
      "  Normal   BackOff    24s (x2 over 48s)  kubelet            Back-off pulling image \"gcr.io/google-samples/kubernetes-bootcamp:v10\"\n",
      "  Warning  Failed     24s (x2 over 48s)  kubelet            Error: ImagePullBackOff\n",
      "  Normal   Pulling    9s (x3 over 54s)   kubelet            Pulling image \"gcr.io/google-samples/kubernetes-bootcamp:v10\"\n",
      "  Warning  Failed     9s (x3 over 48s)   kubelet            Failed to pull image \"gcr.io/google-samples/kubernetes-bootcamp:v10\": rpc error: code = Unknown desc = Error response from daemon: manifest for gcr.io/google-samples/kubernetes-bootcamp:v10 not found: manifest unknown: Failed to fetch \"v10\" from request \"/v2/google-samples/kubernetes-bootcamp/manifests/v10\".\n",
      "  Warning  Failed     9s (x3 over 48s)   kubelet            Error: ErrImagePull\n",
      "  Normal   Scheduled  <invalid>          default-scheduler  Successfully assigned k8shacktenant/kubernetes-bootcamp-student1086-78d8b87cb6-bpgws to worker28.etc.fr.comm.hpecorp.net\n",
      "\n",
      "\n",
      "Name:         kubernetes-bootcamp-student1086-78d8b87cb6-grkmb\n",
      "Namespace:    k8shacktenant\n",
      "Priority:     0\n",
      "Node:         worker27.etc.fr.comm.hpecorp.net/16.31.84.69\n",
      "Start Time:   Wed, 28 Apr 2021 15:59:14 +0000\n",
      "Labels:       app=kubernetes-bootcamp-student1086\n",
      "              pod-template-hash=78d8b87cb6\n",
      "Annotations:  cni.projectcalico.org/podIP: 10.192.1.228/32\n",
      "              cni.projectcalico.org/podIPs: 10.192.1.228/32\n",
      "              kubernetes.io/psp: hcp-psp-privileged\n",
      "Status:       Pending\n",
      "IP:           10.192.1.228\n",
      "IPs:\n",
      "  IP:           10.192.1.228\n",
      "Controlled By:  ReplicaSet/kubernetes-bootcamp-student1086-78d8b87cb6\n",
      "Containers:\n",
      "  kubernetes-bootcamp:\n",
      "    Container ID:   \n",
      "    Image:          gcr.io/google-samples/kubernetes-bootcamp:v10\n",
      "    Image ID:       \n",
      "    Port:           <none>\n",
      "    Host Port:      <none>\n",
      "    State:          Waiting\n",
      "      Reason:       ErrImagePull\n",
      "    Ready:          False\n",
      "    Restart Count:  0\n",
      "    Environment:    <none>\n",
      "    Mounts:\n",
      "      /var/run/secrets/kubernetes.io/serviceaccount from default-token-zx4gf (ro)\n",
      "Conditions:\n",
      "  Type              Status\n",
      "  Initialized       True \n",
      "  Ready             False \n",
      "  ContainersReady   False \n",
      "  PodScheduled      True \n",
      "Volumes:\n",
      "  default-token-zx4gf:\n",
      "    Type:        Secret (a volume populated by a Secret)\n",
      "    SecretName:  default-token-zx4gf\n",
      "    Optional:    false\n",
      "QoS Class:       BestEffort\n",
      "Node-Selectors:  <none>\n",
      "Tolerations:     node.kubernetes.io/not-ready:NoExecute op=Exists for 300s\n",
      "                 node.kubernetes.io/unreachable:NoExecute op=Exists for 300s\n",
      "Events:\n",
      "  Type     Reason     Age                            From               Message\n",
      "  ----     ------     ----                           ----               -------\n",
      "  Normal   Pulling    <invalid> (x3 over <invalid>)  kubelet            Pulling image \"gcr.io/google-samples/kubernetes-bootcamp:v10\"\n",
      "  Warning  Failed     <invalid> (x3 over <invalid>)  kubelet            Failed to pull image \"gcr.io/google-samples/kubernetes-bootcamp:v10\": rpc error: code = Unknown desc = Error response from daemon: manifest for gcr.io/google-samples/kubernetes-bootcamp:v10 not found: manifest unknown: Failed to fetch \"v10\" from request \"/v2/google-samples/kubernetes-bootcamp/manifests/v10\".\n",
      "  Warning  Failed     <invalid> (x3 over <invalid>)  kubelet            Error: ErrImagePull\n",
      "  Normal   BackOff    <invalid> (x3 over <invalid>)  kubelet            Back-off pulling image \"gcr.io/google-samples/kubernetes-bootcamp:v10\"\n",
      "  Warning  Failed     <invalid> (x3 over <invalid>)  kubelet            Error: ImagePullBackOff\n",
      "  Normal   Scheduled  <invalid>                      default-scheduler  Successfully assigned k8shacktenant/kubernetes-bootcamp-student1086-78d8b87cb6-grkmb to worker27.etc.fr.comm.hpecorp.net\n"
     ]
    }
   ],
   "source": [
    "kubectl describe pods -l app=kubernetes-bootcamp-$studentId"
   ]
  },
  {
   "cell_type": "markdown",
   "metadata": {},
   "source": [
    "There is no image called `v10` in the repository. Let’s roll back to our previously working version. We’ll use the `rollout` undo command:"
   ]
  },
  {
   "cell_type": "code",
   "execution_count": 17,
   "metadata": {},
   "outputs": [
    {
     "name": "stdout",
     "output_type": "stream",
     "text": [
      "deployment.apps/kubernetes-bootcamp-student1086 rolled back\n"
     ]
    }
   ],
   "source": [
    "kubectl rollout undo deployments/kubernetes-bootcamp-$studentId"
   ]
  },
  {
   "cell_type": "markdown",
   "metadata": {},
   "source": [
    "The `rollout` command reverted the deployment to the previous known state (v2 of the image). Updates are versioned and you can revert to any previously know state of a Deployment. List again the Pods:\n",
    "\n",
    "> To execute a multiple times, use CTRL-Enter while positioned on that cell."
   ]
  },
  {
   "cell_type": "code",
   "execution_count": 18,
   "metadata": {},
   "outputs": [
    {
     "name": "stdout",
     "output_type": "stream",
     "text": [
      "NAME                                               READY   STATUS    RESTARTS   AGE\n",
      "kubernetes-bootcamp-student1086-6cddcb6f9b-4zrfk   1/1     Running   0          3m5s\n",
      "kubernetes-bootcamp-student1086-6cddcb6f9b-6b7nl   1/1     Running   0          26s\n",
      "kubernetes-bootcamp-student1086-6cddcb6f9b-8hcxz   1/1     Running   0          3m5s\n",
      "kubernetes-bootcamp-student1086-6cddcb6f9b-nrlhc   1/1     Running   0          2m56s\n"
     ]
    }
   ],
   "source": [
    "kubectl get pods -l app=kubernetes-bootcamp-$studentId"
   ]
  },
  {
   "cell_type": "markdown",
   "metadata": {},
   "source": [
    "Four Pods are running. Check again the image deployed on the them:"
   ]
  },
  {
   "cell_type": "code",
   "execution_count": 19,
   "metadata": {},
   "outputs": [
    {
     "name": "stdout",
     "output_type": "stream",
     "text": [
      "Name:         kubernetes-bootcamp-student1086-6cddcb6f9b-4zrfk\n",
      "Namespace:    k8shacktenant\n",
      "Priority:     0\n",
      "Node:         worker28.etc.fr.comm.hpecorp.net/16.31.84.70\n",
      "Start Time:   Wed, 28 Apr 2021 15:56:20 +0000\n",
      "Labels:       app=kubernetes-bootcamp-student1086\n",
      "              pod-template-hash=6cddcb6f9b\n",
      "Annotations:  cni.projectcalico.org/podIP: 10.192.1.119/32\n",
      "              cni.projectcalico.org/podIPs: 10.192.1.119/32\n",
      "              kubernetes.io/psp: hcp-psp-privileged\n",
      "Status:       Running\n",
      "IP:           10.192.1.119\n",
      "IPs:\n",
      "  IP:           10.192.1.119\n",
      "Controlled By:  ReplicaSet/kubernetes-bootcamp-student1086-6cddcb6f9b\n",
      "Containers:\n",
      "  kubernetes-bootcamp:\n",
      "    Container ID:   docker://f86ba2eb52e41596b6939d72520c3d43d49cb447c1083f64920fa2464ed9af1b\n",
      "    Image:          jocatalin/kubernetes-bootcamp:v2\n",
      "    Image ID:       docker-pullable://jocatalin/kubernetes-bootcamp@sha256:fb1a3ced00cecfc1f83f18ab5cd14199e30adc1b49aa4244f5d65ad3f5feb2a5\n",
      "    Port:           <none>\n",
      "    Host Port:      <none>\n",
      "    State:          Running\n",
      "      Started:      Wed, 28 Apr 2021 15:56:28 +0000\n",
      "    Ready:          True\n",
      "    Restart Count:  0\n",
      "    Environment:    <none>\n",
      "    Mounts:\n",
      "      /var/run/secrets/kubernetes.io/serviceaccount from default-token-zx4gf (ro)\n",
      "Conditions:\n",
      "  Type              Status\n",
      "  Initialized       True \n",
      "  Ready             True \n",
      "  ContainersReady   True \n",
      "  PodScheduled      True \n",
      "Volumes:\n",
      "  default-token-zx4gf:\n",
      "    Type:        Secret (a volume populated by a Secret)\n",
      "    SecretName:  default-token-zx4gf\n",
      "    Optional:    false\n",
      "QoS Class:       BestEffort\n",
      "Node-Selectors:  <none>\n",
      "Tolerations:     node.kubernetes.io/not-ready:NoExecute op=Exists for 300s\n",
      "                 node.kubernetes.io/unreachable:NoExecute op=Exists for 300s\n",
      "Events:\n",
      "  Type    Reason     Age   From               Message\n",
      "  ----    ------     ----  ----               -------\n",
      "  Normal  Pulling    3m7s  kubelet            Pulling image \"jocatalin/kubernetes-bootcamp:v2\"\n",
      "  Normal  Pulled     3m    kubelet            Successfully pulled image \"jocatalin/kubernetes-bootcamp:v2\"\n",
      "  Normal  Created    3m    kubelet            Created container kubernetes-bootcamp\n",
      "  Normal  Started    3m    kubelet            Started container kubernetes-bootcamp\n",
      "  Normal  Scheduled  8s    default-scheduler  Successfully assigned k8shacktenant/kubernetes-bootcamp-student1086-6cddcb6f9b-4zrfk to worker28.etc.fr.comm.hpecorp.net\n",
      "\n",
      "\n",
      "Name:         kubernetes-bootcamp-student1086-6cddcb6f9b-6b7nl\n",
      "Namespace:    k8shacktenant\n",
      "Priority:     0\n",
      "Node:         worker27.etc.fr.comm.hpecorp.net/16.31.84.69\n",
      "Start Time:   Wed, 28 Apr 2021 16:00:25 +0000\n",
      "Labels:       app=kubernetes-bootcamp-student1086\n",
      "              pod-template-hash=6cddcb6f9b\n",
      "Annotations:  cni.projectcalico.org/podIP: 10.192.1.231/32\n",
      "              cni.projectcalico.org/podIPs: 10.192.1.231/32\n",
      "              kubernetes.io/psp: hcp-psp-privileged\n",
      "Status:       Running\n",
      "IP:           10.192.1.231\n",
      "IPs:\n",
      "  IP:           10.192.1.231\n",
      "Controlled By:  ReplicaSet/kubernetes-bootcamp-student1086-6cddcb6f9b\n",
      "Containers:\n",
      "  kubernetes-bootcamp:\n",
      "    Container ID:   docker://390fc12c66248f0de9893521fae4cd9e064f6eac612fa23e978fb35e92458a75\n",
      "    Image:          jocatalin/kubernetes-bootcamp:v2\n",
      "    Image ID:       docker-pullable://jocatalin/kubernetes-bootcamp@sha256:fb1a3ced00cecfc1f83f18ab5cd14199e30adc1b49aa4244f5d65ad3f5feb2a5\n",
      "    Port:           <none>\n",
      "    Host Port:      <none>\n",
      "    State:          Running\n",
      "      Started:      Wed, 28 Apr 2021 16:00:29 +0000\n",
      "    Ready:          True\n",
      "    Restart Count:  0\n",
      "    Environment:    <none>\n",
      "    Mounts:\n",
      "      /var/run/secrets/kubernetes.io/serviceaccount from default-token-zx4gf (ro)\n",
      "Conditions:\n",
      "  Type              Status\n",
      "  Initialized       True \n",
      "  Ready             True \n",
      "  ContainersReady   True \n",
      "  PodScheduled      True \n",
      "Volumes:\n",
      "  default-token-zx4gf:\n",
      "    Type:        Secret (a volume populated by a Secret)\n",
      "    SecretName:  default-token-zx4gf\n",
      "    Optional:    false\n",
      "QoS Class:       BestEffort\n",
      "Node-Selectors:  <none>\n",
      "Tolerations:     node.kubernetes.io/not-ready:NoExecute op=Exists for 300s\n",
      "                 node.kubernetes.io/unreachable:NoExecute op=Exists for 300s\n",
      "Events:\n",
      "  Type    Reason     Age        From               Message\n",
      "  ----    ------     ----       ----               -------\n",
      "  Normal  Pulling    <invalid>  kubelet            Pulling image \"jocatalin/kubernetes-bootcamp:v2\"\n",
      "  Normal  Pulled     <invalid>  kubelet            Successfully pulled image \"jocatalin/kubernetes-bootcamp:v2\"\n",
      "  Normal  Created    <invalid>  kubelet            Created container kubernetes-bootcamp\n",
      "  Normal  Started    <invalid>  kubelet            Started container kubernetes-bootcamp\n",
      "  Normal  Scheduled  <invalid>  default-scheduler  Successfully assigned k8shacktenant/kubernetes-bootcamp-student1086-6cddcb6f9b-6b7nl to worker27.etc.fr.comm.hpecorp.net\n",
      "\n",
      "\n",
      "Name:         kubernetes-bootcamp-student1086-6cddcb6f9b-8hcxz\n",
      "Namespace:    k8shacktenant\n",
      "Priority:     0\n",
      "Node:         worker27.etc.fr.comm.hpecorp.net/16.31.84.69\n",
      "Start Time:   Wed, 28 Apr 2021 15:57:47 +0000\n",
      "Labels:       app=kubernetes-bootcamp-student1086\n",
      "              pod-template-hash=6cddcb6f9b\n",
      "Annotations:  cni.projectcalico.org/podIP: 10.192.1.226/32\n",
      "              cni.projectcalico.org/podIPs: 10.192.1.226/32\n",
      "              kubernetes.io/psp: hcp-psp-privileged\n",
      "Status:       Running\n",
      "IP:           10.192.1.226\n",
      "IPs:\n",
      "  IP:           10.192.1.226\n",
      "Controlled By:  ReplicaSet/kubernetes-bootcamp-student1086-6cddcb6f9b\n",
      "Containers:\n",
      "  kubernetes-bootcamp:\n",
      "    Container ID:   docker://ebde5b07dc4c5742f930b4e4665c17a891c4da27eb14a5d12bb4ab9495f90723\n",
      "    Image:          jocatalin/kubernetes-bootcamp:v2\n",
      "    Image ID:       docker-pullable://jocatalin/kubernetes-bootcamp@sha256:fb1a3ced00cecfc1f83f18ab5cd14199e30adc1b49aa4244f5d65ad3f5feb2a5\n",
      "    Port:           <none>\n",
      "    Host Port:      <none>\n",
      "    State:          Running\n",
      "      Started:      Wed, 28 Apr 2021 15:57:51 +0000\n",
      "    Ready:          True\n",
      "    Restart Count:  0\n",
      "    Environment:    <none>\n",
      "    Mounts:\n",
      "      /var/run/secrets/kubernetes.io/serviceaccount from default-token-zx4gf (ro)\n",
      "Conditions:\n",
      "  Type              Status\n",
      "  Initialized       True \n",
      "  Ready             True \n",
      "  ContainersReady   True \n",
      "  PodScheduled      True \n",
      "Volumes:\n",
      "  default-token-zx4gf:\n",
      "    Type:        Secret (a volume populated by a Secret)\n",
      "    SecretName:  default-token-zx4gf\n",
      "    Optional:    false\n",
      "QoS Class:       BestEffort\n",
      "Node-Selectors:  <none>\n",
      "Tolerations:     node.kubernetes.io/not-ready:NoExecute op=Exists for 300s\n",
      "                 node.kubernetes.io/unreachable:NoExecute op=Exists for 300s\n",
      "Events:\n",
      "  Type    Reason     Age   From               Message\n",
      "  ----    ------     ----  ----               -------\n",
      "  Normal  Pulling    101s  kubelet            Pulling image \"jocatalin/kubernetes-bootcamp:v2\"\n",
      "  Normal  Pulled     98s   kubelet            Successfully pulled image \"jocatalin/kubernetes-bootcamp:v2\"\n",
      "  Normal  Created    98s   kubelet            Created container kubernetes-bootcamp\n",
      "  Normal  Started    98s   kubelet            Started container kubernetes-bootcamp\n",
      "  Normal  Scheduled  9s    default-scheduler  Successfully assigned k8shacktenant/kubernetes-bootcamp-student1086-6cddcb6f9b-8hcxz to worker27.etc.fr.comm.hpecorp.net\n",
      "\n",
      "\n",
      "Name:         kubernetes-bootcamp-student1086-6cddcb6f9b-nrlhc\n",
      "Namespace:    k8shacktenant\n",
      "Priority:     0\n",
      "Node:         worker28.etc.fr.comm.hpecorp.net/16.31.84.70\n",
      "Start Time:   Wed, 28 Apr 2021 15:56:29 +0000\n",
      "Labels:       app=kubernetes-bootcamp-student1086\n",
      "              pod-template-hash=6cddcb6f9b\n",
      "Annotations:  cni.projectcalico.org/podIP: 10.192.1.120/32\n",
      "              cni.projectcalico.org/podIPs: 10.192.1.120/32\n",
      "              kubernetes.io/psp: hcp-psp-privileged\n",
      "Status:       Running\n",
      "IP:           10.192.1.120\n",
      "IPs:\n",
      "  IP:           10.192.1.120\n",
      "Controlled By:  ReplicaSet/kubernetes-bootcamp-student1086-6cddcb6f9b\n",
      "Containers:\n",
      "  kubernetes-bootcamp:\n",
      "    Container ID:   docker://34dc9a93853e9e95ad4f432b92c1e39b08894c54b172536d8055845440b0f166\n",
      "    Image:          jocatalin/kubernetes-bootcamp:v2\n",
      "    Image ID:       docker-pullable://jocatalin/kubernetes-bootcamp@sha256:fb1a3ced00cecfc1f83f18ab5cd14199e30adc1b49aa4244f5d65ad3f5feb2a5\n",
      "    Port:           <none>\n",
      "    Host Port:      <none>\n",
      "    State:          Running\n",
      "      Started:      Wed, 28 Apr 2021 15:56:31 +0000\n",
      "    Ready:          True\n",
      "    Restart Count:  0\n",
      "    Environment:    <none>\n",
      "    Mounts:\n",
      "      /var/run/secrets/kubernetes.io/serviceaccount from default-token-zx4gf (ro)\n",
      "Conditions:\n",
      "  Type              Status\n",
      "  Initialized       True \n",
      "  Ready             True \n",
      "  ContainersReady   True \n",
      "  PodScheduled      True \n",
      "Volumes:\n",
      "  default-token-zx4gf:\n",
      "    Type:        Secret (a volume populated by a Secret)\n",
      "    SecretName:  default-token-zx4gf\n",
      "    Optional:    false\n",
      "QoS Class:       BestEffort\n",
      "Node-Selectors:  <none>\n",
      "Tolerations:     node.kubernetes.io/not-ready:NoExecute op=Exists for 300s\n",
      "                 node.kubernetes.io/unreachable:NoExecute op=Exists for 300s\n",
      "Events:\n",
      "  Type    Reason     Age    From               Message\n",
      "  ----    ------     ----   ----               -------\n",
      "  Normal  Pulling    2m59s  kubelet            Pulling image \"jocatalin/kubernetes-bootcamp:v2\"\n",
      "  Normal  Pulled     2m58s  kubelet            Successfully pulled image \"jocatalin/kubernetes-bootcamp:v2\"\n",
      "  Normal  Created    2m58s  kubelet            Created container kubernetes-bootcamp\n",
      "  Normal  Started    2m58s  kubelet            Started container kubernetes-bootcamp\n",
      "  Normal  Scheduled  0s     default-scheduler  Successfully assigned k8shacktenant/kubernetes-bootcamp-student1086-6cddcb6f9b-nrlhc to worker28.etc.fr.comm.hpecorp.net\n"
     ]
    }
   ],
   "source": [
    "kubectl describe pods -l app=kubernetes-bootcamp-$studentId"
   ]
  },
  {
   "cell_type": "markdown",
   "metadata": {},
   "source": [
    "We see that the deployment is using a stable version of the app (v2). The Rollback was successful."
   ]
  },
  {
   "cell_type": "markdown",
   "metadata": {},
   "source": [
    "This terminates module 6 and the workshop, let's perform some cleanup."
   ]
  },
  {
   "cell_type": "code",
   "execution_count": 20,
   "metadata": {},
   "outputs": [
    {
     "name": "stdout",
     "output_type": "stream",
     "text": [
      "service \"kubernetes-bootcamp-student1086\" deleted\n",
      "deployment.apps \"kubernetes-bootcamp-student1086\" deleted\n"
     ]
    }
   ],
   "source": [
    "kubectl delete services/kubernetes-bootcamp-$studentId\n",
    "kubectl delete deployment/kubernetes-bootcamp-$studentId\n"
   ]
  },
  {
   "cell_type": "markdown",
   "metadata": {},
   "source": [
    "[Return to main Notebook](./1-WKSHP-K8S101.ipynb)."
   ]
  },
  {
   "cell_type": "code",
   "execution_count": null,
   "metadata": {},
   "outputs": [],
   "source": []
  }
 ],
 "metadata": {
  "kernelspec": {
   "display_name": "Bash",
   "language": "bash",
   "name": "bash"
  },
  "language_info": {
   "codemirror_mode": "shell",
   "file_extension": ".sh",
   "mimetype": "text/x-sh",
   "name": "bash"
  }
 },
 "nbformat": 4,
 "nbformat_minor": 4
}
