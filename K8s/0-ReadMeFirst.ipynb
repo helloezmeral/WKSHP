{
 "cells": [
  {
   "cell_type": "markdown",
   "metadata": {},
   "source": [
    "![HPEDEVlogo](Pictures/hpedevlogo-NB.JPG)\n",
    "\n",
    "# Welcome to the Hack Shack\n",
    "Powered by [HPE DEV Team](https://hpedev.io)\n",
    "\n",
    "<p align=\"center\">\n",
    "  <img src=\"Pictures/hackshackdisco.png\">\n",
    "  \n",
    "</p>\n",
    "\n",
    "# Workshops-on-Demand\n",
    "\n",
    "# Introduction to Kubernetes Basics \n",
    "This tutorial provides a walkthrough of the basics of the Kubernetes cluster orchestration system. Each module contains some background information on major Kubernetes features and concepts, and includes interactive labs using a Kubernetes cluster managed by HPE Ezmeral Container Platform.\n",
    "\n",
    "# Author: [Didier Lalli](mailto:didier.lalli@hpe.com)\n",
    "\n",
    "## Handouts\n",
    "You can freely copy the Jupyter Notebooks, including their output, in order to practice back at your office at your own pace, leveraging a local installation of Jupyter Notebook on your laptop.\n",
    "- You install the Jupyter Notebook application from [here](https://jupyter.org/install). \n",
    "- A Beginners Guide is also available [here](https://jupyter-notebook-beginner-guide.readthedocs.io/en/latest/what_is_jupyter.html)\n",
    "\n",
    "\n",
    "## Lab flow\n",
    "HackShack Workshops are delivered through a central point that allows a portable, dynamic version of the lab guides. Rather than using standard PDF files which always end in copy / paste errors from the lab guide into the TS sessions, this year we decided to innovate and introduce a brand-new infrastructure. We will leverage a JupyterHub server on which all the different lab guides will be stored in a notebook format (*.ipynb).\n",
    "\n",
    "\n",
    "Enjoy the labs ! :-)\n",
    "\n",
    "\n",
    "## Workflow\n",
    "\n",
    "### [Intro](1-WKSHP-K8S101.ipynb)\n",
    "### [Module 1: Explore your Kubernetes cluster](2-WKSHP-K8S101-mod1.ipynb)\n",
    "### [Module 2: Deploy an app](3-WKSHP-K8S101-mod2.ipynb)\n",
    "### [Module 3: Explore your app](4-WKSHP-K8S101-mod3.ipynb)\n",
    "### [Module 4: Using a Service to Expose Your App](5-WKSHP-K8S101-mod4.ipynb)\n",
    "### [Module 5: Scale up your app](6-WKSHP-K8S101-mod5.ipynb)\n",
    "### [Module 6: Update your app](7-WKSHP-K8S101-mod6.ipynb)\n",
    "### [Conclusion](8-WKSHP-Conclusion.ipynb)\n",
    "\n",
    "# Thank you!\n",
    "![grommet.JPG](Pictures/grommet.JPG)"
   ]
  },
  {
   "cell_type": "code",
   "execution_count": null,
   "metadata": {},
   "outputs": [],
   "source": []
  },
  {
   "cell_type": "code",
   "execution_count": null,
   "metadata": {},
   "outputs": [],
   "source": []
  }
 ],
 "metadata": {
  "kernelspec": {
   "display_name": "Python 3",
   "language": "python",
   "name": "python3"
  },
  "language_info": {
   "codemirror_mode": {
    "name": "ipython",
    "version": 3
   },
   "file_extension": ".py",
   "mimetype": "text/x-python",
   "name": "python",
   "nbconvert_exporter": "python",
   "pygments_lexer": "ipython3",
   "version": "3.8.5"
  }
 },
 "nbformat": 4,
 "nbformat_minor": 4
}
