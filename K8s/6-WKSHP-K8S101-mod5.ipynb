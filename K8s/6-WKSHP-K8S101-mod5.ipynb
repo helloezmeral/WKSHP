{
 "cells": [
  {
   "cell_type": "markdown",
   "metadata": {},
   "source": [
    "# Module 5: Scale up your app\n",
    "\n",
    "### Objectives\n",
    "\n",
    "* Scale an app using kubectl.\n",
    "\n",
    "### Scaling an application\n",
    "\n",
    "In the previous modules we created a [Deployment](https://kubernetes.io/docs/concepts/workloads/controllers/deployment/), and then exposed it publicly via a [Service](https://kubernetes.io/docs/concepts/services-networking/service/). The Deployment created only one Pod for running our application. When traffic increases, we will need to scale the application to keep up with user demand.\n",
    "\n",
    "**Scaling** is accomplished by changing the number of replicas in a Deployment\n",
    "\n",
    ">You can create from the start a Deployment with multiple instances using the --replicas parameter for the kubectl create deployment command\n",
    "\n",
    "\n",
    "## Scaling overview\n",
    "\n",
    "<div><img src=\"https://d33wubrfki0l68.cloudfront.net/043eb67914e9474e30a303553d5a4c6c7301f378/0d8f6/docs/tutorials/kubernetes-basics/public/images/module_05_scaling1.svg\" width=\"400\">\n",
    "<img src=\"https://d33wubrfki0l68.cloudfront.net/30f75140a581110443397192d70a4cdb37df7bfc/b5f56/docs/tutorials/kubernetes-basics/public/images/module_05_scaling2.svg\" width=\"400\">\n",
    "</div>\n",
    "\n",
    "\n",
    "Scaling out a Deployment will ensure new Pods are created and scheduled to Nodes with available resources. Scaling will increase the number of Pods to the new desired state. Kubernetes also supports [autoscaling](https://kubernetes.io/docs/user-guide/horizontal-pod-autoscaling/) of Pods, but it is outside of the scope of this tutorial. Scaling to zero is also possible, and it will terminate all Pods of the specified Deployment.\n",
    "\n",
    "Running multiple instances of an application will require a way to distribute the traffic to all of them. Services have an integrated load-balancer that will distribute network traffic to all Pods of an exposed Deployment. Services will monitor continuously the running Pods using endpoints, to ensure the traffic is sent only to available Pods.\n",
    "\n",
    "> Scaling is accomplished by changing the number of replicas in a Deployment.\n",
    "\n",
    "\n",
    "\n",
    "Once you have multiple instances of an Application running, you would be able to do Rolling updates without downtime. We'll cover that in the next module. Now, let's go and scale our application."
   ]
  },
  {
   "cell_type": "markdown",
   "metadata": {},
   "source": [
    "### Lab 5 - Scaling up your app\n",
    "#### Step 1 of 3: Scaling a deployment\n",
    "\n",
    "To list your deployments use the get deployments command: kubectl get deployments"
   ]
  },
  {
   "cell_type": "code",
   "execution_count": 1,
   "metadata": {},
   "outputs": [
    {
     "name": "stdout",
     "output_type": "stream",
     "text": [
      "NAME                              READY   UP-TO-DATE   AVAILABLE   AGE\n",
      "kubernetes-bootcamp-student1051   1/1     1            1           25m\n",
      "kubernetes-bootcamp-student1052   1/1     1            1           15m\n",
      "kubernetes-bootcamp-student1054   1/1     1            1           25m\n",
      "kubernetes-bootcamp-student1056   1/1     1            1           13m\n",
      "kubernetes-bootcamp-student1058   1/1     1            1           26m\n",
      "kubernetes-bootcamp-student1059   1/1     1            1           24m\n",
      "kubernetes-bootcamp-student1063   1/1     1            1           25m\n",
      "kubernetes-bootcamp-student1065   1/1     1            1           14m\n",
      "kubernetes-bootcamp-student1066   1/1     1            1           24m\n",
      "kubernetes-bootcamp-student1070   1/1     1            1           26m\n",
      "kubernetes-bootcamp-student1073   1/1     1            1           24m\n",
      "kubernetes-bootcamp-student1074   1/1     1            1           15m\n",
      "kubernetes-bootcamp-student1075   1/1     1            1           25m\n",
      "kubernetes-bootcamp-student1078   1/1     1            1           28m\n",
      "kubernetes-bootcamp-student1079   4/4     4            4           25m\n",
      "kubernetes-bootcamp-student1086   1/1     1            1           25m\n",
      "kubernetes-bootcamp-student1089   1/1     1            1           25m\n",
      "kubernetes-bootcamp-student1090   1/1     1            1           21m\n",
      "kubernetes-bootcamp-student1092   1/1     1            1           21m\n",
      "kubernetes-bootcamp-student1093   1/1     1            1           25m\n",
      "kubernetes-bootcamp-student1094   1/1     1            1           12m\n",
      "kubernetes-bootcamp-student1095   1/1     1            1           26m\n",
      "kubernetes-bootcamp-student1096   1/1     1            1           5m55s\n",
      "kubernetes-bootcamp-student1104   1/1     1            1           24m\n",
      "kubernetes-bootcamp-student1105   1/1     1            1           19m\n",
      "kubernetes-bootcamp-student1112   1/1     1            1           24m\n",
      "kubernetes-bootcamp-student1113   1/1     1            1           22m\n"
     ]
    }
   ],
   "source": [
    "studentId=$(grep hpecp-user $HOME/.kube/config | cut -d= -f2)\n",
    "POD_NAME=$(kubectl get pods -o go-template --template '{{range .items}}{{.metadata.name}}{{\"\\n\"}}{{end}}' | grep $studentId) \n",
    "port=$(expr $(echo ${studentId} | tr -cd '[[:digit:]]') + 8000)\n",
    "\n",
    "kubectl get deployments \n"
   ]
  },
  {
   "cell_type": "markdown",
   "metadata": {},
   "source": [
    "The output should be similar to:\n",
    "\n",
    "````\n",
    "NAME                  READY   UP-TO-DATE   AVAILABLE   AGE\n",
    "kubernetes-bootcamp   1/1     1            1           11m\n",
    "````\n",
    "\n",
    "- *NAME* lists the names of the Deployments in the cluster.\n",
    "- *READY* shows the ratio of CURRENT/DESIRED replicas\n",
    "- *UP-TO-DATE* displays the number of replicas that have been updated to achieve the desired state.\n",
    "- *AVAILABLE* displays how many replicas of the application are available to your users.\n",
    "- *AGE* displays the amount of time that the application has been running.\n",
    "\n",
    "To see the ReplicaSet created by the Deployment, run kubectl get rs\n",
    "\n"
   ]
  },
  {
   "cell_type": "code",
   "execution_count": 2,
   "metadata": {},
   "outputs": [
    {
     "name": "stdout",
     "output_type": "stream",
     "text": [
      "NAME                                         DESIRED   CURRENT   READY   AGE\n",
      "kubernetes-bootcamp-student1051-5cb99bb66b   1         1         1       26m\n",
      "kubernetes-bootcamp-student1052-7dbdc4ff99   1         1         1       15m\n",
      "kubernetes-bootcamp-student1054-5965c59b97   1         1         1       26m\n",
      "kubernetes-bootcamp-student1056-7c5ff57cd7   1         1         1       14m\n",
      "kubernetes-bootcamp-student1058-6b79645d45   1         1         1       26m\n",
      "kubernetes-bootcamp-student1059-df689bd9d    1         1         1       24m\n",
      "kubernetes-bootcamp-student1063-75b5dff64c   1         1         1       25m\n",
      "kubernetes-bootcamp-student1065-7f58cc869c   1         1         1       15m\n",
      "kubernetes-bootcamp-student1066-8cb7bc8f6    1         1         1       25m\n",
      "kubernetes-bootcamp-student1070-895677555    4         4         4       26m\n",
      "kubernetes-bootcamp-student1073-fbc84d87d    1         1         1       24m\n",
      "kubernetes-bootcamp-student1074-54db766b9f   1         1         1       16m\n",
      "kubernetes-bootcamp-student1075-6bbddf7968   4         4         4       26m\n",
      "kubernetes-bootcamp-student1078-77f8d7f44c   1         1         1       28m\n",
      "kubernetes-bootcamp-student1079-7bcd5f7b5d   4         4         4       7m42s\n",
      "kubernetes-bootcamp-student1079-984bf9468    0         0         0       26m\n",
      "kubernetes-bootcamp-student1086-859899d75d   1         1         1       26m\n",
      "kubernetes-bootcamp-student1089-77dbdb6767   1         1         1       25m\n",
      "kubernetes-bootcamp-student1090-7f789ffb6f   1         1         1       22m\n",
      "kubernetes-bootcamp-student1092-d4479d96c    1         1         1       21m\n",
      "kubernetes-bootcamp-student1093-784874b9cb   1         1         1       26m\n",
      "kubernetes-bootcamp-student1094-5bd6d6d7b5   1         1         1       12m\n",
      "kubernetes-bootcamp-student1095-6b7b89fc7d   1         1         1       26m\n",
      "kubernetes-bootcamp-student1096-5c6c4f69dc   1         1         1       6m26s\n",
      "kubernetes-bootcamp-student1104-6d4b749947   1         1         1       24m\n",
      "kubernetes-bootcamp-student1105-868c56dd5b   1         1         1       19m\n",
      "kubernetes-bootcamp-student1112-57d8b776cd   1         1         1       10m\n",
      "kubernetes-bootcamp-student1112-6bbd88f98d   0         0         0       25m\n",
      "kubernetes-bootcamp-student1113-c7b966679    1         1         1       22m\n"
     ]
    }
   ],
   "source": [
    "kubectl get rs"
   ]
  },
  {
   "cell_type": "markdown",
   "metadata": {},
   "source": [
    "Notice that the name of the ReplicaSet is always formatted as [DEPLOYMENT-NAME]-[RANDOM-STRING]. The random string is randomly generated and uses the pod-template-hash as a seed.\n",
    "\n",
    "Two important columns of this command are:\n",
    "\n",
    "- *DESIRED* displays the desired number of replicas of the application, which you define when you create the Deployment. This is the desired state.\n",
    "- *CURRENT* displays how many replicas are currently running.\n",
    "\n",
    "Next, let’s scale the Deployment to 4 replicas. We’ll use the kubectl scale command, followed by the deployment type, name and desired number of instances:"
   ]
  },
  {
   "cell_type": "code",
   "execution_count": 3,
   "metadata": {},
   "outputs": [
    {
     "name": "stdout",
     "output_type": "stream",
     "text": [
      "deployment.apps/kubernetes-bootcamp-student1086 scaled\n"
     ]
    }
   ],
   "source": [
    "kubectl scale deployments/kubernetes-bootcamp-$studentId --replicas=4"
   ]
  },
  {
   "cell_type": "markdown",
   "metadata": {},
   "source": [
    "To list your Deployments once again, use get deployments:"
   ]
  },
  {
   "cell_type": "code",
   "execution_count": 5,
   "metadata": {},
   "outputs": [
    {
     "name": "stdout",
     "output_type": "stream",
     "text": [
      "NAME                              READY   UP-TO-DATE   AVAILABLE   AGE\n",
      "kubernetes-bootcamp-student1051   4/4     4            4           27m\n",
      "kubernetes-bootcamp-student1052   1/1     1            1           16m\n",
      "kubernetes-bootcamp-student1054   1/1     1            1           27m\n",
      "kubernetes-bootcamp-student1056   1/1     1            1           15m\n",
      "kubernetes-bootcamp-student1058   4/4     4            4           27m\n",
      "kubernetes-bootcamp-student1059   1/1     1            1           25m\n",
      "kubernetes-bootcamp-student1063   1/1     1            1           27m\n",
      "kubernetes-bootcamp-student1065   1/1     1            1           16m\n",
      "kubernetes-bootcamp-student1066   1/1     1            1           26m\n",
      "kubernetes-bootcamp-student1070   4/4     4            4           27m\n",
      "kubernetes-bootcamp-student1073   1/1     1            1           25m\n",
      "kubernetes-bootcamp-student1074   1/1     1            1           17m\n",
      "kubernetes-bootcamp-student1075   4/4     4            4           27m\n",
      "kubernetes-bootcamp-student1078   1/1     1            1           29m\n",
      "kubernetes-bootcamp-student1079   4/4     4            4           27m\n",
      "kubernetes-bootcamp-student1086   4/4     4            4           27m\n",
      "kubernetes-bootcamp-student1089   1/1     1            1           26m\n",
      "kubernetes-bootcamp-student1090   4/4     4            4           23m\n",
      "kubernetes-bootcamp-student1092   1/1     1            1           22m\n",
      "kubernetes-bootcamp-student1093   4/4     4            4           27m\n",
      "kubernetes-bootcamp-student1094   4/4     4            4           13m\n",
      "kubernetes-bootcamp-student1095   4/4     4            4           27m\n",
      "kubernetes-bootcamp-student1096   1/1     1            1           7m30s\n",
      "kubernetes-bootcamp-student1104   1/1     1            1           25m\n",
      "kubernetes-bootcamp-student1105   1/1     1            1           21m\n",
      "kubernetes-bootcamp-student1112   1/1     1            1           26m\n",
      "kubernetes-bootcamp-student1113   1/1     1            1           23m\n"
     ]
    }
   ],
   "source": [
    "kubectl get deployments"
   ]
  },
  {
   "cell_type": "markdown",
   "metadata": {},
   "source": [
    "The change was applied, and we have 4 instances of the application available. Next, let’s check if the number of Pods changed (retry this command multiple times until all pods are up)"
   ]
  },
  {
   "cell_type": "code",
   "execution_count": 7,
   "metadata": {},
   "outputs": [
    {
     "name": "stdout",
     "output_type": "stream",
     "text": [
      "kubernetes-bootcamp-student1086-859899d75d-5kgk4   1/1     Running   0          70s     10.192.1.194   worker27.etc.fr.comm.hpecorp.net   <none>           <none>\n",
      "kubernetes-bootcamp-student1086-859899d75d-j8kjh   1/1     Running   0          70s     10.192.1.80    worker28.etc.fr.comm.hpecorp.net   <none>           <none>\n",
      "kubernetes-bootcamp-student1086-859899d75d-wg7mz   1/1     Running   0          28m     10.192.1.171   worker27.etc.fr.comm.hpecorp.net   <none>           <none>\n",
      "kubernetes-bootcamp-student1086-859899d75d-z2bth   1/1     Running   0          70s     10.192.1.81    worker28.etc.fr.comm.hpecorp.net   <none>           <none>\n"
     ]
    }
   ],
   "source": [
    "kubectl get pods -o wide | grep $studentId"
   ]
  },
  {
   "cell_type": "markdown",
   "metadata": {},
   "source": [
    "There are 4 Pods now, with different IP addresses. The change was registered in the Deployment events log. To check that, use the describe command:"
   ]
  },
  {
   "cell_type": "code",
   "execution_count": 9,
   "metadata": {},
   "outputs": [
    {
     "name": "stdout",
     "output_type": "stream",
     "text": [
      "Name:                   kubernetes-bootcamp-student1086\n",
      "Namespace:              k8shacktenant\n",
      "CreationTimestamp:      Wed, 28 Apr 2021 15:23:47 +0000\n",
      "Labels:                 app=kubernetes-bootcamp-student1086\n",
      "Annotations:            deployment.kubernetes.io/revision: 1\n",
      "Selector:               app=kubernetes-bootcamp-student1086\n",
      "Replicas:               4 desired | 4 updated | 4 total | 4 available | 0 unavailable\n",
      "StrategyType:           RollingUpdate\n",
      "MinReadySeconds:        0\n",
      "RollingUpdateStrategy:  25% max unavailable, 25% max surge\n",
      "Pod Template:\n",
      "  Labels:  app=kubernetes-bootcamp-student1086\n",
      "  Containers:\n",
      "   kubernetes-bootcamp:\n",
      "    Image:        gcr.io/google-samples/kubernetes-bootcamp:v1\n",
      "    Port:         <none>\n",
      "    Host Port:    <none>\n",
      "    Environment:  <none>\n",
      "    Mounts:       <none>\n",
      "  Volumes:        <none>\n",
      "Conditions:\n",
      "  Type           Status  Reason\n",
      "  ----           ------  ------\n",
      "  Progressing    True    NewReplicaSetAvailable\n",
      "  Available      True    MinimumReplicasAvailable\n",
      "OldReplicaSets:  <none>\n",
      "NewReplicaSet:   kubernetes-bootcamp-student1086-859899d75d (4/4 replicas created)\n",
      "Events:\n",
      "  Type    Reason             Age        From                   Message\n",
      "  ----    ------             ----       ----                   -------\n",
      "  Normal  ScalingReplicaSet  25m        deployment-controller  Scaled up replica set kubernetes-bootcamp-student1086-859899d75d to 1\n",
      "  Normal  ScalingReplicaSet  <invalid>  deployment-controller  Scaled up replica set kubernetes-bootcamp-student1086-859899d75d to 4\n"
     ]
    }
   ],
   "source": [
    "kubectl describe deployments/kubernetes-bootcamp-$studentId"
   ]
  },
  {
   "cell_type": "markdown",
   "metadata": {},
   "source": [
    "You can also view in the output of this command that there are 4 replicas now.\n",
    "\n",
    "#### Step 2 of 3: Load Balancing\n",
    "\n",
    "Let’s check that the Service is load-balancing the traffic. To find out the exposed IP and Port we can use the describe service as we learned in the previous Module:"
   ]
  },
  {
   "cell_type": "code",
   "execution_count": 10,
   "metadata": {},
   "outputs": [
    {
     "name": "stdout",
     "output_type": "stream",
     "text": [
      "Name:                     kubernetes-bootcamp-student1086\n",
      "Namespace:                k8shacktenant\n",
      "Labels:                   app=kubernetes-bootcamp-student1086\n",
      "Annotations:              <none>\n",
      "Selector:                 app=kubernetes-bootcamp-student1086\n",
      "Type:                     NodePort\n",
      "IP:                       10.97.254.95\n",
      "Port:                     <unset>  8080/TCP\n",
      "TargetPort:               8080/TCP\n",
      "NodePort:                 <unset>  32552/TCP\n",
      "Endpoints:                10.192.1.171:8080,10.192.1.194:8080,10.192.1.80:8080 + 1 more...\n",
      "Session Affinity:         None\n",
      "External Traffic Policy:  Cluster\n",
      "Events:                   <none>\n"
     ]
    }
   ],
   "source": [
    "kubectl describe service/kubernetes-bootcamp-$studentId  "
   ]
  },
  {
   "cell_type": "markdown",
   "metadata": {},
   "source": [
    "Create an environment variable called NODE_PORT that has the value of the Node port assigned.\n",
    "And another one that compute NODE_NAME from a  `kubectl describe pods ` command. "
   ]
  },
  {
   "cell_type": "code",
   "execution_count": 11,
   "metadata": {},
   "outputs": [
    {
     "name": "stdout",
     "output_type": "stream",
     "text": [
      "NODE_PORT=32552\n",
      "NODE_NAME=worker27.etc.fr.comm.hpecorp.net\n"
     ]
    }
   ],
   "source": [
    "NODE_PORT=$(kubectl get services/kubernetes-bootcamp-$studentId -o go-template='{{(index .spec.ports 0).nodePort}}')\n",
    "echo NODE_PORT=$NODE_PORT\n",
    "NODE_NAME=$(kubectl describe pods $POD_NAME | grep Node:)\n",
    "NODE_NAME=${NODE_NAME#Node:} \n",
    "NODE_NAME=${NODE_NAME%/*} \n",
    "NODE_NAME=$(echo $NODE_NAME | xargs)\n",
    "echo NODE_NAME=$NODE_NAME\n"
   ]
  },
  {
   "cell_type": "markdown",
   "metadata": {},
   "source": [
    "Next, we’ll do a `curl` to the exposed IP and port. Execute the command multiple times:\n",
    "\n",
    "> To execute a multiple times, use CTRL-Enter while positioned on that cell."
   ]
  },
  {
   "cell_type": "code",
   "execution_count": 27,
   "metadata": {},
   "outputs": [
    {
     "name": "stdout",
     "output_type": "stream",
     "text": [
      "Hello Kubernetes bootcamp! | Running on: kubernetes-bootcamp-student1086-859899d75d-5kgk4 | v=1\n"
     ]
    }
   ],
   "source": [
    "curl http://$NODE_NAME:$NODE_PORT"
   ]
  },
  {
   "cell_type": "markdown",
   "metadata": {},
   "source": [
    "We hit a different Pod with every request. This demonstrates that the load-balancing is working."
   ]
  },
  {
   "cell_type": "markdown",
   "metadata": {},
   "source": [
    "You can monitor your application with the HPE Ezmeral Container Platform user interface: https://notebooks3.hpedev.io:9912\n",
    "\n",
    "Use 1086/iW4urjci as your username/password to login and then select **K8sHackTenant** as your tenant in the upper right corner of the window, as shown below:\n",
    "\n",
    "<img src=\"Pictures/dashboard-ezmeral.png\">\n",
    " "
   ]
  },
  {
   "cell_type": "markdown",
   "metadata": {},
   "source": [
    "#### Step 3 of 3: Deleting a service\n",
    "\n",
    "To delete Services you can use the `delete service` command. Labels can be used also here:"
   ]
  },
  {
   "cell_type": "code",
   "execution_count": 28,
   "metadata": {},
   "outputs": [
    {
     "name": "stdout",
     "output_type": "stream",
     "text": [
      "service \"kubernetes-bootcamp-student1086\" deleted\n"
     ]
    }
   ],
   "source": [
    "kubectl delete service -l app=kubernetes-bootcamp-$studentId"
   ]
  },
  {
   "cell_type": "markdown",
   "metadata": {},
   "source": [
    "Confirm that the service is gone:"
   ]
  },
  {
   "cell_type": "code",
   "execution_count": 29,
   "metadata": {},
   "outputs": [
    {
     "ename": "",
     "evalue": "1",
     "output_type": "error",
     "traceback": []
    }
   ],
   "source": [
    "kubectl get services | grep $studentId"
   ]
  },
  {
   "cell_type": "markdown",
   "metadata": {},
   "source": [
    "This confirms that our Service was removed. To confirm that route is not exposed anymore you can curl the previously exposed IP and port:"
   ]
  },
  {
   "cell_type": "code",
   "execution_count": 30,
   "metadata": {},
   "outputs": [
    {
     "name": "stdout",
     "output_type": "stream",
     "text": [
      "curl: (7) Failed to connect to worker27.etc.fr.comm.hpecorp.net port 32552: Connection refused\n"
     ]
    },
    {
     "ename": "",
     "evalue": "7",
     "output_type": "error",
     "traceback": []
    }
   ],
   "source": [
    "curl http://$NODE_NAME:$NODE_PORT"
   ]
  },
  {
   "cell_type": "markdown",
   "metadata": {},
   "source": [
    "This proves that the app is not reachable anymore from outside of the cluster. You can confirm that the app is still running with a curl inside the pod:"
   ]
  },
  {
   "cell_type": "code",
   "execution_count": 31,
   "metadata": {},
   "outputs": [
    {
     "name": "stdout",
     "output_type": "stream",
     "text": [
      "Hello Kubernetes bootcamp! | Running on: kubernetes-bootcamp-student1086-859899d75d-wg7mz | v=1\n"
     ]
    }
   ],
   "source": [
    "kubectl exec $POD_NAME -- curl -s localhost:8080"
   ]
  },
  {
   "cell_type": "markdown",
   "metadata": {},
   "source": [
    "We see here that the application is up. This is because the Deployment is managing the application. To shut down the application, you would need to delete the Deployment as well.\n"
   ]
  },
  {
   "cell_type": "markdown",
   "metadata": {},
   "source": [
    "This terminates module 5. Let's continue with [module 6, Update your app](./7-WKSHP-K8S101-mod6.ipynb)."
   ]
  },
  {
   "cell_type": "code",
   "execution_count": null,
   "metadata": {},
   "outputs": [],
   "source": []
  }
 ],
 "metadata": {
  "kernelspec": {
   "display_name": "Bash",
   "language": "bash",
   "name": "bash"
  },
  "language_info": {
   "codemirror_mode": "shell",
   "file_extension": ".sh",
   "mimetype": "text/x-sh",
   "name": "bash"
  }
 },
 "nbformat": 4,
 "nbformat_minor": 4
}
