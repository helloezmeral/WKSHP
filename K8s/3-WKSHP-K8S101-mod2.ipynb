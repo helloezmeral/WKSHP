{
 "cells": [
  {
   "cell_type": "markdown",
   "metadata": {},
   "source": [
    "# Module 2 - Deploy an app\n",
    "\n",
    "## Objectives\n",
    "\n",
    "* Learn about application Deployments.\n",
    "* Deploy your first app on Kubernetes with kubectl.\n",
    "\n",
    "## Kubernetes Deployments\n",
    "\n",
    "Once you have a running Kubernetes cluster, you can deploy your containerized applications on top of it. To do so, you create a Kubernetes **Deployment** configuration. The Deployment instructs Kubernetes how to create and update instances of your application. Once you've created a Deployment, the Kubernetes master schedules the application instances included in that Deployment to run on individual Nodes in the cluster.\n",
    "\n",
    "Once the application instances are created, a Kubernetes Deployment Controller continuously monitors those instances. If the Node hosting an instance goes down or is deleted, the Deployment controller replaces the instance with an instance on another Node in the cluster. **This provides a self-healing mechanism to address machine failure or maintenance.**\n",
    "\n",
    "In a pre-orchestration world, installation scripts would often be used to start applications, but they did not allow recovery from machine failure. By both creating your application instances and keeping them running across Nodes, Kubernetes Deployments provide a fundamentally different approach to application management.\n",
    "\n",
    ">A Deployment is responsible for creating and updating instances of your application\n",
    "\n",
    "## Deploying your first app on Kubernetes\n",
    "\n",
    "<img src=\"https://d33wubrfki0l68.cloudfront.net/152c845f25df8e69dd24dd7b0836a289747e258a/4a1d2/docs/tutorials/kubernetes-basics/public/images/module_02_first_app.svg\"  width=\"600\" title=\"test\" alt=\"\">\n",
    "\n",
    "You can create and manage a Deployment by using the Kubernetes command line interface, **Kubectl**. Kubectl uses the Kubernetes API to interact with the cluster. In this module, you'll learn the most common Kubectl commands needed to create Deployments that run your applications on a Kubernetes cluster.\n",
    "\n",
    "When you create a Deployment, you'll need to specify the container image for your application and the number of replicas that you want to run. You can change that information later by updating your Deployment; [Module 5](./WKSHP-K8S101-mod5.ipynb) and [Module 6](./WKSHP-K8S101-mod6.ipynb) of the workshop discuss how you can scale and update your Deployments.\n",
    "\n",
    ">Applications need to be packaged into one of the supported container formats in order to be deployed on Kubernetes \n",
    "\n",
    "For your first Deployment, you'll use a hello-node application packaged in a Docker container that uses NGINX to echo back all the requests. (If you didn't already try creating a hello-node application and deploying it using a container, you can do that first by following the instructions from the [Hello Minikube tutorial](https://kubernetes.io/docs/tutorials/hello-minikube/)).\n",
    "\n",
    "Now that you know what Deployments are, let's go and deploy our first app!\n",
    "\n",
    "A Pod is the basic execution unit of a Kubernetes application. Each Pod represents a part of a workload that is running on your cluster. [Learn more about Pods](https://kubernetes.io/docs/concepts/workloads/pods/).\n",
    "\n",
    "### Lab 2a - Deploy an App\n",
    "#### Step 1 of 3\n",
    "\n",
    "kubectl comes installed in the online terminal. Type kubectl in the terminal to see its usage. The common format of a kubectl command is: kubectl action resource. This performs the specified action (like create, describe) on the specified resource (like node, container). You can use `--help` after the command to get additional info about possible parameters (`kubectl get nodes --help`).\n",
    "\n",
    "To view the nodes in the cluster, run the `kubectl get nodes` command:"
   ]
  },
  {
   "cell_type": "code",
   "execution_count": 1,
   "metadata": {},
   "outputs": [
    {
     "name": "stdout",
     "output_type": "stream",
     "text": [
      "NAME                               STATUS   ROLES    AGE   VERSION\n",
      "worker26.etc.fr.comm.hpecorp.net   Ready    master   97d   v1.17.9\n",
      "worker27.etc.fr.comm.hpecorp.net   Ready    worker   47d   v1.17.9\n",
      "worker28.etc.fr.comm.hpecorp.net   Ready    worker   97d   v1.17.9\n"
     ]
    }
   ],
   "source": [
    "studentId=$(grep hpecp-user $HOME/.kube/config | cut -d= -f2)\n",
    "port=$(expr $(echo ${studentId} | tr -cd '[[:digit:]]') + 8000)\n",
    "\n",
    "kubectl get nodes"
   ]
  },
  {
   "cell_type": "markdown",
   "metadata": {},
   "source": [
    "Here we see the available nodes (3 in our case). Kubernetes will choose where to deploy our application based on Node available resources.\n",
    "\n",
    "#### Step 2 of 3 \n",
    "\n",
    "Let’s deploy our first app on Kubernetes with the `kubectl create deployment` command. We need to provide the deployment name and app image location (include the full repository url for images hosted outside Docker hub).\n"
   ]
  },
  {
   "cell_type": "code",
   "execution_count": 2,
   "metadata": {},
   "outputs": [
    {
     "name": "stdout",
     "output_type": "stream",
     "text": [
      "deployment.apps/kubernetes-bootcamp-student1086 created\n"
     ]
    }
   ],
   "source": [
    "kubectl create deployment kubernetes-bootcamp-${studentId} --image=gcr.io/google-samples/kubernetes-bootcamp:v1"
   ]
  },
  {
   "cell_type": "markdown",
   "metadata": {},
   "source": [
    "Great! You just deployed your first application by creating a deployment. This performed a few things for you:\n",
    "\n",
    "* searched for a suitable node where an instance of the application could be run (we have only 1 available node)\n",
    "* scheduled the application to run on that Node\n",
    "* configured the cluster to reschedule the instance on a new Node when needed\n",
    "\n",
    "To list your deployments use the `get deployments` command:"
   ]
  },
  {
   "cell_type": "code",
   "execution_count": 3,
   "metadata": {},
   "outputs": [
    {
     "name": "stdout",
     "output_type": "stream",
     "text": [
      "kubernetes-bootcamp-student1086   1/1     1            1           6s\n"
     ]
    }
   ],
   "source": [
    "kubectl get deployments | grep $studentId"
   ]
  },
  {
   "cell_type": "markdown",
   "metadata": {},
   "source": [
    "We see that there is one deployment running a single instance of your app. The instance is running inside a Docker container on your node.\n",
    "\n",
    "#### Step 3 of 3 \n",
    "\n",
    "Pods that are running inside Kubernetes are running on a private, isolated network. By default they are visible from other pods and services within the same kubernetes cluster, but not outside that network. When we use `kubectl`, we're interacting through an API endpoint to communicate with our application.\n",
    "\n",
    "We will cover other options on how to expose your application outside the kubernetes cluster in [module 4](./WKSHP-K8S101-mod4.ipynb).\n",
    "\n",
    "We still have a couple of options to connect to our pod. \n",
    "\n",
    "The first option is to run the command ` kubectl exec ` to execute a command on the pod:"
   ]
  },
  {
   "cell_type": "code",
   "execution_count": 4,
   "metadata": {},
   "outputs": [
    {
     "name": "stdout",
     "output_type": "stream",
     "text": [
      "Name of the Pod: kubernetes-bootcamp-student1086-859899d75d-wg7mz\n",
      "Hello Kubernetes bootcamp! | Running on: kubernetes-bootcamp-student1086-859899d75d-wg7mz | v=1\n"
     ]
    }
   ],
   "source": [
    "POD_NAME=$(kubectl get pods -o go-template --template '{{range .items}}{{.metadata.name}}{{\"\\n\"}}{{end}}' | grep ${studentId} ) \n",
    "echo Name of the Pod: $POD_NAME\n",
    "kubectl exec $POD_NAME -- curl -s http://localhost:8080"
   ]
  },
  {
   "cell_type": "markdown",
   "metadata": {},
   "source": [
    "The other option is to use `kubectl` to create a port-forward that will forward communications into the cluster-wide, private network. The port-forqard can be terminated by pressing control-C and won't show any output while its running.\n",
    "\n",
    "We will open a terminal window (located in the Launcher tab) to run the proxy.\n",
    "\n",
    ">If you don't have a Launcher tab, use File->New launcher from the menubar or simply click the \"+\" sign below the menubar.\n",
    "\n",
    "` From the Terminal window ` run the following commands (you can use CTRL-C/CTRL-V to cut/paste)\n",
    "\n",
    "```\n",
    "studentId=$(grep hpecp-user $HOME/.kube/config | cut -d= -f2)\n",
    "port=$(expr $(echo $studentId | tr -cd '[[:digit:]]') + 8000)\n",
    "POD_NAME=$(kubectl get pods -o go-template --template '{{range .items}}{{.metadata.name}}{{\"\\n\"}}{{end}}' | grep $studentId) \n",
    "kubectl port-forward $POD_NAME $port:8080\n",
    "```\n",
    "\n",
    "We now have a connection between our host (the online terminal) and the Kubernetes cluster. The port-forward enables direct access to the pod from this notebook.\n",
    "\n",
    "You can see connect to the application using the `curl` command:\n"
   ]
  },
  {
   "cell_type": "code",
   "execution_count": 7,
   "metadata": {},
   "outputs": [
    {
     "name": "stdout",
     "output_type": "stream",
     "text": [
      "Hello Kubernetes bootcamp! | Running on: kubernetes-bootcamp-student1086-859899d75d-wg7mz | v=1\n"
     ]
    }
   ],
   "source": [
    "curl http://localhost:$port"
   ]
  },
  {
   "cell_type": "markdown",
   "metadata": {},
   "source": [
    "This terminates module 2. Let's continue with [module 3, Explore your app](./4-WKSHP-K8S101-mod3.ipynb).\n"
   ]
  },
  {
   "cell_type": "code",
   "execution_count": null,
   "metadata": {},
   "outputs": [],
   "source": []
  }
 ],
 "metadata": {
  "kernelspec": {
   "display_name": "Bash",
   "language": "bash",
   "name": "bash"
  },
  "language_info": {
   "codemirror_mode": "shell",
   "file_extension": ".sh",
   "mimetype": "text/x-sh",
   "name": "bash"
  }
 },
 "nbformat": 4,
 "nbformat_minor": 4
}
