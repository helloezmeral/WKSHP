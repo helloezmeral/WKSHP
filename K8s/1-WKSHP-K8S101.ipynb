{
 "cells": [
  {
   "cell_type": "markdown",
   "metadata": {},
   "source": [
    "# Learn Kubernetes Basics\n",
    "## Kubernetes Basics\n",
    "This tutorial provides a walkthrough of the basics of the Kubernetes cluster orchestration system. Each module contains some background information on major Kubernetes features and concepts, and includes interactive labs.\n",
    "\n",
    "Using the interactive tutorials, you can learn to:\n",
    "\n",
    "- Deploy a containerized application on a cluster.\n",
    "- Scale the deployment.\n",
    "- Update the containerized application with a new software version.\n",
    "- Debug the containerized application.\n",
    "\n",
    "The tutorials use bash cells in Jupyter Notebooks to run Kubernetes commands against a Kubernetes cluster managed by [HPE Ezmeral Container Platform](https://www.hpe.com/us/en/ezmeral.html). This workshop is adapted from the [Kubernetes Basics](https://kubernetes.io/docs/tutorials/kubernetes-basics/) in-depth interactive tutorial under Creative Commons Attribution 4.0 International [license](https://github.com/kubernetes/website/blob/master/LICENSE). The interactive labs were ported from Katacoda to Jupyter Notebooks. This material can be used under that same license.\n",
    "\n",
    "This tutorial helps you understand the Kubernetes system and try out some basic Kubernetes features. \n",
    "\n",
    "## What can Kubernetes do for you?\n",
    "\n",
    "With modern web services, users expect applications to be available 24/7, and developers expect to deploy new versions of those applications several times a day. Containerization helps package software to serve these goals, enabling applications to be released and updated in an easy and fast way without downtime. Kubernetes helps you make sure those containerized applications run where and when you want, and helps them find the resources and tools they need to work. Kubernetes is a production-ready, open source platform designed with Google's accumulated experience in container orchestration, combined with best-of-breed ideas from the community.\n",
    "\n",
    "## Kubernetes Basics Modules\n",
    "\n",
    "|        |        |        |\n",
    "| :----: | :----: | :----: |\n",
    "|  <a href=\"./2-WKSHP-K8S101-mod1.ipynb\"><img src=\"https://kubernetes.io/docs/tutorials/kubernetes-basics/public/images/module_01.svg?v=1469803628347\"  width=\"300\" title=\"Create a K8S cluster\" alt=\"\"></a> | <a href=\"./3-WKSHP-K8S101-mod2.ipynb\"><img src=\"https://kubernetes.io/docs/tutorials/kubernetes-basics/public/images/module_02.svg?v=1469803628347\"  width=\"300\" title=\"Deploy an app\" alt=\"\"></a> | <a href=\"./4-WKSHP-K8S101-mod3.ipynb\"><img src=\"https://kubernetes.io/docs/tutorials/kubernetes-basics/public/images/module_03.svg?v=1469803628347\"  width=\"300\" title=\"Explore your app\" alt=\"\"></a> | \n",
    "| <a href=\"./2-WKSHP-K8S101-mod1.ipynb\">1. Create a Kubernetes cluster</a> | <a href=\"./3-WKSHP-K8S101-mod2.ipynb\">2. Deploy an app</a> | <a href=\"./4-WKSHP-K8S101-mod3.ipynb\">3. Explore your app </a>|\n",
    "|  <a href=\"./5-WKSHP-K8S101-mod4.ipynb\"><img src=\"https://kubernetes.io/docs/tutorials/kubernetes-basics/public/images/module_04.svg?v=1469803628347\"  width=\"300\" title=\"Expose your app publicly\" alt=\"\"></a> | <a href=\"./6-WKSHP-K8S101-mod5.ipynb\"><img src=\"https://kubernetes.io/docs/tutorials/kubernetes-basics/public/images/module_05.svg?v=1469803628347\"  width=\"300\" title=\"Scale up your app\" alt=\"\"></a> | <a href=\"./7-WKSHP-K8S101-mod6.ipynb\"><img src=\"https://kubernetes.io/docs/tutorials/kubernetes-basics/public/images/module_06.svg?v=1469803628347\"  width=\"300\" title=\"Update your app\" alt=\"\"></a> | \n",
    "| <a href=\"./5-WKSHP-K8S101-mod4.ipynb\">4. Expose your app publicly</a> | <a href=\"./6-WKSHP-K8S101-mod5.ipynb\">5. Scale up your app</a> | <a href=\"./7-WKSHP-K8S101-mod6.ipynb\">6. Update your app </a>|\n",
    "\n"
   ]
  }
 ],
 "metadata": {
  "kernelspec": {
   "display_name": "Bash",
   "language": "bash",
   "name": "bash"
  },
  "language_info": {
   "codemirror_mode": "shell",
   "file_extension": ".sh",
   "mimetype": "text/x-sh",
   "name": "bash"
  }
 },
 "nbformat": 4,
 "nbformat_minor": 4
}
