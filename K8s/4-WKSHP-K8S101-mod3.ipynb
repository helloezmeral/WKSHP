{
 "cells": [
  {
   "cell_type": "markdown",
   "metadata": {},
   "source": [
    "# Module 3 - Explore your app\n",
    "\n",
    "## Objectives\n",
    "\n",
    "* Learn about Kubernetes Pods.\n",
    "* Learn about Kubernetes Nodes.\n",
    "* Troubleshoot deployed applications.\n",
    "\n",
    "## Kubernetes Pods\n",
    "\n",
    "When you created a Deployment in [Module 2](./3-WKSHP-K8S101-mod2.ipynb), Kubernetes created a **Pod** to host your application instance. A Pod is a Kubernetes abstraction that represents a group of one or more application containers (such as Docker), and some shared resources for those containers. Those resources include:\n",
    "\n",
    "* Shared storage, as Volumes\n",
    "* Networking, as a unique cluster IP address\n",
    "* Information about how to run each container, such as the container image version or specific ports to use\n",
    "\n",
    "A Pod models an application-specific \"logical host\" and can contain different application containers which are relatively tightly coupled. For example, a Pod might include both the container with your Node.js app as well as a different container that feeds the data to be published by the Node.js webserver. The containers in a Pod share an IP Address and port space, are always co-located and co-scheduled, and run in a shared context on the same Node.\n",
    "\n",
    "Pods are the atomic unit on the Kubernetes platform. When we create a Deployment on Kubernetes, that Deployment creates Pods with containers inside them (as opposed to creating containers directly). Each Pod is tied to the Node where it is scheduled, and remains there until termination (according to restart policy) or deletion. In case of a Node failure, identical Pods are scheduled on other available Nodes in the cluster.\n",
    "\n",
    ">A Pod is a group of one or more application containers (such as Docker) and includes shared storage (volumes), IP address and information about how to run them.\n",
    "\n",
    "## Pods overview\n",
    "\n",
    "<img src=\"https://d33wubrfki0l68.cloudfront.net/fe03f68d8ede9815184852ca2a4fd30325e5d15a/98064/docs/tutorials/kubernetes-basics/public/images/module_03_pods.svg\"  width=\"600\" title=\"test\" alt=\"\">\n",
    "\n",
    "## Nodes\n",
    "\n",
    "A Pod always runs on a **Node**. A Node is a worker machine in Kubernetes and may be either a virtual or a physical machine, depending on the cluster. Each Node is managed by the Master. A Node can have multiple pods, and the Kubernetes master automatically handles scheduling the pods across the Nodes in the cluster. The Master's automatic scheduling takes into account the available resources on each Node.\n",
    "\n",
    "Every Kubernetes Node runs at least:\n",
    "\n",
    "* Kubelet, a process responsible for communication between the Kubernetes Master and the Node; it manages the Pods and the containers running on a machine.\n",
    "* A container runtime (like Docker) responsible for pulling the container image from a registry, unpacking the container, and running the application.\n",
    "\n",
    ">Containers should only be scheduled together in a single Pod if they are tightly coupled and need to share resources such as disk.\n",
    "\n",
    "## Node overview\n",
    "\n",
    "<img src=\"https://d33wubrfki0l68.cloudfront.net/5cb72d407cbe2755e581b6de757e0d81760d5b86/a9df9/docs/tutorials/kubernetes-basics/public/images/module_03_nodes.svg\"  width=\"600\" title=\"test\" alt=\"\">\n",
    "\n",
    "## Troubleshooting with kubectl\n",
    "\n",
    "In [Module 2](./3-WKSHP-K8S101-mod2.ipynb), you used Kubectl command-line interface. You'll continue to use it in Module 3 to get information about deployed applications and their environments. The most common operations can be done with the following kubectl commands:\n",
    "\n",
    "* **kubectl get** - list resources\n",
    "* **kubectl describe** - show detailed information about a resource\n",
    "* **kubectl logs** - print the logs from a container in a pod\n",
    "* **kubectl exec** - execute a command on a container in a pod\n",
    "\n",
    "You can use these commands to see when applications were deployed, what their current statuses are, where they are running and what their configurations are.\n",
    "\n",
    "Now that we know more about our cluster components and the command line, let's explore our application.\n",
    "\n",
    ">A node is a worker machine in Kubernetes and may be a VM or physical machine, depending on the cluster. Multiple Pods can run on one Node.\n",
    "\n",
    "### Lab 3 - Explore your app\n",
    "#### Step 1 of 4\n",
    "\n",
    "Let’s verify that the application we deployed in the previous scenario is running. We’ll use the `kubectl get` command and look for existing Pods:"
   ]
  },
  {
   "cell_type": "code",
   "execution_count": 1,
   "metadata": {},
   "outputs": [
    {
     "name": "stdout",
     "output_type": "stream",
     "text": [
      "kubernetes-bootcamp-student1086-859899d75d-wg7mz   1/1     Running   0          9m13s\n"
     ]
    }
   ],
   "source": [
    "studentId=$(grep hpecp-user $HOME/.kube/config | cut -d= -f2)\n",
    "\n",
    "kubectl get pods | grep $studentId\n"
   ]
  },
  {
   "cell_type": "markdown",
   "metadata": {},
   "source": [
    "Next, to view what containers are inside that Pod and what images are used to build those containers we run the `describe pods` command:\n"
   ]
  },
  {
   "cell_type": "code",
   "execution_count": 2,
   "metadata": {},
   "outputs": [
    {
     "name": "stdout",
     "output_type": "stream",
     "text": [
      "kubernetes-bootcamp-student1086-859899d75d-wg7mz\n",
      "Name:         kubernetes-bootcamp-student1086-859899d75d-wg7mz\n",
      "Namespace:    k8shacktenant\n",
      "Priority:     0\n",
      "Node:         worker27.etc.fr.comm.hpecorp.net/16.31.84.69\n",
      "Start Time:   Wed, 28 Apr 2021 15:22:14 +0000\n",
      "Labels:       app=kubernetes-bootcamp-student1086\n",
      "              pod-template-hash=859899d75d\n",
      "Annotations:  cni.projectcalico.org/podIP: 10.192.1.171/32\n",
      "              cni.projectcalico.org/podIPs: 10.192.1.171/32\n",
      "              kubernetes.io/psp: hcp-psp-privileged\n",
      "Status:       Running\n",
      "IP:           10.192.1.171\n",
      "IPs:\n",
      "  IP:           10.192.1.171\n",
      "Controlled By:  ReplicaSet/kubernetes-bootcamp-student1086-859899d75d\n",
      "Containers:\n",
      "  kubernetes-bootcamp:\n",
      "    Container ID:   docker://a558f497b52b3ea20f6edaf5779916e4d019935abe39936e2430bfa350ca8669\n",
      "    Image:          gcr.io/google-samples/kubernetes-bootcamp:v1\n",
      "    Image ID:       docker-pullable://gcr.io/google-samples/kubernetes-bootcamp@sha256:0d6b8ee63bb57c5f5b6156f446b3bc3b3c143d233037f3a2f00e279c8fcc64af\n",
      "    Port:           <none>\n",
      "    Host Port:      <none>\n",
      "    State:          Running\n",
      "      Started:      Wed, 28 Apr 2021 15:22:16 +0000\n",
      "    Ready:          True\n",
      "    Restart Count:  0\n",
      "    Environment:    <none>\n",
      "    Mounts:\n",
      "      /var/run/secrets/kubernetes.io/serviceaccount from default-token-zx4gf (ro)\n",
      "Conditions:\n",
      "  Type              Status\n",
      "  Initialized       True \n",
      "  Ready             True \n",
      "  ContainersReady   True \n",
      "  PodScheduled      True \n",
      "Volumes:\n",
      "  default-token-zx4gf:\n",
      "    Type:        Secret (a volume populated by a Secret)\n",
      "    SecretName:  default-token-zx4gf\n",
      "    Optional:    false\n",
      "QoS Class:       BestEffort\n",
      "Node-Selectors:  <none>\n",
      "Tolerations:     node.kubernetes.io/not-ready:NoExecute op=Exists for 300s\n",
      "                 node.kubernetes.io/unreachable:NoExecute op=Exists for 300s\n",
      "Events:\n",
      "  Type    Reason     Age    From               Message\n",
      "  ----    ------     ----   ----               -------\n",
      "  Normal  Pulling    8m41s  kubelet            Pulling image \"gcr.io/google-samples/kubernetes-bootcamp:v1\"\n",
      "  Normal  Pulled     8m41s  kubelet            Successfully pulled image \"gcr.io/google-samples/kubernetes-bootcamp:v1\"\n",
      "  Normal  Created    8m40s  kubelet            Created container kubernetes-bootcamp\n",
      "  Normal  Started    8m40s  kubelet            Started container kubernetes-bootcamp\n",
      "  Normal  Scheduled  7m9s   default-scheduler  Successfully assigned k8shacktenant/kubernetes-bootcamp-student1086-859899d75d-wg7mz to worker27.etc.fr.comm.hpecorp.net\n"
     ]
    }
   ],
   "source": [
    "POD_NAME=$(kubectl get pods -o go-template --template '{{range .items}}{{.metadata.name}}{{\"\\n\"}}{{end}}' | grep $studentId) \n",
    "echo $POD_NAME\n",
    "kubectl describe pods $POD_NAME"
   ]
  },
  {
   "cell_type": "markdown",
   "metadata": {},
   "source": [
    "We see here details about the Pod’s container: IP address, the ports used and a list of events related to the lifecycle of the Pod.\n",
    "\n",
    "The output of the `describe` command is extensive and covers some concepts that we didn’t explain yet, but don’t worry, they will become familiar by the end of this bootcamp.\n",
    "\n",
    ">Note: the describe command can be used to get detailed information about most of the kubernetes primitives: node, pods, deployments. The describe output is designed to be human readable, not to be scripted against."
   ]
  },
  {
   "cell_type": "markdown",
   "metadata": {},
   "source": [
    "#### Step 2 of 4\n",
    "\n",
    "Recall that Pods are running in an isolated, private network - so we need to proxy access to them so we can debug and interact with them. To do this, we created a port-forward in [Module 2](./3-WKSHP-K8S101-mod2.ipynb) using the `kubectl port-forward` command in a second terminal window. \n",
    "\n",
    "To see the output of our application, run can also call the API using a `curl` request.\n",
    "\n",
    "`curl http://localhost:$port/api/v1/namespaces/default/pods/$POD_NAME/proxy/`\n",
    "\n",
    "The url is the route to the API of the Pod."
   ]
  },
  {
   "cell_type": "code",
   "execution_count": 4,
   "metadata": {},
   "outputs": [
    {
     "name": "stdout",
     "output_type": "stream",
     "text": [
      "Name of the Pod: kubernetes-bootcamp-student1086-859899d75d-wg7mz\n",
      "Port number: 9086\n",
      "Hello Kubernetes bootcamp! | Running on: kubernetes-bootcamp-student1086-859899d75d-wg7mz | v=1\n"
     ]
    }
   ],
   "source": [
    "port=$(expr $(echo ${studentId} | tr -cd '[[:digit:]]') + 8000)\n",
    "\n",
    "echo Name of the Pod: $POD_NAME\n",
    "echo Port number: $port\n",
    "\n",
    "curl http://localhost:$port/api/v1/namespaces/default/pods/$POD_NAME/proxy/"
   ]
  },
  {
   "cell_type": "markdown",
   "metadata": {},
   "source": [
    "#### Step 3 of 4\n",
    "\n",
    "Anything that the application would normally send to `STDOUT` becomes logs for the container within the Pod. We can retrieve these logs using the `kubectl logs` command:"
   ]
  },
  {
   "cell_type": "code",
   "execution_count": 5,
   "metadata": {},
   "outputs": [
    {
     "name": "stdout",
     "output_type": "stream",
     "text": [
      "Kubernetes Bootcamp App Started At: 2021-04-28T15:22:16.366Z | Running On:  kubernetes-bootcamp-student1086-859899d75d-wg7mz \n",
      "\n",
      "Running On: kubernetes-bootcamp-student1086-859899d75d-wg7mz | Total Requests: 1 | App Uptime: 233.921 seconds | Log Time: 2021-04-28T15:26:10.288Z\n",
      "Running On: kubernetes-bootcamp-student1086-859899d75d-wg7mz | Total Requests: 2 | App Uptime: 266.116 seconds | Log Time: 2021-04-28T15:26:42.482Z\n",
      "Running On: kubernetes-bootcamp-student1086-859899d75d-wg7mz | Total Requests: 3 | App Uptime: 280.856 seconds | Log Time: 2021-04-28T15:26:57.222Z\n",
      "Running On: kubernetes-bootcamp-student1086-859899d75d-wg7mz | Total Requests: 4 | App Uptime: 716.919 seconds | Log Time: 2021-04-28T15:34:13.285Z\n"
     ]
    }
   ],
   "source": [
    "kubectl logs $POD_NAME"
   ]
  },
  {
   "cell_type": "markdown",
   "metadata": {},
   "source": [
    ">The name of the container itself can be omitted since we only have a single container in the Pod."
   ]
  },
  {
   "cell_type": "markdown",
   "metadata": {},
   "source": [
    "#### Step 4 of 4\n",
    "\n",
    "We can execute commands directly on the container once the Pod is up and running. For this, we use the `exec` command and use the name of the Pod as a parameter. Let’s list the environment variables:"
   ]
  },
  {
   "cell_type": "code",
   "execution_count": 6,
   "metadata": {},
   "outputs": [
    {
     "name": "stdout",
     "output_type": "stream",
     "text": [
      "PATH=/usr/local/sbin:/usr/local/bin:/usr/sbin:/usr/bin:/sbin:/bin\n",
      "HOSTNAME=kubernetes-bootcamp-student1086-859899d75d-wg7mz\n",
      "KUBERNETES_PORT_443_TCP_PORT=443\n",
      "KUBERNETES_PORT_443_TCP_ADDR=10.96.0.1\n",
      "KUBERNETES_SERVICE_HOST=10.96.0.1\n",
      "KUBERNETES_SERVICE_PORT=443\n",
      "KUBERNETES_SERVICE_PORT_HTTPS=443\n",
      "KUBERNETES_PORT=tcp://10.96.0.1:443\n",
      "KUBERNETES_PORT_443_TCP=tcp://10.96.0.1:443\n",
      "KUBERNETES_PORT_443_TCP_PROTO=tcp\n",
      "NPM_CONFIG_LOGLEVEL=info\n",
      "NODE_VERSION=6.3.1\n",
      "HOME=/root\n"
     ]
    }
   ],
   "source": [
    "kubectl exec $POD_NAME -- env"
   ]
  },
  {
   "cell_type": "markdown",
   "metadata": {},
   "source": [
    ">Again, worth mentioning that the name of the container itself can be omitted since we only have a single container in the Pod.\n",
    "\n",
    "Next let’s check the source code of the app in the server.js file:\n"
   ]
  },
  {
   "cell_type": "code",
   "execution_count": 7,
   "metadata": {},
   "outputs": [
    {
     "name": "stdout",
     "output_type": "stream",
     "text": [
      "var http = require('http');\n",
      "var requests=0;\n",
      "var podname= process.env.HOSTNAME;\n",
      "var startTime;\n",
      "var host;\n",
      "var handleRequest = function(request, response) {\n",
      "  response.setHeader('Content-Type', 'text/plain');\n",
      "  response.writeHead(200);\n",
      "  response.write(\"Hello Kubernetes bootcamp! | Running on: \");\n",
      "  response.write(host);\n",
      "  response.end(\" | v=1\\n\");\n",
      "  console.log(\"Running On:\" ,host, \"| Total Requests:\", ++requests,\"| App Uptime:\", (new Date() - startTime)/1000 , \"seconds\", \"| Log Time:\",new Date());\n",
      "}\n",
      "var www = http.createServer(handleRequest);\n",
      "www.listen(8080,function () {\n",
      "    startTime = new Date();;\n",
      "    host = process.env.HOSTNAME;\n",
      "    console.log (\"Kubernetes Bootcamp App Started At:\",startTime, \"| Running On: \" ,host, \"\\n\" );\n",
      "});\n"
     ]
    }
   ],
   "source": [
    "kubectl exec $POD_NAME -- cat server.js"
   ]
  },
  {
   "cell_type": "markdown",
   "metadata": {},
   "source": [
    "Go back to your ` Terminal ` session and stop the port-forward, using CTRL-C"
   ]
  },
  {
   "cell_type": "markdown",
   "metadata": {},
   "source": [
    "This terminates module 3. Let's continue with [module 4, Expose your app publicly](./5-WKSHP-K8S101-mod4.ipynb)."
   ]
  },
  {
   "cell_type": "code",
   "execution_count": null,
   "metadata": {},
   "outputs": [],
   "source": []
  }
 ],
 "metadata": {
  "kernelspec": {
   "display_name": "Bash",
   "language": "bash",
   "name": "bash"
  },
  "language_info": {
   "codemirror_mode": "shell",
   "file_extension": ".sh",
   "mimetype": "text/x-sh",
   "name": "bash"
  }
 },
 "nbformat": 4,
 "nbformat_minor": 4
}
